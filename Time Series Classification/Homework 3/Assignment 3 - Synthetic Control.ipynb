{
 "cells": [
  {
   "cell_type": "markdown",
   "id": "315edc2d",
   "metadata": {},
   "source": [
    "# Assignment 3\n",
    "\n",
    "In this analysis five different datasets are selected from http://www.timeseriesclassification.com/. Several models are trained for each dataset. Two different representations each with two different parameter sets are used to build the model. Then, distances between the time series are calculated using 4 different distance measures. In the classification step, 3 different k values are used in the K-NN algorithm. Accuracy of each model is calculated to determine the best performing model. Finally, the best performing model is tested on a seperate test set."
   ]
  },
  {
   "cell_type": "code",
   "execution_count": 48,
   "id": "6c7b6082",
   "metadata": {
    "scrolled": true
   },
   "outputs": [],
   "source": [
    "library(data.table)\n",
    "library(ggplot2)\n",
    "library(TSrepr)\n",
    "library(caret)\n",
    "library(TSdist)\n",
    "library(dtw)\n",
    "library(zoo)\n",
    "library(rpart)\n",
    "library(rattle)\n",
    "require(TunePareto)\n",
    "\n",
    "setwd(\"C:/Users/alpsr/Desktop/Assignment 3\")"
   ]
  },
  {
   "cell_type": "markdown",
   "id": "724534f1",
   "metadata": {},
   "source": [
    "## Dataset 5: Synthetic Control\n",
    "\n",
    "In this notebook, Synthetic Control dataset is evaluated. This dataset contains 300 training time series and 300 test time series. There are 6 different classes. First six time series in the dataset are as follows."
   ]
  },
  {
   "cell_type": "code",
   "execution_count": 49,
   "id": "5edfa319",
   "metadata": {},
   "outputs": [],
   "source": [
    "dataset = 'SyntheticControl'\n",
    "train_data_path=sprintf('%s/%s/%s_TRAIN.txt',getwd(),dataset,dataset)"
   ]
  },
  {
   "cell_type": "code",
   "execution_count": 50,
   "id": "040247ed",
   "metadata": {},
   "outputs": [
    {
     "data": {
      "text/html": [
       "<table class=\"dataframe\">\n",
       "<caption>A data.table: 6 × 62</caption>\n",
       "<thead>\n",
       "\t<tr><th scope=col>ID</th><th scope=col>Class</th><th scope=col>1</th><th scope=col>2</th><th scope=col>3</th><th scope=col>4</th><th scope=col>5</th><th scope=col>6</th><th scope=col>7</th><th scope=col>8</th><th scope=col>...</th><th scope=col>51</th><th scope=col>52</th><th scope=col>53</th><th scope=col>54</th><th scope=col>55</th><th scope=col>56</th><th scope=col>57</th><th scope=col>58</th><th scope=col>59</th><th scope=col>60</th></tr>\n",
       "\t<tr><th scope=col>&lt;int&gt;</th><th scope=col>&lt;fct&gt;</th><th scope=col>&lt;dbl&gt;</th><th scope=col>&lt;dbl&gt;</th><th scope=col>&lt;dbl&gt;</th><th scope=col>&lt;dbl&gt;</th><th scope=col>&lt;dbl&gt;</th><th scope=col>&lt;dbl&gt;</th><th scope=col>&lt;dbl&gt;</th><th scope=col>&lt;dbl&gt;</th><th scope=col>...</th><th scope=col>&lt;dbl&gt;</th><th scope=col>&lt;dbl&gt;</th><th scope=col>&lt;dbl&gt;</th><th scope=col>&lt;dbl&gt;</th><th scope=col>&lt;dbl&gt;</th><th scope=col>&lt;dbl&gt;</th><th scope=col>&lt;dbl&gt;</th><th scope=col>&lt;dbl&gt;</th><th scope=col>&lt;dbl&gt;</th><th scope=col>&lt;dbl&gt;</th></tr>\n",
       "</thead>\n",
       "<tbody>\n",
       "\t<tr><td>1</td><td>1</td><td>-0.3769356</td><td> 1.22486430</td><td> 0.3438744</td><td> 0.3284540</td><td>-0.3376094</td><td> 1.02651400</td><td>-1.3309960</td><td>-0.6578003</td><td>...</td><td> 0.37071200</td><td>-1.5681650</td><td> 1.02186260</td><td>-1.4297483</td><td> 1.356966</td><td> 1.3727813</td><td> 0.6635578</td><td> 0.9183460</td><td>-1.31174170</td><td>-1.19714620</td></tr>\n",
       "\t<tr><td>2</td><td>1</td><td> 0.6444062</td><td> 0.41326914</td><td>-0.8622785</td><td>-1.4973857</td><td>-0.4214578</td><td>-0.21421485</td><td>-1.2921314</td><td> 0.9568977</td><td>...</td><td> 1.31726790</td><td>-0.8025282</td><td>-1.12128700</td><td> 0.9893190</td><td>-1.109687</td><td> 0.2198564</td><td> 0.6300336</td><td> 1.3981403</td><td> 0.08574208</td><td> 0.02499741</td></tr>\n",
       "\t<tr><td>3</td><td>1</td><td>-0.9786674</td><td>-0.40623244</td><td> 0.8224286</td><td>-1.4082424</td><td>-1.6767337</td><td>-0.49063202</td><td> 1.4045976</td><td> 1.1685996</td><td>...</td><td>-0.82878343</td><td>-0.7628843</td><td> 1.38297230</td><td>-0.8691028</td><td> 1.277252</td><td>-0.1989668</td><td> 0.9668094</td><td> 0.6661290</td><td> 0.10699555</td><td> 0.08271546</td></tr>\n",
       "\t<tr><td>4</td><td>1</td><td>-0.2365366</td><td>-0.09817465</td><td> 0.3670918</td><td> 1.3668598</td><td> 0.4982812</td><td>-0.30022317</td><td> 1.7156337</td><td> 0.9021076</td><td>...</td><td> 0.06890446</td><td>-1.4996038</td><td> 0.40674365</td><td> 1.2891530</td><td>-1.119731</td><td>-0.9959846</td><td> 1.6511352</td><td>-1.1870984</td><td> 0.02546335</td><td>-0.84151833</td></tr>\n",
       "\t<tr><td>5</td><td>1</td><td> 1.4907351</td><td> 1.32524300</td><td> 1.6268292</td><td>-0.3170562</td><td>-1.0989904</td><td>-0.02221261</td><td> 0.5969804</td><td> 1.6673392</td><td>...</td><td> 0.81506544</td><td> 1.0299949</td><td>-1.49616070</td><td>-1.1674420</td><td> 1.484208</td><td>-0.3730204</td><td>-0.8432813</td><td>-0.2097938</td><td> 0.13772357</td><td> 0.71654152</td></tr>\n",
       "\t<tr><td>6</td><td>1</td><td> 1.6433162</td><td> 1.76401080</td><td> 0.4377555</td><td> 0.1993101</td><td>-1.5676161</td><td>-0.71911748</td><td>-1.0941885</td><td> 1.0331764</td><td>...</td><td> 0.28208201</td><td>-1.3686807</td><td> 0.09789432</td><td>-0.4252310</td><td> 0.575449</td><td>-0.9120210</td><td> 1.3174235</td><td>-0.3972652</td><td> 0.20926698</td><td>-0.04531146</td></tr>\n",
       "</tbody>\n",
       "</table>\n"
      ],
      "text/latex": [
       "A data.table: 6 × 62\n",
       "\\begin{tabular}{lllllllllllllllllllll}\n",
       " ID & Class & 1 & 2 & 3 & 4 & 5 & 6 & 7 & 8 & ... & 51 & 52 & 53 & 54 & 55 & 56 & 57 & 58 & 59 & 60\\\\\n",
       " <int> & <fct> & <dbl> & <dbl> & <dbl> & <dbl> & <dbl> & <dbl> & <dbl> & <dbl> & ... & <dbl> & <dbl> & <dbl> & <dbl> & <dbl> & <dbl> & <dbl> & <dbl> & <dbl> & <dbl>\\\\\n",
       "\\hline\n",
       "\t 1 & 1 & -0.3769356 &  1.22486430 &  0.3438744 &  0.3284540 & -0.3376094 &  1.02651400 & -1.3309960 & -0.6578003 & ... &  0.37071200 & -1.5681650 &  1.02186260 & -1.4297483 &  1.356966 &  1.3727813 &  0.6635578 &  0.9183460 & -1.31174170 & -1.19714620\\\\\n",
       "\t 2 & 1 &  0.6444062 &  0.41326914 & -0.8622785 & -1.4973857 & -0.4214578 & -0.21421485 & -1.2921314 &  0.9568977 & ... &  1.31726790 & -0.8025282 & -1.12128700 &  0.9893190 & -1.109687 &  0.2198564 &  0.6300336 &  1.3981403 &  0.08574208 &  0.02499741\\\\\n",
       "\t 3 & 1 & -0.9786674 & -0.40623244 &  0.8224286 & -1.4082424 & -1.6767337 & -0.49063202 &  1.4045976 &  1.1685996 & ... & -0.82878343 & -0.7628843 &  1.38297230 & -0.8691028 &  1.277252 & -0.1989668 &  0.9668094 &  0.6661290 &  0.10699555 &  0.08271546\\\\\n",
       "\t 4 & 1 & -0.2365366 & -0.09817465 &  0.3670918 &  1.3668598 &  0.4982812 & -0.30022317 &  1.7156337 &  0.9021076 & ... &  0.06890446 & -1.4996038 &  0.40674365 &  1.2891530 & -1.119731 & -0.9959846 &  1.6511352 & -1.1870984 &  0.02546335 & -0.84151833\\\\\n",
       "\t 5 & 1 &  1.4907351 &  1.32524300 &  1.6268292 & -0.3170562 & -1.0989904 & -0.02221261 &  0.5969804 &  1.6673392 & ... &  0.81506544 &  1.0299949 & -1.49616070 & -1.1674420 &  1.484208 & -0.3730204 & -0.8432813 & -0.2097938 &  0.13772357 &  0.71654152\\\\\n",
       "\t 6 & 1 &  1.6433162 &  1.76401080 &  0.4377555 &  0.1993101 & -1.5676161 & -0.71911748 & -1.0941885 &  1.0331764 & ... &  0.28208201 & -1.3686807 &  0.09789432 & -0.4252310 &  0.575449 & -0.9120210 &  1.3174235 & -0.3972652 &  0.20926698 & -0.04531146\\\\\n",
       "\\end{tabular}\n"
      ],
      "text/markdown": [
       "\n",
       "A data.table: 6 × 62\n",
       "\n",
       "| ID &lt;int&gt; | Class &lt;fct&gt; | 1 &lt;dbl&gt; | 2 &lt;dbl&gt; | 3 &lt;dbl&gt; | 4 &lt;dbl&gt; | 5 &lt;dbl&gt; | 6 &lt;dbl&gt; | 7 &lt;dbl&gt; | 8 &lt;dbl&gt; | ... ... | 51 &lt;dbl&gt; | 52 &lt;dbl&gt; | 53 &lt;dbl&gt; | 54 &lt;dbl&gt; | 55 &lt;dbl&gt; | 56 &lt;dbl&gt; | 57 &lt;dbl&gt; | 58 &lt;dbl&gt; | 59 &lt;dbl&gt; | 60 &lt;dbl&gt; |\n",
       "|---|---|---|---|---|---|---|---|---|---|---|---|---|---|---|---|---|---|---|---|---|\n",
       "| 1 | 1 | -0.3769356 |  1.22486430 |  0.3438744 |  0.3284540 | -0.3376094 |  1.02651400 | -1.3309960 | -0.6578003 | ... |  0.37071200 | -1.5681650 |  1.02186260 | -1.4297483 |  1.356966 |  1.3727813 |  0.6635578 |  0.9183460 | -1.31174170 | -1.19714620 |\n",
       "| 2 | 1 |  0.6444062 |  0.41326914 | -0.8622785 | -1.4973857 | -0.4214578 | -0.21421485 | -1.2921314 |  0.9568977 | ... |  1.31726790 | -0.8025282 | -1.12128700 |  0.9893190 | -1.109687 |  0.2198564 |  0.6300336 |  1.3981403 |  0.08574208 |  0.02499741 |\n",
       "| 3 | 1 | -0.9786674 | -0.40623244 |  0.8224286 | -1.4082424 | -1.6767337 | -0.49063202 |  1.4045976 |  1.1685996 | ... | -0.82878343 | -0.7628843 |  1.38297230 | -0.8691028 |  1.277252 | -0.1989668 |  0.9668094 |  0.6661290 |  0.10699555 |  0.08271546 |\n",
       "| 4 | 1 | -0.2365366 | -0.09817465 |  0.3670918 |  1.3668598 |  0.4982812 | -0.30022317 |  1.7156337 |  0.9021076 | ... |  0.06890446 | -1.4996038 |  0.40674365 |  1.2891530 | -1.119731 | -0.9959846 |  1.6511352 | -1.1870984 |  0.02546335 | -0.84151833 |\n",
       "| 5 | 1 |  1.4907351 |  1.32524300 |  1.6268292 | -0.3170562 | -1.0989904 | -0.02221261 |  0.5969804 |  1.6673392 | ... |  0.81506544 |  1.0299949 | -1.49616070 | -1.1674420 |  1.484208 | -0.3730204 | -0.8432813 | -0.2097938 |  0.13772357 |  0.71654152 |\n",
       "| 6 | 1 |  1.6433162 |  1.76401080 |  0.4377555 |  0.1993101 | -1.5676161 | -0.71911748 | -1.0941885 |  1.0331764 | ... |  0.28208201 | -1.3686807 |  0.09789432 | -0.4252310 |  0.575449 | -0.9120210 |  1.3174235 | -0.3972652 |  0.20926698 | -0.04531146 |\n",
       "\n"
      ],
      "text/plain": [
       "  ID Class 1          2           3          4          5          6          \n",
       "1 1  1     -0.3769356  1.22486430  0.3438744  0.3284540 -0.3376094  1.02651400\n",
       "2 2  1      0.6444062  0.41326914 -0.8622785 -1.4973857 -0.4214578 -0.21421485\n",
       "3 3  1     -0.9786674 -0.40623244  0.8224286 -1.4082424 -1.6767337 -0.49063202\n",
       "4 4  1     -0.2365366 -0.09817465  0.3670918  1.3668598  0.4982812 -0.30022317\n",
       "5 5  1      1.4907351  1.32524300  1.6268292 -0.3170562 -1.0989904 -0.02221261\n",
       "6 6  1      1.6433162  1.76401080  0.4377555  0.1993101 -1.5676161 -0.71911748\n",
       "  7          8          ... 51          52         53          54        \n",
       "1 -1.3309960 -0.6578003 ...  0.37071200 -1.5681650  1.02186260 -1.4297483\n",
       "2 -1.2921314  0.9568977 ...  1.31726790 -0.8025282 -1.12128700  0.9893190\n",
       "3  1.4045976  1.1685996 ... -0.82878343 -0.7628843  1.38297230 -0.8691028\n",
       "4  1.7156337  0.9021076 ...  0.06890446 -1.4996038  0.40674365  1.2891530\n",
       "5  0.5969804  1.6673392 ...  0.81506544  1.0299949 -1.49616070 -1.1674420\n",
       "6 -1.0941885  1.0331764 ...  0.28208201 -1.3686807  0.09789432 -0.4252310\n",
       "  55        56         57         58         59          60         \n",
       "1  1.356966  1.3727813  0.6635578  0.9183460 -1.31174170 -1.19714620\n",
       "2 -1.109687  0.2198564  0.6300336  1.3981403  0.08574208  0.02499741\n",
       "3  1.277252 -0.1989668  0.9668094  0.6661290  0.10699555  0.08271546\n",
       "4 -1.119731 -0.9959846  1.6511352 -1.1870984  0.02546335 -0.84151833\n",
       "5  1.484208 -0.3730204 -0.8432813 -0.2097938  0.13772357  0.71654152\n",
       "6  0.575449 -0.9120210  1.3174235 -0.3972652  0.20926698 -0.04531146"
      ]
     },
     "metadata": {},
     "output_type": "display_data"
    }
   ],
   "source": [
    "syn = fread(train_data_path)\n",
    "syn <- setnames(syn, \"V1\", \"Class\")\n",
    "syn <- data.table(syn)\n",
    "syn[, \"ID\" := 1:.N]\n",
    "syn[, \"Class\" := as.factor(Class)]\n",
    "setcolorder(syn, c(\"ID\", \"Class\"))\n",
    "colnames(syn) <- c(\"ID\", \"Class\",seq(1:60))\n",
    "syn_matrix <- as.matrix(syn[,c(-1,-2)])\n",
    "syn_long <- melt(syn,id.vars = c(\"ID\",\"Class\"))\n",
    "syn_long[,variable := as.numeric(variable)]\n",
    "syn_class <- syn$Class\n",
    "head(syn)"
   ]
  },
  {
   "cell_type": "markdown",
   "id": "95409921",
   "metadata": {},
   "source": [
    "## Classes\n",
    "\n",
    "Six classes from the dataset are as follows."
   ]
  },
  {
   "cell_type": "code",
   "execution_count": 51,
   "id": "34bf2ad5",
   "metadata": {},
   "outputs": [
    {
     "data": {
      "image/png": "[encoded data removed]",
      "text/plain": [
       "plot without title"
      ]
     },
     "metadata": {
      "image/png": {
       "height": 420,
       "width": 420
      }
     },
     "output_type": "display_data"
    }
   ],
   "source": [
    "syn_class_1 <- melt(syn[,head(.SD, 1), Class],id.vars = c(\"ID\",\"Class\"))\n",
    "ggplot(syn_class_1, aes(x = variable, y = value, group = Class)) +\n",
    "geom_line(aes(color = Class))+\n",
    "facet_wrap(vars(Class))"
   ]
  },
  {
   "cell_type": "markdown",
   "id": "c10bfad9",
   "metadata": {},
   "source": [
    "## Representations\n",
    "\n",
    "Two different representations are used in this analysis. First one is PLA (piecewise linear approximation) and second is the APCA (Adaptive Piecewise Constant Approximation) using regression trees.\n",
    "\n",
    "### Piecewise Linear Approximation"
   ]
  },
  {
   "cell_type": "code",
   "execution_count": 52,
   "id": "36767e66",
   "metadata": {},
   "outputs": [],
   "source": [
    "syn_pla_q12 <- repr_matrix(syn_matrix,repr_pla,args = list(times = 10, return = 'points'))\n",
    "syn_pla_q6 <- repr_matrix(syn_matrix,repr_pla,args = list(times = 5,return = 'points'))"
   ]
  },
  {
   "cell_type": "code",
   "execution_count": 53,
   "id": "d6e2d9d4",
   "metadata": {},
   "outputs": [],
   "source": [
    "index1 = c(seq(1,59, by = 6),60)\n",
    "for(i in seq(1,300)){\n",
    "    syn_long[(variable %in% index1) & (ID == i), PLA_q12 := syn_pla_q12[i,]]\n",
    "    syn_long[ID == i, PLA_q12_fit_value := syn_long[ID == i, na.approx(PLA_q12)]]\n",
    "}\n",
    "\n",
    "index2 = c(seq(1,59, by = 12),60)\n",
    "for(i in seq(1,300)){\n",
    "    syn_long[(variable %in% index2) & (ID == i), PLA_q6 := syn_pla_q6[i,]]\n",
    "    syn_long[ID == i, PLA_q6_fit_value := syn_long[ID == i, na.approx(PLA_q6)]]\n",
    "}"
   ]
  },
  {
   "cell_type": "markdown",
   "id": "11fcaa55",
   "metadata": {},
   "source": [
    "### Regression Trees"
   ]
  },
  {
   "cell_type": "code",
   "execution_count": 54,
   "id": "aac9ab55",
   "metadata": {},
   "outputs": [
    {
     "data": {
      "text/html": [
       "<table class=\"dataframe\">\n",
       "<caption>A data.table: 6 × 10</caption>\n",
       "<thead>\n",
       "\t<tr><th scope=col>ID</th><th scope=col>Class</th><th scope=col>variable</th><th scope=col>value</th><th scope=col>PLA_q12</th><th scope=col>PLA_q12_fit_value</th><th scope=col>PLA_q6</th><th scope=col>PLA_q6_fit_value</th><th scope=col>Tree_fit_d3</th><th scope=col>Tree_fit_d4</th></tr>\n",
       "\t<tr><th scope=col>&lt;int&gt;</th><th scope=col>&lt;fct&gt;</th><th scope=col>&lt;dbl&gt;</th><th scope=col>&lt;dbl&gt;</th><th scope=col>&lt;dbl&gt;</th><th scope=col>&lt;dbl&gt;</th><th scope=col>&lt;dbl&gt;</th><th scope=col>&lt;dbl&gt;</th><th scope=col>&lt;dbl&gt;</th><th scope=col>&lt;dbl&gt;</th></tr>\n",
       "</thead>\n",
       "<tbody>\n",
       "\t<tr><td>1</td><td>1</td><td>1</td><td>-0.3769356</td><td>-0.3769356</td><td>-0.3769356</td><td>-0.3769356</td><td>-0.3769356</td><td> 0.39874855</td><td> 0.39874855</td></tr>\n",
       "\t<tr><td>2</td><td>1</td><td>1</td><td> 0.6444062</td><td> 0.6444062</td><td> 0.6444062</td><td> 0.6444062</td><td> 0.6444062</td><td>-0.43892994</td><td>-0.43892994</td></tr>\n",
       "\t<tr><td>3</td><td>1</td><td>1</td><td>-0.9786674</td><td>-0.9786674</td><td>-0.9786674</td><td>-0.9786674</td><td>-0.9786674</td><td>-0.37915240</td><td>-0.37915240</td></tr>\n",
       "\t<tr><td>4</td><td>1</td><td>1</td><td>-0.2365366</td><td>-0.2365366</td><td>-0.2365366</td><td>-0.2365366</td><td>-0.2365366</td><td> 0.39591243</td><td> 0.39591243</td></tr>\n",
       "\t<tr><td>5</td><td>1</td><td>1</td><td> 1.4907351</td><td> 1.4907351</td><td> 1.4907351</td><td> 1.4907351</td><td> 1.4907351</td><td> 0.30812580</td><td> 0.30812580</td></tr>\n",
       "\t<tr><td>6</td><td>1</td><td>1</td><td> 1.6433162</td><td> 1.6433162</td><td> 1.6433162</td><td> 1.6433162</td><td> 1.6433162</td><td>-0.04912771</td><td>-0.04912771</td></tr>\n",
       "</tbody>\n",
       "</table>\n"
      ],
      "text/latex": [
       "A data.table: 6 × 10\n",
       "\\begin{tabular}{llllllllll}\n",
       " ID & Class & variable & value & PLA\\_q12 & PLA\\_q12\\_fit\\_value & PLA\\_q6 & PLA\\_q6\\_fit\\_value & Tree\\_fit\\_d3 & Tree\\_fit\\_d4\\\\\n",
       " <int> & <fct> & <dbl> & <dbl> & <dbl> & <dbl> & <dbl> & <dbl> & <dbl> & <dbl>\\\\\n",
       "\\hline\n",
       "\t 1 & 1 & 1 & -0.3769356 & -0.3769356 & -0.3769356 & -0.3769356 & -0.3769356 &  0.39874855 &  0.39874855\\\\\n",
       "\t 2 & 1 & 1 &  0.6444062 &  0.6444062 &  0.6444062 &  0.6444062 &  0.6444062 & -0.43892994 & -0.43892994\\\\\n",
       "\t 3 & 1 & 1 & -0.9786674 & -0.9786674 & -0.9786674 & -0.9786674 & -0.9786674 & -0.37915240 & -0.37915240\\\\\n",
       "\t 4 & 1 & 1 & -0.2365366 & -0.2365366 & -0.2365366 & -0.2365366 & -0.2365366 &  0.39591243 &  0.39591243\\\\\n",
       "\t 5 & 1 & 1 &  1.4907351 &  1.4907351 &  1.4907351 &  1.4907351 &  1.4907351 &  0.30812580 &  0.30812580\\\\\n",
       "\t 6 & 1 & 1 &  1.6433162 &  1.6433162 &  1.6433162 &  1.6433162 &  1.6433162 & -0.04912771 & -0.04912771\\\\\n",
       "\\end{tabular}\n"
      ],
      "text/markdown": [
       "\n",
       "A data.table: 6 × 10\n",
       "\n",
       "| ID &lt;int&gt; | Class &lt;fct&gt; | variable &lt;dbl&gt; | value &lt;dbl&gt; | PLA_q12 &lt;dbl&gt; | PLA_q12_fit_value &lt;dbl&gt; | PLA_q6 &lt;dbl&gt; | PLA_q6_fit_value &lt;dbl&gt; | Tree_fit_d3 &lt;dbl&gt; | Tree_fit_d4 &lt;dbl&gt; |\n",
       "|---|---|---|---|---|---|---|---|---|---|\n",
       "| 1 | 1 | 1 | -0.3769356 | -0.3769356 | -0.3769356 | -0.3769356 | -0.3769356 |  0.39874855 |  0.39874855 |\n",
       "| 2 | 1 | 1 |  0.6444062 |  0.6444062 |  0.6444062 |  0.6444062 |  0.6444062 | -0.43892994 | -0.43892994 |\n",
       "| 3 | 1 | 1 | -0.9786674 | -0.9786674 | -0.9786674 | -0.9786674 | -0.9786674 | -0.37915240 | -0.37915240 |\n",
       "| 4 | 1 | 1 | -0.2365366 | -0.2365366 | -0.2365366 | -0.2365366 | -0.2365366 |  0.39591243 |  0.39591243 |\n",
       "| 5 | 1 | 1 |  1.4907351 |  1.4907351 |  1.4907351 |  1.4907351 |  1.4907351 |  0.30812580 |  0.30812580 |\n",
       "| 6 | 1 | 1 |  1.6433162 |  1.6433162 |  1.6433162 |  1.6433162 |  1.6433162 | -0.04912771 | -0.04912771 |\n",
       "\n"
      ],
      "text/plain": [
       "  ID Class variable value      PLA_q12    PLA_q12_fit_value PLA_q6    \n",
       "1 1  1     1        -0.3769356 -0.3769356 -0.3769356        -0.3769356\n",
       "2 2  1     1         0.6444062  0.6444062  0.6444062         0.6444062\n",
       "3 3  1     1        -0.9786674 -0.9786674 -0.9786674        -0.9786674\n",
       "4 4  1     1        -0.2365366 -0.2365366 -0.2365366        -0.2365366\n",
       "5 5  1     1         1.4907351  1.4907351  1.4907351         1.4907351\n",
       "6 6  1     1         1.6433162  1.6433162  1.6433162         1.6433162\n",
       "  PLA_q6_fit_value Tree_fit_d3 Tree_fit_d4\n",
       "1 -0.3769356        0.39874855  0.39874855\n",
       "2  0.6444062       -0.43892994 -0.43892994\n",
       "3 -0.9786674       -0.37915240 -0.37915240\n",
       "4 -0.2365366        0.39591243  0.39591243\n",
       "5  1.4907351        0.30812580  0.30812580\n",
       "6  1.6433162       -0.04912771 -0.04912771"
      ]
     },
     "metadata": {},
     "output_type": "display_data"
    }
   ],
   "source": [
    "for(i in seq(1,300)){\n",
    "    selected_series <- syn_long[ID == i]\n",
    "    tree_fit=rpart(value~variable,selected_series,control=rpart.control(maxdepth=3, cp = 0, minsplit = 20, minbucket = 10))\n",
    "    #fancyRpartPlot(tree_fit)\n",
    "    syn_long[ID == i, Tree_fit_d3 := predict(tree_fit, selected_series)]\n",
    "}\n",
    "\n",
    "for(j in seq(1,300)){\n",
    "    selected_series <- syn_long[ID == j]\n",
    "    tree_fit=rpart(value~variable,selected_series,control=rpart.control(maxdepth=4, cp = 0, minsplit = 20, minbucket = 10))\n",
    "    #fancyRpartPlot(tree_fit)\n",
    "    syn_long[ID == j, Tree_fit_d4 := predict(tree_fit, selected_series)]\n",
    "}\n",
    "\n",
    "head(syn_long)"
   ]
  },
  {
   "cell_type": "markdown",
   "id": "d4cacd08",
   "metadata": {},
   "source": [
    "## Distance Measures\n",
    "\n",
    "Three different distances measures are used. First one is the Euclidean Distance. Remaining ones are Dynamic Time Warping (DTW), Longest Common Subsequence (LCSS) and Edit Distance with Real Penalties (ERP).\n",
    "\n",
    "### Euclidean Distance"
   ]
  },
  {
   "cell_type": "code",
   "execution_count": 55,
   "id": "b87dab96",
   "metadata": {},
   "outputs": [],
   "source": [
    "syn_euclidean_raw <- as.matrix(dist(syn_matrix))\n",
    "\n",
    "syn_PLA_q12_matrix <- dcast(syn_long, ID + Class ~ variable, value.var = \"PLA_q12_fit_value\")\n",
    "syn_PLA_q6_matrix <- dcast(syn_long, ID + Class ~ variable, value.var = \"PLA_q6_fit_value\")\n",
    "syn_RegTree_d3_matrix <- dcast(syn_long, ID + Class ~ variable, value.var = \"Tree_fit_d3\")\n",
    "syn_RegTree_d4_matrix <- dcast(syn_long, ID + Class ~ variable, value.var = \"Tree_fit_d4\")\n",
    "\n",
    "syn_euclidean_pla_q12 <- as.matrix(dist(as.matrix(syn_PLA_q12_matrix[,c(-1,-2)])))\n",
    "syn_euclidean_pla_q6 <- as.matrix(dist(as.matrix(syn_PLA_q6_matrix[,c(-1,-2)])))\n",
    "syn_euclidean_RegTree_d3 <- as.matrix(dist(as.matrix(syn_RegTree_d3_matrix[,c(-1,-2)])))\n",
    "syn_euclidean_RegTree_d4 <- as.matrix(dist(as.matrix(syn_RegTree_d4_matrix[,c(-1,-2)])))"
   ]
  },
  {
   "cell_type": "markdown",
   "id": "4798a3be",
   "metadata": {},
   "source": [
    "### Dynamic Time Warping"
   ]
  },
  {
   "cell_type": "code",
   "execution_count": null,
   "id": "267f54c7",
   "metadata": {},
   "outputs": [],
   "source": [
    "syn_dtw_pla_q12 <- as.matrix(TSDatabaseDistances(X = syn_PLA_q12_matrix[,c(-1,-2)], distance = 'dtw'))\n",
    "syn_dtw_pla_q6 <- as.matrix(TSDatabaseDistances(X = syn_PLA_q6_matrix[,c(-1,-2)], distance = 'dtw'))\n",
    "syn_dtw_RegTree_d3 <- as.matrix(TSDatabaseDistances(X = syn_RegTree_d3_matrix[,c(-1,-2)], distance = 'dtw'))\n",
    "syn_dtw_RegTree_d4 <- as.matrix(TSDatabaseDistances(X = syn_RegTree_d4_matrix[,c(-1,-2)], distance = 'dtw'))\n",
    "syn_dtw_raw <- as.matrix(TSDatabaseDistances(X = syn_matrix, distance = 'dtw'))"
   ]
  },
  {
   "cell_type": "markdown",
   "id": "d389cc18",
   "metadata": {},
   "source": [
    "### LCSS"
   ]
  },
  {
   "cell_type": "code",
   "execution_count": 57,
   "id": "f82b0410",
   "metadata": {},
   "outputs": [],
   "source": [
    "syn_lcss_raw <- as.matrix(TSDatabaseDistances(X = syn_matrix, distance = 'lcss', epsilon = 0.1))\n",
    "syn_lcss_pla_q12 <- as.matrix(TSDatabaseDistances(X = syn_PLA_q12_matrix[,c(-1,-2)], distance = 'lcss', epsilon = 0.1))\n",
    "syn_lcss_pla_q6 <- as.matrix(TSDatabaseDistances(X = syn_PLA_q6_matrix[,c(-1,-2)], distance = 'lcss', epsilon = 0.1))\n",
    "syn_lcss_RegTree_d3 <- as.matrix(TSDatabaseDistances(X = syn_RegTree_d3_matrix[,c(-1,-2)], distance = 'lcss', epsilon = 0.1))\n",
    "syn_lcss_RegTree_d4 <- as.matrix(TSDatabaseDistances(X = syn_RegTree_d4_matrix[,c(-1,-2)], distance = 'lcss', epsilon = 0.1))\n",
    "#str(syn_lcss_pla_q12)"
   ]
  },
  {
   "cell_type": "markdown",
   "id": "dd4de499",
   "metadata": {},
   "source": [
    "### ERP"
   ]
  },
  {
   "cell_type": "code",
   "execution_count": 58,
   "id": "9a86d226",
   "metadata": {},
   "outputs": [],
   "source": [
    "syn_erp_raw <- as.matrix(TSDatabaseDistances(X = syn_matrix, distance = 'erp', g = 0))\n",
    "syn_erp_pla_q12 <- as.matrix(TSDatabaseDistances(X = syn_PLA_q12_matrix[,c(-1,-2)], distance = 'erp', g = 0))\n",
    "syn_erp_pla_q6 <- as.matrix(TSDatabaseDistances(X = syn_PLA_q6_matrix[,c(-1,-2)], distance = 'erp', g = 0))\n",
    "syn_erp_RegTree_d3 <- as.matrix(TSDatabaseDistances(X = syn_RegTree_d3_matrix[,c(-1,-2)], distance = 'erp', g = 0))\n",
    "syn_erp_RegTree_d4 <- as.matrix(TSDatabaseDistances(X = syn_RegTree_d4_matrix[,c(-1,-2)], distance = 'erp', g = 0))\n",
    "#str(syn_erp_pla_q12)"
   ]
  },
  {
   "cell_type": "markdown",
   "id": "e866b00d",
   "metadata": {},
   "source": [
    "## Generating Runs\n",
    "\n",
    "After building the distance matrices, each model's performance is measured using the 10-fold stratified cross validation with 5 repeats.\n",
    "\n",
    "### Cross-Validation Runs"
   ]
  },
  {
   "cell_type": "code",
   "execution_count": 59,
   "id": "7e513af7",
   "metadata": {
    "scrolled": true
   },
   "outputs": [
    {
     "name": "stdout",
     "output_type": "stream",
     "text": [
      "List of 5\n",
      " $ Run  1:List of 10\n",
      "  ..$ Fold  1 : int [1:30] 24 50 36 38 34 57 92 85 64 74 ...\n",
      "  ..$ Fold  2 : int [1:30] 17 45 13 23 32 94 63 61 100 73 ...\n",
      "  ..$ Fold  3 : int [1:30] 1 19 15 46 28 90 95 84 99 76 ...\n",
      "  ..$ Fold  4 : int [1:30] 6 43 31 26 21 54 89 97 72 70 ...\n",
      "  ..$ Fold  5 : int [1:30] 29 8 48 33 9 58 93 88 79 87 ...\n",
      "  ..$ Fold  6 : int [1:30] 41 39 18 20 12 60 77 81 52 65 ...\n",
      "  ..$ Fold  7 : int [1:30] 10 47 42 25 3 71 96 80 82 68 ...\n",
      "  ..$ Fold  8 : int [1:30] 16 4 44 27 14 91 86 67 56 98 ...\n",
      "  ..$ Fold  9 : int [1:30] 30 37 2 49 11 62 66 55 69 51 ...\n",
      "  ..$ Fold  10: int [1:30] 40 7 5 22 35 53 59 75 83 78 ...\n",
      " $ Run  2:List of 10\n",
      "  ..$ Fold  1 : int [1:30] 32 36 42 14 25 66 89 72 77 65 ...\n",
      "  ..$ Fold  2 : int [1:30] 27 8 31 13 6 84 95 86 76 55 ...\n",
      "  ..$ Fold  3 : int [1:30] 33 37 11 49 17 74 81 99 94 96 ...\n",
      "  ..$ Fold  4 : int [1:30] 10 29 41 39 7 80 91 53 98 51 ...\n",
      "  ..$ Fold  5 : int [1:30] 24 38 46 12 9 57 68 97 92 69 ...\n",
      "  ..$ Fold  6 : int [1:30] 45 43 21 1 18 79 56 63 62 83 ...\n",
      "  ..$ Fold  7 : int [1:30] 16 5 23 35 15 71 93 73 100 59 ...\n",
      "  ..$ Fold  8 : int [1:30] 20 19 30 47 22 70 58 64 85 88 ...\n",
      "  ..$ Fold  9 : int [1:30] 2 48 3 40 26 87 78 54 75 67 ...\n",
      "  ..$ Fold  10: int [1:30] 34 4 50 44 28 52 82 60 90 61 ...\n",
      " $ Run  3:List of 10\n",
      "  ..$ Fold  1 : int [1:30] 10 12 8 45 14 93 80 53 77 56 ...\n",
      "  ..$ Fold  2 : int [1:30] 21 2 31 9 16 83 98 78 86 81 ...\n",
      "  ..$ Fold  3 : int [1:30] 15 3 48 7 18 90 89 74 96 100 ...\n",
      "  ..$ Fold  4 : int [1:30] 40 19 6 11 37 66 54 61 79 67 ...\n",
      "  ..$ Fold  5 : int [1:30] 20 41 32 33 24 69 84 64 87 59 ...\n",
      "  ..$ Fold  6 : int [1:30] 44 28 43 29 36 68 76 92 99 91 ...\n",
      "  ..$ Fold  7 : int [1:30] 1 50 22 39 27 60 97 75 52 95 ...\n",
      "  ..$ Fold  8 : int [1:30] 26 17 49 35 25 71 63 85 72 70 ...\n",
      "  ..$ Fold  9 : int [1:30] 23 47 13 4 5 73 82 65 94 55 ...\n",
      "  ..$ Fold  10: int [1:30] 34 42 30 46 38 62 88 51 57 58 ...\n",
      " $ Run  4:List of 10\n",
      "  ..$ Fold  1 : int [1:30] 5 39 42 29 48 56 80 81 72 77 ...\n",
      "  ..$ Fold  2 : int [1:30] 30 9 50 36 40 54 91 52 87 92 ...\n",
      "  ..$ Fold  3 : int [1:30] 47 13 22 1 24 57 96 73 70 64 ...\n",
      "  ..$ Fold  4 : int [1:30] 12 27 21 10 31 89 51 67 88 82 ...\n",
      "  ..$ Fold  5 : int [1:30] 19 35 16 2 49 63 84 60 76 93 ...\n",
      "  ..$ Fold  6 : int [1:30] 7 15 38 17 26 66 59 65 98 99 ...\n",
      "  ..$ Fold  7 : int [1:30] 3 45 11 8 25 75 53 85 79 61 ...\n",
      "  ..$ Fold  8 : int [1:30] 20 37 6 44 43 86 94 100 90 71 ...\n",
      "  ..$ Fold  9 : int [1:30] 32 34 23 46 14 83 68 58 95 74 ...\n",
      "  ..$ Fold  10: int [1:30] 4 18 33 28 41 97 62 55 69 78 ...\n",
      " $ Run  5:List of 10\n",
      "  ..$ Fold  1 : int [1:30] 37 43 29 19 40 65 76 92 90 98 ...\n",
      "  ..$ Fold  2 : int [1:30] 2 25 39 11 32 87 81 70 84 95 ...\n",
      "  ..$ Fold  3 : int [1:30] 48 20 36 27 49 61 54 86 94 78 ...\n",
      "  ..$ Fold  4 : int [1:30] 4 30 16 31 44 68 58 83 85 55 ...\n",
      "  ..$ Fold  5 : int [1:30] 17 5 23 6 15 100 75 64 96 63 ...\n",
      "  ..$ Fold  6 : int [1:30] 24 28 35 34 9 88 67 51 71 57 ...\n",
      "  ..$ Fold  7 : int [1:30] 41 47 8 46 10 62 66 72 97 79 ...\n",
      "  ..$ Fold  8 : int [1:30] 21 26 50 42 18 77 59 82 56 91 ...\n",
      "  ..$ Fold  9 : int [1:30] 38 13 12 33 3 53 80 52 99 60 ...\n",
      "  ..$ Fold  10: int [1:30] 14 45 1 7 22 89 73 93 74 69 ...\n"
     ]
    }
   ],
   "source": [
    "set.seed(12435)\n",
    "cv_indices = generateCVRuns(syn_class, ntimes = 5, nfold = 10, \n",
    "                            leaveOneOut = FALSE, stratified = TRUE)\n",
    "str(cv_indices)"
   ]
  },
  {
   "cell_type": "markdown",
   "id": "85a86fbf",
   "metadata": {},
   "source": [
    "### k-NN Classifier"
   ]
  },
  {
   "cell_type": "code",
   "execution_count": 60,
   "id": "fac95c0d",
   "metadata": {},
   "outputs": [],
   "source": [
    "nn_classify_cv=function(dist_matrix,train_class,test_indices,k=1){\n",
    "    \n",
    "    test_distances_to_train=dist_matrix[test_indices,]\n",
    "    test_distances_to_train=test_distances_to_train[,-test_indices]\n",
    "    train_class=train_class[-test_indices]\n",
    "    ordered_indices=apply(test_distances_to_train,1,order)\n",
    "    \n",
    "    if(k==1){\n",
    "        nearest_class=as.numeric(train_class[as.numeric(ordered_indices[1,])])\n",
    "        nearest_class=data.table(id=test_indices,nearest_class)\n",
    "    } else {\n",
    "        nearest_class=apply(ordered_indices[1:k,],2,function(x) {train_class[x]})\n",
    "        nearest_class=data.table(id=test_indices,t(nearest_class))\n",
    "    }\n",
    "    \n",
    "    long_nn_class=melt(nearest_class,'id')\n",
    "\n",
    "    class_counts=long_nn_class[,.N,list(id,value)]\n",
    "    class_counts[,predicted_prob:=N/k]\n",
    "    wide_class_prob_predictions=dcast(class_counts,id~value,value.var='predicted_prob')\n",
    "    wide_class_prob_predictions[is.na(wide_class_prob_predictions)]=0\n",
    "    class_predictions=class_counts[,list(predicted=value[which.max(N)]),by=list(id)]\n",
    "    \n",
    "    \n",
    "    return(list(prediction=class_predictions,prob_estimates=wide_class_prob_predictions))\n",
    "    \n",
    "}"
   ]
  },
  {
   "cell_type": "markdown",
   "id": "3659f5b7",
   "metadata": {},
   "source": [
    "### Testing the Models"
   ]
  },
  {
   "cell_type": "code",
   "execution_count": 61,
   "id": "34e359fc",
   "metadata": {},
   "outputs": [],
   "source": [
    "dist = list(syn_euclidean_raw,\n",
    "            syn_euclidean_pla_q12,\n",
    "            syn_euclidean_pla_q6,\n",
    "            syn_euclidean_RegTree_d3,\n",
    "            syn_euclidean_RegTree_d4,\n",
    "            syn_dtw_raw,\n",
    "            syn_dtw_pla_q12,\n",
    "            syn_dtw_pla_q6,\n",
    "            syn_dtw_RegTree_d3,\n",
    "            syn_dtw_RegTree_d4,\n",
    "            syn_lcss_raw,\n",
    "            syn_lcss_pla_q6,\n",
    "            syn_lcss_pla_q12,\n",
    "            syn_lcss_RegTree_d3,\n",
    "            syn_lcss_RegTree_d4,\n",
    "            syn_erp_raw,\n",
    "            syn_erp_pla_q6,\n",
    "            syn_erp_pla_q12,\n",
    "            syn_erp_RegTree_d3,\n",
    "            syn_erp_RegTree_d4)\n",
    "\n",
    "n_dist = 15\n",
    "nof_rep = 5\n",
    "n_fold = 10\n",
    "k_levels=c(1,5,10)\n",
    "result = vector('list',n_dist*nof_rep*n_fold*length(k_levels))\n",
    "iter = 1\n",
    "names = c(\"syn_euclidean_raw\",\"syn_euclidean_pla_q12\",\"syn_euclidean_pla_q6\",\n",
    "         \"syn_euclidean_RegTree_d3\",\"syn_euclidean_RegTree_d4\",\n",
    "         \"syn_dtw_raw\",\"syn_dtw_pla_q12\",\"syn_dtw_pla_q6\",\"syn_dtw_RegTree_d3\",\n",
    "         \"syn_dtw_RegTree_d4\",\"syn_lcss_raw\",\"syn_lcss_pla_q6\",\"syn_lcss_pla_q12\",\n",
    "         \"syn_lcss_RegTree_d3\",\"syn_lcss_RegTree_d4\",\"syn_erp_raw\",\"syn_erp_pla_q6\",\n",
    "         \"syn_erp_pla_q12\",\"syn_erp_RegTree_d3\",\"syn_erp_RegTree_d4\")"
   ]
  },
  {
   "cell_type": "code",
   "execution_count": 62,
   "id": "1467b7d8",
   "metadata": {},
   "outputs": [],
   "source": [
    "CrossValidationTrain <- function(dist,cv_index, train_class){\n",
    "    n_dist = 20\n",
    "    nof_rep = 5\n",
    "    n_fold = 10\n",
    "    k_levels=c(1,5,10)\n",
    "\n",
    "    for(m in 1:n_dist){ #\n",
    "        current_dist = dist[[m]]\n",
    "        for(i in 1:nof_rep){\n",
    "            this_fold=cv_index[[i]]\n",
    "            for(j in 1:n_fold){\n",
    "                test_indices=this_fold[[j]]\n",
    "                for(k in 1:length(k_levels)){\n",
    "                    current_k=k_levels[k]\n",
    "                    current_fold=nn_classify_cv(current_dist,train_class,test_indices,k=current_k)\n",
    "                    accuracy=sum(train_class[test_indices]==current_fold$prediction$predicted)/length(test_indices)\n",
    "                    tmp=data.table(approach=names[[m]],repid=i,foldid=j,\n",
    "                                   k=current_k,acc=accuracy)\n",
    "                    \n",
    "                    result[[iter]]=tmp\n",
    "                    iter=iter+1\n",
    "                }\n",
    "            }\n",
    "        }   \n",
    "    }\n",
    "    return(result)\n",
    "}"
   ]
  },
  {
   "cell_type": "markdown",
   "id": "7bdd4130",
   "metadata": {},
   "source": [
    "Mean and standart deviation of each model is reported below. The best performing model is ERP distance on the raw time series with a 1-NN classifier. Its mean accuracy is 98.87%."
   ]
  },
  {
   "cell_type": "code",
   "execution_count": 66,
   "id": "ee63be45",
   "metadata": {},
   "outputs": [
    {
     "data": {
      "text/html": [
       "<table class=\"dataframe\">\n",
       "<caption>A data.table: 60 × 4</caption>\n",
       "<thead>\n",
       "\t<tr><th scope=col>approach</th><th scope=col>k</th><th scope=col>Mean</th><th scope=col>SD</th></tr>\n",
       "\t<tr><th scope=col>&lt;chr&gt;</th><th scope=col>&lt;dbl&gt;</th><th scope=col>&lt;dbl&gt;</th><th scope=col>&lt;dbl&gt;</th></tr>\n",
       "</thead>\n",
       "<tbody>\n",
       "\t<tr><td>syn_erp_raw             </td><td> 1</td><td>0.9886666667</td><td>0.019760470</td></tr>\n",
       "\t<tr><td>syn_erp_raw             </td><td>10</td><td>0.9873333333</td><td>0.017676868</td></tr>\n",
       "\t<tr><td>syn_erp_raw             </td><td> 5</td><td>0.9806666667</td><td>0.023415792</td></tr>\n",
       "\t<tr><td>syn_dtw_raw             </td><td> 5</td><td>0.9773333333</td><td>0.021759352</td></tr>\n",
       "\t<tr><td>syn_dtw_raw             </td><td>10</td><td>0.9680000000</td><td>0.027733752</td></tr>\n",
       "\t<tr><td>syn_dtw_raw             </td><td> 1</td><td>0.9640000000</td><td>0.029230494</td></tr>\n",
       "\t<tr><td>syn_euclidean_raw       </td><td> 1</td><td>0.9100000000</td><td>0.035154341</td></tr>\n",
       "\t<tr><td>syn_erp_RegTree_d3      </td><td> 5</td><td>0.9066666667</td><td>0.047619048</td></tr>\n",
       "\t<tr><td>syn_erp_RegTree_d4      </td><td> 5</td><td>0.9033333333</td><td>0.048210611</td></tr>\n",
       "\t<tr><td>syn_erp_RegTree_d3      </td><td>10</td><td>0.9006666667</td><td>0.043377790</td></tr>\n",
       "\t<tr><td>syn_erp_RegTree_d4      </td><td>10</td><td>0.9000000000</td><td>0.043643578</td></tr>\n",
       "\t<tr><td>syn_erp_RegTree_d3      </td><td> 1</td><td>0.8986666667</td><td>0.049925114</td></tr>\n",
       "\t<tr><td>syn_erp_RegTree_d4      </td><td> 1</td><td>0.8940000000</td><td>0.047946493</td></tr>\n",
       "\t<tr><td>syn_euclidean_RegTree_d3</td><td> 1</td><td>0.8906666667</td><td>0.047159689</td></tr>\n",
       "\t<tr><td>syn_euclidean_RegTree_d4</td><td> 1</td><td>0.8873333333</td><td>0.048975907</td></tr>\n",
       "\t<tr><td>syn_euclidean_RegTree_d3</td><td> 5</td><td>0.8866666667</td><td>0.040406102</td></tr>\n",
       "\t<tr><td>syn_euclidean_RegTree_d3</td><td>10</td><td>0.8860000000</td><td>0.042639660</td></tr>\n",
       "\t<tr><td>syn_euclidean_raw       </td><td> 5</td><td>0.8853333333</td><td>0.050914539</td></tr>\n",
       "\t<tr><td>syn_euclidean_RegTree_d4</td><td> 5</td><td>0.8826666667</td><td>0.041644212</td></tr>\n",
       "\t<tr><td>syn_euclidean_RegTree_d4</td><td>10</td><td>0.8820000000</td><td>0.045778724</td></tr>\n",
       "\t<tr><td>syn_dtw_RegTree_d3      </td><td>10</td><td>0.8786666667</td><td>0.042994489</td></tr>\n",
       "\t<tr><td>syn_dtw_RegTree_d3      </td><td> 5</td><td>0.8773333333</td><td>0.047351630</td></tr>\n",
       "\t<tr><td>syn_dtw_RegTree_d4      </td><td>10</td><td>0.8753333333</td><td>0.040858142</td></tr>\n",
       "\t<tr><td>syn_euclidean_raw       </td><td>10</td><td>0.8740000000</td><td>0.039434782</td></tr>\n",
       "\t<tr><td>syn_dtw_RegTree_d4      </td><td> 1</td><td>0.8726666667</td><td>0.050704783</td></tr>\n",
       "\t<tr><td>syn_dtw_RegTree_d4      </td><td> 5</td><td>0.8720000000</td><td>0.049193035</td></tr>\n",
       "\t<tr><td>syn_dtw_RegTree_d3      </td><td> 1</td><td>0.8646666667</td><td>0.058866851</td></tr>\n",
       "\t<tr><td>syn_dtw_pla_q12         </td><td> 5</td><td>0.8480000000</td><td>0.062509863</td></tr>\n",
       "\t<tr><td>syn_dtw_pla_q12         </td><td> 1</td><td>0.8353333333</td><td>0.061504199</td></tr>\n",
       "\t<tr><td>syn_dtw_pla_q12         </td><td>10</td><td>0.8326666667</td><td>0.058511390</td></tr>\n",
       "\t<tr><td>syn_erp_pla_q12         </td><td>10</td><td>0.7973333333</td><td>0.063116349</td></tr>\n",
       "\t<tr><td>syn_erp_pla_q12         </td><td> 5</td><td>0.7846666667</td><td>0.067749706</td></tr>\n",
       "\t<tr><td>syn_dtw_pla_q6          </td><td> 1</td><td>0.7460000000</td><td>0.085685180</td></tr>\n",
       "\t<tr><td>syn_dtw_pla_q6          </td><td>10</td><td>0.7380000000</td><td>0.081652435</td></tr>\n",
       "\t<tr><td>syn_dtw_pla_q6          </td><td> 5</td><td>0.7353333333</td><td>0.075415704</td></tr>\n",
       "\t<tr><td>syn_euclidean_pla_q6    </td><td> 1</td><td>0.7253333333</td><td>0.073327149</td></tr>\n",
       "\t<tr><td>syn_erp_pla_q6          </td><td> 5</td><td>0.7200000000</td><td>0.083299313</td></tr>\n",
       "\t<tr><td>syn_euclidean_pla_q6    </td><td> 5</td><td>0.7186666667</td><td>0.078292434</td></tr>\n",
       "\t<tr><td>syn_erp_pla_q6          </td><td> 1</td><td>0.7166666667</td><td>0.080601480</td></tr>\n",
       "\t<tr><td>syn_erp_pla_q12         </td><td> 1</td><td>0.7073333333</td><td>0.076276737</td></tr>\n",
       "\t<tr><td>syn_erp_pla_q6          </td><td>10</td><td>0.7066666667</td><td>0.076783407</td></tr>\n",
       "\t<tr><td>syn_euclidean_pla_q6    </td><td>10</td><td>0.7006666667</td><td>0.075739738</td></tr>\n",
       "\t<tr><td>syn_euclidean_pla_q12   </td><td>10</td><td>0.6893333333</td><td>0.058492010</td></tr>\n",
       "\t<tr><td>syn_euclidean_pla_q12   </td><td> 5</td><td>0.6853333333</td><td>0.076238080</td></tr>\n",
       "\t<tr><td>syn_euclidean_pla_q12   </td><td> 1</td><td>0.6373333333</td><td>0.075183826</td></tr>\n",
       "\t<tr><td>syn_lcss_RegTree_d4     </td><td> 1</td><td>0.1186666667</td><td>0.047217353</td></tr>\n",
       "\t<tr><td>syn_lcss_RegTree_d3     </td><td> 1</td><td>0.1140000000</td><td>0.047183724</td></tr>\n",
       "\t<tr><td>syn_lcss_pla_q6         </td><td> 1</td><td>0.0866666667</td><td>0.039267673</td></tr>\n",
       "\t<tr><td>syn_lcss_RegTree_d4     </td><td> 5</td><td>0.0440000000</td><td>0.031182296</td></tr>\n",
       "\t<tr><td>syn_lcss_RegTree_d3     </td><td> 5</td><td>0.0393333333</td><td>0.034133259</td></tr>\n",
       "\t<tr><td>syn_lcss_RegTree_d3     </td><td>10</td><td>0.0266666667</td><td>0.026937401</td></tr>\n",
       "\t<tr><td>syn_lcss_pla_q12        </td><td> 1</td><td>0.0173333333</td><td>0.025412693</td></tr>\n",
       "\t<tr><td>syn_lcss_RegTree_d4     </td><td>10</td><td>0.0160000000</td><td>0.024504153</td></tr>\n",
       "\t<tr><td>syn_lcss_pla_q6         </td><td> 5</td><td>0.0120000000</td><td>0.019931857</td></tr>\n",
       "\t<tr><td>syn_lcss_pla_q6         </td><td>10</td><td>0.0006666667</td><td>0.004714045</td></tr>\n",
       "\t<tr><td>syn_lcss_pla_q12        </td><td>10</td><td>0.0006666667</td><td>0.004714045</td></tr>\n",
       "\t<tr><td>syn_lcss_raw            </td><td> 1</td><td>0.0000000000</td><td>0.000000000</td></tr>\n",
       "\t<tr><td>syn_lcss_raw            </td><td> 5</td><td>0.0000000000</td><td>0.000000000</td></tr>\n",
       "\t<tr><td>syn_lcss_raw            </td><td>10</td><td>0.0000000000</td><td>0.000000000</td></tr>\n",
       "\t<tr><td>syn_lcss_pla_q12        </td><td> 5</td><td>0.0000000000</td><td>0.000000000</td></tr>\n",
       "</tbody>\n",
       "</table>\n"
      ],
      "text/latex": [
       "A data.table: 60 × 4\n",
       "\\begin{tabular}{llll}\n",
       " approach & k & Mean & SD\\\\\n",
       " <chr> & <dbl> & <dbl> & <dbl>\\\\\n",
       "\\hline\n",
       "\t syn\\_erp\\_raw              &  1 & 0.9886666667 & 0.019760470\\\\\n",
       "\t syn\\_erp\\_raw              & 10 & 0.9873333333 & 0.017676868\\\\\n",
       "\t syn\\_erp\\_raw              &  5 & 0.9806666667 & 0.023415792\\\\\n",
       "\t syn\\_dtw\\_raw              &  5 & 0.9773333333 & 0.021759352\\\\\n",
       "\t syn\\_dtw\\_raw              & 10 & 0.9680000000 & 0.027733752\\\\\n",
       "\t syn\\_dtw\\_raw              &  1 & 0.9640000000 & 0.029230494\\\\\n",
       "\t syn\\_euclidean\\_raw        &  1 & 0.9100000000 & 0.035154341\\\\\n",
       "\t syn\\_erp\\_RegTree\\_d3       &  5 & 0.9066666667 & 0.047619048\\\\\n",
       "\t syn\\_erp\\_RegTree\\_d4       &  5 & 0.9033333333 & 0.048210611\\\\\n",
       "\t syn\\_erp\\_RegTree\\_d3       & 10 & 0.9006666667 & 0.043377790\\\\\n",
       "\t syn\\_erp\\_RegTree\\_d4       & 10 & 0.9000000000 & 0.043643578\\\\\n",
       "\t syn\\_erp\\_RegTree\\_d3       &  1 & 0.8986666667 & 0.049925114\\\\\n",
       "\t syn\\_erp\\_RegTree\\_d4       &  1 & 0.8940000000 & 0.047946493\\\\\n",
       "\t syn\\_euclidean\\_RegTree\\_d3 &  1 & 0.8906666667 & 0.047159689\\\\\n",
       "\t syn\\_euclidean\\_RegTree\\_d4 &  1 & 0.8873333333 & 0.048975907\\\\\n",
       "\t syn\\_euclidean\\_RegTree\\_d3 &  5 & 0.8866666667 & 0.040406102\\\\\n",
       "\t syn\\_euclidean\\_RegTree\\_d3 & 10 & 0.8860000000 & 0.042639660\\\\\n",
       "\t syn\\_euclidean\\_raw        &  5 & 0.8853333333 & 0.050914539\\\\\n",
       "\t syn\\_euclidean\\_RegTree\\_d4 &  5 & 0.8826666667 & 0.041644212\\\\\n",
       "\t syn\\_euclidean\\_RegTree\\_d4 & 10 & 0.8820000000 & 0.045778724\\\\\n",
       "\t syn\\_dtw\\_RegTree\\_d3       & 10 & 0.8786666667 & 0.042994489\\\\\n",
       "\t syn\\_dtw\\_RegTree\\_d3       &  5 & 0.8773333333 & 0.047351630\\\\\n",
       "\t syn\\_dtw\\_RegTree\\_d4       & 10 & 0.8753333333 & 0.040858142\\\\\n",
       "\t syn\\_euclidean\\_raw        & 10 & 0.8740000000 & 0.039434782\\\\\n",
       "\t syn\\_dtw\\_RegTree\\_d4       &  1 & 0.8726666667 & 0.050704783\\\\\n",
       "\t syn\\_dtw\\_RegTree\\_d4       &  5 & 0.8720000000 & 0.049193035\\\\\n",
       "\t syn\\_dtw\\_RegTree\\_d3       &  1 & 0.8646666667 & 0.058866851\\\\\n",
       "\t syn\\_dtw\\_pla\\_q12          &  5 & 0.8480000000 & 0.062509863\\\\\n",
       "\t syn\\_dtw\\_pla\\_q12          &  1 & 0.8353333333 & 0.061504199\\\\\n",
       "\t syn\\_dtw\\_pla\\_q12          & 10 & 0.8326666667 & 0.058511390\\\\\n",
       "\t syn\\_erp\\_pla\\_q12          & 10 & 0.7973333333 & 0.063116349\\\\\n",
       "\t syn\\_erp\\_pla\\_q12          &  5 & 0.7846666667 & 0.067749706\\\\\n",
       "\t syn\\_dtw\\_pla\\_q6           &  1 & 0.7460000000 & 0.085685180\\\\\n",
       "\t syn\\_dtw\\_pla\\_q6           & 10 & 0.7380000000 & 0.081652435\\\\\n",
       "\t syn\\_dtw\\_pla\\_q6           &  5 & 0.7353333333 & 0.075415704\\\\\n",
       "\t syn\\_euclidean\\_pla\\_q6     &  1 & 0.7253333333 & 0.073327149\\\\\n",
       "\t syn\\_erp\\_pla\\_q6           &  5 & 0.7200000000 & 0.083299313\\\\\n",
       "\t syn\\_euclidean\\_pla\\_q6     &  5 & 0.7186666667 & 0.078292434\\\\\n",
       "\t syn\\_erp\\_pla\\_q6           &  1 & 0.7166666667 & 0.080601480\\\\\n",
       "\t syn\\_erp\\_pla\\_q12          &  1 & 0.7073333333 & 0.076276737\\\\\n",
       "\t syn\\_erp\\_pla\\_q6           & 10 & 0.7066666667 & 0.076783407\\\\\n",
       "\t syn\\_euclidean\\_pla\\_q6     & 10 & 0.7006666667 & 0.075739738\\\\\n",
       "\t syn\\_euclidean\\_pla\\_q12    & 10 & 0.6893333333 & 0.058492010\\\\\n",
       "\t syn\\_euclidean\\_pla\\_q12    &  5 & 0.6853333333 & 0.076238080\\\\\n",
       "\t syn\\_euclidean\\_pla\\_q12    &  1 & 0.6373333333 & 0.075183826\\\\\n",
       "\t syn\\_lcss\\_RegTree\\_d4      &  1 & 0.1186666667 & 0.047217353\\\\\n",
       "\t syn\\_lcss\\_RegTree\\_d3      &  1 & 0.1140000000 & 0.047183724\\\\\n",
       "\t syn\\_lcss\\_pla\\_q6          &  1 & 0.0866666667 & 0.039267673\\\\\n",
       "\t syn\\_lcss\\_RegTree\\_d4      &  5 & 0.0440000000 & 0.031182296\\\\\n",
       "\t syn\\_lcss\\_RegTree\\_d3      &  5 & 0.0393333333 & 0.034133259\\\\\n",
       "\t syn\\_lcss\\_RegTree\\_d3      & 10 & 0.0266666667 & 0.026937401\\\\\n",
       "\t syn\\_lcss\\_pla\\_q12         &  1 & 0.0173333333 & 0.025412693\\\\\n",
       "\t syn\\_lcss\\_RegTree\\_d4      & 10 & 0.0160000000 & 0.024504153\\\\\n",
       "\t syn\\_lcss\\_pla\\_q6          &  5 & 0.0120000000 & 0.019931857\\\\\n",
       "\t syn\\_lcss\\_pla\\_q6          & 10 & 0.0006666667 & 0.004714045\\\\\n",
       "\t syn\\_lcss\\_pla\\_q12         & 10 & 0.0006666667 & 0.004714045\\\\\n",
       "\t syn\\_lcss\\_raw             &  1 & 0.0000000000 & 0.000000000\\\\\n",
       "\t syn\\_lcss\\_raw             &  5 & 0.0000000000 & 0.000000000\\\\\n",
       "\t syn\\_lcss\\_raw             & 10 & 0.0000000000 & 0.000000000\\\\\n",
       "\t syn\\_lcss\\_pla\\_q12         &  5 & 0.0000000000 & 0.000000000\\\\\n",
       "\\end{tabular}\n"
      ],
      "text/markdown": [
       "\n",
       "A data.table: 60 × 4\n",
       "\n",
       "| approach &lt;chr&gt; | k &lt;dbl&gt; | Mean &lt;dbl&gt; | SD &lt;dbl&gt; |\n",
       "|---|---|---|---|\n",
       "| syn_erp_raw              |  1 | 0.9886666667 | 0.019760470 |\n",
       "| syn_erp_raw              | 10 | 0.9873333333 | 0.017676868 |\n",
       "| syn_erp_raw              |  5 | 0.9806666667 | 0.023415792 |\n",
       "| syn_dtw_raw              |  5 | 0.9773333333 | 0.021759352 |\n",
       "| syn_dtw_raw              | 10 | 0.9680000000 | 0.027733752 |\n",
       "| syn_dtw_raw              |  1 | 0.9640000000 | 0.029230494 |\n",
       "| syn_euclidean_raw        |  1 | 0.9100000000 | 0.035154341 |\n",
       "| syn_erp_RegTree_d3       |  5 | 0.9066666667 | 0.047619048 |\n",
       "| syn_erp_RegTree_d4       |  5 | 0.9033333333 | 0.048210611 |\n",
       "| syn_erp_RegTree_d3       | 10 | 0.9006666667 | 0.043377790 |\n",
       "| syn_erp_RegTree_d4       | 10 | 0.9000000000 | 0.043643578 |\n",
       "| syn_erp_RegTree_d3       |  1 | 0.8986666667 | 0.049925114 |\n",
       "| syn_erp_RegTree_d4       |  1 | 0.8940000000 | 0.047946493 |\n",
       "| syn_euclidean_RegTree_d3 |  1 | 0.8906666667 | 0.047159689 |\n",
       "| syn_euclidean_RegTree_d4 |  1 | 0.8873333333 | 0.048975907 |\n",
       "| syn_euclidean_RegTree_d3 |  5 | 0.8866666667 | 0.040406102 |\n",
       "| syn_euclidean_RegTree_d3 | 10 | 0.8860000000 | 0.042639660 |\n",
       "| syn_euclidean_raw        |  5 | 0.8853333333 | 0.050914539 |\n",
       "| syn_euclidean_RegTree_d4 |  5 | 0.8826666667 | 0.041644212 |\n",
       "| syn_euclidean_RegTree_d4 | 10 | 0.8820000000 | 0.045778724 |\n",
       "| syn_dtw_RegTree_d3       | 10 | 0.8786666667 | 0.042994489 |\n",
       "| syn_dtw_RegTree_d3       |  5 | 0.8773333333 | 0.047351630 |\n",
       "| syn_dtw_RegTree_d4       | 10 | 0.8753333333 | 0.040858142 |\n",
       "| syn_euclidean_raw        | 10 | 0.8740000000 | 0.039434782 |\n",
       "| syn_dtw_RegTree_d4       |  1 | 0.8726666667 | 0.050704783 |\n",
       "| syn_dtw_RegTree_d4       |  5 | 0.8720000000 | 0.049193035 |\n",
       "| syn_dtw_RegTree_d3       |  1 | 0.8646666667 | 0.058866851 |\n",
       "| syn_dtw_pla_q12          |  5 | 0.8480000000 | 0.062509863 |\n",
       "| syn_dtw_pla_q12          |  1 | 0.8353333333 | 0.061504199 |\n",
       "| syn_dtw_pla_q12          | 10 | 0.8326666667 | 0.058511390 |\n",
       "| syn_erp_pla_q12          | 10 | 0.7973333333 | 0.063116349 |\n",
       "| syn_erp_pla_q12          |  5 | 0.7846666667 | 0.067749706 |\n",
       "| syn_dtw_pla_q6           |  1 | 0.7460000000 | 0.085685180 |\n",
       "| syn_dtw_pla_q6           | 10 | 0.7380000000 | 0.081652435 |\n",
       "| syn_dtw_pla_q6           |  5 | 0.7353333333 | 0.075415704 |\n",
       "| syn_euclidean_pla_q6     |  1 | 0.7253333333 | 0.073327149 |\n",
       "| syn_erp_pla_q6           |  5 | 0.7200000000 | 0.083299313 |\n",
       "| syn_euclidean_pla_q6     |  5 | 0.7186666667 | 0.078292434 |\n",
       "| syn_erp_pla_q6           |  1 | 0.7166666667 | 0.080601480 |\n",
       "| syn_erp_pla_q12          |  1 | 0.7073333333 | 0.076276737 |\n",
       "| syn_erp_pla_q6           | 10 | 0.7066666667 | 0.076783407 |\n",
       "| syn_euclidean_pla_q6     | 10 | 0.7006666667 | 0.075739738 |\n",
       "| syn_euclidean_pla_q12    | 10 | 0.6893333333 | 0.058492010 |\n",
       "| syn_euclidean_pla_q12    |  5 | 0.6853333333 | 0.076238080 |\n",
       "| syn_euclidean_pla_q12    |  1 | 0.6373333333 | 0.075183826 |\n",
       "| syn_lcss_RegTree_d4      |  1 | 0.1186666667 | 0.047217353 |\n",
       "| syn_lcss_RegTree_d3      |  1 | 0.1140000000 | 0.047183724 |\n",
       "| syn_lcss_pla_q6          |  1 | 0.0866666667 | 0.039267673 |\n",
       "| syn_lcss_RegTree_d4      |  5 | 0.0440000000 | 0.031182296 |\n",
       "| syn_lcss_RegTree_d3      |  5 | 0.0393333333 | 0.034133259 |\n",
       "| syn_lcss_RegTree_d3      | 10 | 0.0266666667 | 0.026937401 |\n",
       "| syn_lcss_pla_q12         |  1 | 0.0173333333 | 0.025412693 |\n",
       "| syn_lcss_RegTree_d4      | 10 | 0.0160000000 | 0.024504153 |\n",
       "| syn_lcss_pla_q6          |  5 | 0.0120000000 | 0.019931857 |\n",
       "| syn_lcss_pla_q6          | 10 | 0.0006666667 | 0.004714045 |\n",
       "| syn_lcss_pla_q12         | 10 | 0.0006666667 | 0.004714045 |\n",
       "| syn_lcss_raw             |  1 | 0.0000000000 | 0.000000000 |\n",
       "| syn_lcss_raw             |  5 | 0.0000000000 | 0.000000000 |\n",
       "| syn_lcss_raw             | 10 | 0.0000000000 | 0.000000000 |\n",
       "| syn_lcss_pla_q12         |  5 | 0.0000000000 | 0.000000000 |\n",
       "\n"
      ],
      "text/plain": [
       "   approach                 k  Mean         SD         \n",
       "1  syn_erp_raw               1 0.9886666667 0.019760470\n",
       "2  syn_erp_raw              10 0.9873333333 0.017676868\n",
       "3  syn_erp_raw               5 0.9806666667 0.023415792\n",
       "4  syn_dtw_raw               5 0.9773333333 0.021759352\n",
       "5  syn_dtw_raw              10 0.9680000000 0.027733752\n",
       "6  syn_dtw_raw               1 0.9640000000 0.029230494\n",
       "7  syn_euclidean_raw         1 0.9100000000 0.035154341\n",
       "8  syn_erp_RegTree_d3        5 0.9066666667 0.047619048\n",
       "9  syn_erp_RegTree_d4        5 0.9033333333 0.048210611\n",
       "10 syn_erp_RegTree_d3       10 0.9006666667 0.043377790\n",
       "11 syn_erp_RegTree_d4       10 0.9000000000 0.043643578\n",
       "12 syn_erp_RegTree_d3        1 0.8986666667 0.049925114\n",
       "13 syn_erp_RegTree_d4        1 0.8940000000 0.047946493\n",
       "14 syn_euclidean_RegTree_d3  1 0.8906666667 0.047159689\n",
       "15 syn_euclidean_RegTree_d4  1 0.8873333333 0.048975907\n",
       "16 syn_euclidean_RegTree_d3  5 0.8866666667 0.040406102\n",
       "17 syn_euclidean_RegTree_d3 10 0.8860000000 0.042639660\n",
       "18 syn_euclidean_raw         5 0.8853333333 0.050914539\n",
       "19 syn_euclidean_RegTree_d4  5 0.8826666667 0.041644212\n",
       "20 syn_euclidean_RegTree_d4 10 0.8820000000 0.045778724\n",
       "21 syn_dtw_RegTree_d3       10 0.8786666667 0.042994489\n",
       "22 syn_dtw_RegTree_d3        5 0.8773333333 0.047351630\n",
       "23 syn_dtw_RegTree_d4       10 0.8753333333 0.040858142\n",
       "24 syn_euclidean_raw        10 0.8740000000 0.039434782\n",
       "25 syn_dtw_RegTree_d4        1 0.8726666667 0.050704783\n",
       "26 syn_dtw_RegTree_d4        5 0.8720000000 0.049193035\n",
       "27 syn_dtw_RegTree_d3        1 0.8646666667 0.058866851\n",
       "28 syn_dtw_pla_q12           5 0.8480000000 0.062509863\n",
       "29 syn_dtw_pla_q12           1 0.8353333333 0.061504199\n",
       "30 syn_dtw_pla_q12          10 0.8326666667 0.058511390\n",
       "31 syn_erp_pla_q12          10 0.7973333333 0.063116349\n",
       "32 syn_erp_pla_q12           5 0.7846666667 0.067749706\n",
       "33 syn_dtw_pla_q6            1 0.7460000000 0.085685180\n",
       "34 syn_dtw_pla_q6           10 0.7380000000 0.081652435\n",
       "35 syn_dtw_pla_q6            5 0.7353333333 0.075415704\n",
       "36 syn_euclidean_pla_q6      1 0.7253333333 0.073327149\n",
       "37 syn_erp_pla_q6            5 0.7200000000 0.083299313\n",
       "38 syn_euclidean_pla_q6      5 0.7186666667 0.078292434\n",
       "39 syn_erp_pla_q6            1 0.7166666667 0.080601480\n",
       "40 syn_erp_pla_q12           1 0.7073333333 0.076276737\n",
       "41 syn_erp_pla_q6           10 0.7066666667 0.076783407\n",
       "42 syn_euclidean_pla_q6     10 0.7006666667 0.075739738\n",
       "43 syn_euclidean_pla_q12    10 0.6893333333 0.058492010\n",
       "44 syn_euclidean_pla_q12     5 0.6853333333 0.076238080\n",
       "45 syn_euclidean_pla_q12     1 0.6373333333 0.075183826\n",
       "46 syn_lcss_RegTree_d4       1 0.1186666667 0.047217353\n",
       "47 syn_lcss_RegTree_d3       1 0.1140000000 0.047183724\n",
       "48 syn_lcss_pla_q6           1 0.0866666667 0.039267673\n",
       "49 syn_lcss_RegTree_d4       5 0.0440000000 0.031182296\n",
       "50 syn_lcss_RegTree_d3       5 0.0393333333 0.034133259\n",
       "51 syn_lcss_RegTree_d3      10 0.0266666667 0.026937401\n",
       "52 syn_lcss_pla_q12          1 0.0173333333 0.025412693\n",
       "53 syn_lcss_RegTree_d4      10 0.0160000000 0.024504153\n",
       "54 syn_lcss_pla_q6           5 0.0120000000 0.019931857\n",
       "55 syn_lcss_pla_q6          10 0.0006666667 0.004714045\n",
       "56 syn_lcss_pla_q12         10 0.0006666667 0.004714045\n",
       "57 syn_lcss_raw              1 0.0000000000 0.000000000\n",
       "58 syn_lcss_raw              5 0.0000000000 0.000000000\n",
       "59 syn_lcss_raw             10 0.0000000000 0.000000000\n",
       "60 syn_lcss_pla_q12          5 0.0000000000 0.000000000"
      ]
     },
     "metadata": {},
     "output_type": "display_data"
    }
   ],
   "source": [
    "result_syn = CrossValidationTrain(dist,cv_indices, syn_class)\n",
    "results_syn = rbindlist(result_syn)\n",
    "\n",
    "results_summary <- results_syn[,.(Mean = mean(acc),SD = sd(acc)),.(approach,k)]\n",
    "results_summary[order(-Mean)]"
   ]
  },
  {
   "cell_type": "markdown",
   "id": "c872ab79",
   "metadata": {},
   "source": [
    "## Testing"
   ]
  },
  {
   "cell_type": "code",
   "execution_count": 67,
   "id": "28c2dde4",
   "metadata": {},
   "outputs": [],
   "source": [
    "test_data_path=sprintf('%s/%s/%s_TEST.txt',getwd(),dataset,dataset)\n",
    "\n",
    "syn_train = fread(train_data_path)\n",
    "syn_test = fread(test_data_path)\n",
    "\n",
    "syn_test <- setnames(syn_test, \"V1\", \"Class\")\n",
    "syn_train <- setnames(syn_train, \"V1\", \"Class\")\n",
    "\n",
    "syn_test <- data.table(syn_test)\n",
    "syn_train <- data.table(syn_train)\n",
    "\n",
    "syn_test[, \"ID\" := (1:.N)+300]\n",
    "syn_test[, \"Class\" := as.factor(Class)]\n",
    "syn_train[, \"ID\" := (1:.N)]\n",
    "syn_train[, \"Class\" := as.factor(Class)]\n",
    "\n",
    "syn_comb <- rbindlist(list(syn_train,syn_test),use.names = TRUE)\n",
    "\n",
    "setcolorder(syn_comb, c(\"ID\", \"Class\"))\n",
    "colnames(syn_comb) <- c(\"ID\", \"Class\",seq(1:60))\n",
    "syn_comb_matrix <- as.matrix(syn_comb[,c(-1,-2)])\n",
    "syn_comb_long <- melt(syn_comb,id.vars = c(\"ID\",\"Class\"))\n",
    "syn_comb_long[,variable := as.numeric(variable)]\n",
    "syn_comb_class <- syn_comb$Class\n",
    "\n",
    "test_index_final = seq(301,600)\n",
    "\n",
    "syn_comb_erp_raw <- as.matrix(TSDatabaseDistances(X = syn_comb_matrix, distance = 'erp', g = 0))\n",
    "\n",
    "overall_result <- nn_classify_cv(syn_comb_erp_raw,syn_comb_class,test_index_final,k=1)"
   ]
  },
  {
   "cell_type": "code",
   "execution_count": 71,
   "id": "5a0239d4",
   "metadata": {},
   "outputs": [
    {
     "data": {
      "text/html": [
       "0.966666666666667"
      ],
      "text/latex": [
       "0.966666666666667"
      ],
      "text/markdown": [
       "0.966666666666667"
      ],
      "text/plain": [
       "[1] 0.9666667"
      ]
     },
     "metadata": {},
     "output_type": "display_data"
    }
   ],
   "source": [
    "Test_Accuracy <- sum(syn_comb_class[test_index_final]==overall_result$prediction$predicted)/length(test_index_final)\n",
    "Test_Accuracy"
   ]
  },
  {
   "cell_type": "markdown",
   "id": "3ff7c7d3",
   "metadata": {},
   "source": [
    "Finally, the best performing model is used to classify the test data and its test accuracy is 96.99%\n",
    "\n",
    "Summary of the best performing model is as follows:"
   ]
  },
  {
   "cell_type": "code",
   "execution_count": 73,
   "id": "6cc16471",
   "metadata": {
    "scrolled": true
   },
   "outputs": [
    {
     "data": {
      "text/html": [
       "<table class=\"dataframe\">\n",
       "<caption>A data.frame: 1 × 6</caption>\n",
       "<thead>\n",
       "\t<tr><th scope=col>Dataset</th><th scope=col>Cross_Validation_Mean_Accuracy</th><th scope=col>Test_Accuracy</th><th scope=col>Distance</th><th scope=col>Representation</th><th scope=col>K</th></tr>\n",
       "\t<tr><th scope=col>&lt;chr&gt;</th><th scope=col>&lt;dbl&gt;</th><th scope=col>&lt;dbl&gt;</th><th scope=col>&lt;chr&gt;</th><th scope=col>&lt;chr&gt;</th><th scope=col>&lt;chr&gt;</th></tr>\n",
       "</thead>\n",
       "<tbody>\n",
       "\t<tr><td>Synthetic Control</td><td>0.9886667</td><td>0.9666667</td><td>ERP</td><td>Raw</td><td>1</td></tr>\n",
       "</tbody>\n",
       "</table>\n"
      ],
      "text/latex": [
       "A data.frame: 1 × 6\n",
       "\\begin{tabular}{llllll}\n",
       " Dataset & Cross\\_Validation\\_Mean\\_Accuracy & Test\\_Accuracy & Distance & Representation & K\\\\\n",
       " <chr> & <dbl> & <dbl> & <chr> & <chr> & <chr>\\\\\n",
       "\\hline\n",
       "\t Synthetic Control & 0.9886667 & 0.9666667 & ERP & Raw & 1\\\\\n",
       "\\end{tabular}\n"
      ],
      "text/markdown": [
       "\n",
       "A data.frame: 1 × 6\n",
       "\n",
       "| Dataset &lt;chr&gt; | Cross_Validation_Mean_Accuracy &lt;dbl&gt; | Test_Accuracy &lt;dbl&gt; | Distance &lt;chr&gt; | Representation &lt;chr&gt; | K &lt;chr&gt; |\n",
       "|---|---|---|---|---|---|\n",
       "| Synthetic Control | 0.9886667 | 0.9666667 | ERP | Raw | 1 |\n",
       "\n"
      ],
      "text/plain": [
       "  Dataset           Cross_Validation_Mean_Accuracy Test_Accuracy Distance\n",
       "1 Synthetic Control 0.9886667                      0.9666667     ERP     \n",
       "  Representation K\n",
       "1 Raw            1"
      ]
     },
     "metadata": {},
     "output_type": "display_data"
    }
   ],
   "source": [
    "Dataset <- \"Synthetic Control\"\n",
    "Cross_Validation_Mean_Accuracy <- max(results_summary$Mean)\n",
    "Distance = 'ERP'\n",
    "Representation = 'Raw'\n",
    "K = '1'\n",
    "df <- data.frame(Dataset,Cross_Validation_Mean_Accuracy,Test_Accuracy,Distance,Representation,K)\n",
    "df"
   ]
  }
 ],
 "metadata": {
  "kernelspec": {
   "display_name": "R",
   "language": "R",
   "name": "ir"
  },
  "language_info": {
   "codemirror_mode": "r",
   "file_extension": ".r",
   "mimetype": "text/x-r-source",
   "name": "R",
   "pygments_lexer": "r",
   "version": "4.1.2"
  }
 },
 "nbformat": 4,
 "nbformat_minor": 5
}
