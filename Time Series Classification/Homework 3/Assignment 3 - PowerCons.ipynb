{
 "cells": [
  {
   "cell_type": "markdown",
   "id": "315edc2d",
   "metadata": {},
   "source": [
    "# Assignment 3\n",
    "\n",
    "In this analysis five different datasets are selected from http://www.timeseriesclassification.com/. Several models are trained for each dataset. Two different representations each with two different parameter sets are used to build the model. Then, distances between the time series are calculated using 4 different distance measures. In the classification step, 3 different k values are used in the K-NN algorithm. Accuracy of each model is calculated to determine the best performing model. Finally, the best performing model is tested on a seperate test set."
   ]
  },
  {
   "cell_type": "code",
   "execution_count": null,
   "id": "6c7b6082",
   "metadata": {
    "scrolled": true
   },
   "outputs": [],
   "source": [
    "library(data.table)\n",
    "library(ggplot2)\n",
    "library(TSrepr)\n",
    "library(caret)\n",
    "library(TSdist)\n",
    "library(dtw)\n",
    "library(zoo)\n",
    "library(rpart)\n",
    "library(rattle)\n",
    "require(TunePareto)\n",
    "\n",
    "setwd(\"C:/Users/alpsr/Desktop/Assignment 3\")"
   ]
  },
  {
   "cell_type": "markdown",
   "id": "724534f1",
   "metadata": {},
   "source": [
    "## Dataset 2: PowerCons\n",
    "\n",
    "In this notebook, Plane dataset is evaluated. This dataset contains 180 training time series and 180 test time series. There are 2 different classes. First six time series in the training dataset are as follows."
   ]
  },
  {
   "cell_type": "code",
   "execution_count": 3,
   "id": "5edfa319",
   "metadata": {},
   "outputs": [],
   "source": [
    "dataset = 'PowerCons'\n",
    "train_data_path=sprintf('%s/%s/%s_TRAIN.txt',getwd(),dataset,dataset)"
   ]
  },
  {
   "cell_type": "code",
   "execution_count": 4,
   "id": "9ef9e0b5",
   "metadata": {},
   "outputs": [
    {
     "data": {
      "text/html": [
       "<table class=\"dataframe\">\n",
       "<caption>A data.table: 6 × 146</caption>\n",
       "<thead>\n",
       "\t<tr><th scope=col>ID</th><th scope=col>Class</th><th scope=col>1</th><th scope=col>2</th><th scope=col>3</th><th scope=col>4</th><th scope=col>5</th><th scope=col>6</th><th scope=col>7</th><th scope=col>8</th><th scope=col>...</th><th scope=col>135</th><th scope=col>136</th><th scope=col>137</th><th scope=col>138</th><th scope=col>139</th><th scope=col>140</th><th scope=col>141</th><th scope=col>142</th><th scope=col>143</th><th scope=col>144</th></tr>\n",
       "\t<tr><th scope=col>&lt;int&gt;</th><th scope=col>&lt;fct&gt;</th><th scope=col>&lt;dbl&gt;</th><th scope=col>&lt;dbl&gt;</th><th scope=col>&lt;dbl&gt;</th><th scope=col>&lt;dbl&gt;</th><th scope=col>&lt;dbl&gt;</th><th scope=col>&lt;dbl&gt;</th><th scope=col>&lt;dbl&gt;</th><th scope=col>&lt;dbl&gt;</th><th scope=col>...</th><th scope=col>&lt;dbl&gt;</th><th scope=col>&lt;dbl&gt;</th><th scope=col>&lt;dbl&gt;</th><th scope=col>&lt;dbl&gt;</th><th scope=col>&lt;dbl&gt;</th><th scope=col>&lt;dbl&gt;</th><th scope=col>&lt;dbl&gt;</th><th scope=col>&lt;dbl&gt;</th><th scope=col>&lt;dbl&gt;</th><th scope=col>&lt;dbl&gt;</th></tr>\n",
       "</thead>\n",
       "<tbody>\n",
       "\t<tr><td>1</td><td>1</td><td>0.44</td><td>0.40</td><td>0.36</td><td>0.35</td><td>0.35</td><td>0.38</td><td>0.36</td><td>0.35</td><td>...</td><td>0.77</td><td>0.40</td><td>0.33</td><td>0.29</td><td>0.28</td><td>0.24</td><td>0.22</td><td>0.23</td><td>0.25</td><td>0.25</td></tr>\n",
       "\t<tr><td>2</td><td>1</td><td>0.14</td><td>0.19</td><td>0.19</td><td>0.16</td><td>0.16</td><td>0.18</td><td>0.17</td><td>0.16</td><td>...</td><td>0.48</td><td>0.62</td><td>0.39</td><td>0.17</td><td>0.14</td><td>0.70</td><td>1.25</td><td>1.21</td><td>1.20</td><td>1.24</td></tr>\n",
       "\t<tr><td>3</td><td>1</td><td>0.34</td><td>0.34</td><td>0.34</td><td>0.26</td><td>0.18</td><td>0.83</td><td>1.48</td><td>1.36</td><td>...</td><td>0.84</td><td>0.97</td><td>1.23</td><td>1.49</td><td>1.17</td><td>0.85</td><td>0.83</td><td>0.79</td><td>0.75</td><td>0.73</td></tr>\n",
       "\t<tr><td>4</td><td>1</td><td>1.70</td><td>1.50</td><td>1.30</td><td>3.40</td><td>5.50</td><td>4.15</td><td>2.80</td><td>2.67</td><td>...</td><td>1.62</td><td>1.61</td><td>1.60</td><td>1.59</td><td>1.55</td><td>1.00</td><td>0.55</td><td>0.37</td><td>0.37</td><td>0.36</td></tr>\n",
       "\t<tr><td>5</td><td>1</td><td>1.78</td><td>1.59</td><td>1.39</td><td>1.45</td><td>1.45</td><td>1.41</td><td>1.40</td><td>1.45</td><td>...</td><td>1.36</td><td>1.36</td><td>1.40</td><td>0.81</td><td>0.23</td><td>0.27</td><td>0.29</td><td>0.28</td><td>0.27</td><td>0.27</td></tr>\n",
       "\t<tr><td>6</td><td>1</td><td>0.41</td><td>0.30</td><td>0.24</td><td>0.28</td><td>0.28</td><td>0.28</td><td>0.23</td><td>0.25</td><td>...</td><td>1.27</td><td>1.59</td><td>1.91</td><td>1.65</td><td>1.40</td><td>1.11</td><td>0.81</td><td>0.60</td><td>0.39</td><td>0.32</td></tr>\n",
       "</tbody>\n",
       "</table>\n"
      ],
      "text/latex": [
       "A data.table: 6 × 146\n",
       "\\begin{tabular}{lllllllllllllllllllll}\n",
       " ID & Class & 1 & 2 & 3 & 4 & 5 & 6 & 7 & 8 & ... & 135 & 136 & 137 & 138 & 139 & 140 & 141 & 142 & 143 & 144\\\\\n",
       " <int> & <fct> & <dbl> & <dbl> & <dbl> & <dbl> & <dbl> & <dbl> & <dbl> & <dbl> & ... & <dbl> & <dbl> & <dbl> & <dbl> & <dbl> & <dbl> & <dbl> & <dbl> & <dbl> & <dbl>\\\\\n",
       "\\hline\n",
       "\t 1 & 1 & 0.44 & 0.40 & 0.36 & 0.35 & 0.35 & 0.38 & 0.36 & 0.35 & ... & 0.77 & 0.40 & 0.33 & 0.29 & 0.28 & 0.24 & 0.22 & 0.23 & 0.25 & 0.25\\\\\n",
       "\t 2 & 1 & 0.14 & 0.19 & 0.19 & 0.16 & 0.16 & 0.18 & 0.17 & 0.16 & ... & 0.48 & 0.62 & 0.39 & 0.17 & 0.14 & 0.70 & 1.25 & 1.21 & 1.20 & 1.24\\\\\n",
       "\t 3 & 1 & 0.34 & 0.34 & 0.34 & 0.26 & 0.18 & 0.83 & 1.48 & 1.36 & ... & 0.84 & 0.97 & 1.23 & 1.49 & 1.17 & 0.85 & 0.83 & 0.79 & 0.75 & 0.73\\\\\n",
       "\t 4 & 1 & 1.70 & 1.50 & 1.30 & 3.40 & 5.50 & 4.15 & 2.80 & 2.67 & ... & 1.62 & 1.61 & 1.60 & 1.59 & 1.55 & 1.00 & 0.55 & 0.37 & 0.37 & 0.36\\\\\n",
       "\t 5 & 1 & 1.78 & 1.59 & 1.39 & 1.45 & 1.45 & 1.41 & 1.40 & 1.45 & ... & 1.36 & 1.36 & 1.40 & 0.81 & 0.23 & 0.27 & 0.29 & 0.28 & 0.27 & 0.27\\\\\n",
       "\t 6 & 1 & 0.41 & 0.30 & 0.24 & 0.28 & 0.28 & 0.28 & 0.23 & 0.25 & ... & 1.27 & 1.59 & 1.91 & 1.65 & 1.40 & 1.11 & 0.81 & 0.60 & 0.39 & 0.32\\\\\n",
       "\\end{tabular}\n"
      ],
      "text/markdown": [
       "\n",
       "A data.table: 6 × 146\n",
       "\n",
       "| ID &lt;int&gt; | Class &lt;fct&gt; | 1 &lt;dbl&gt; | 2 &lt;dbl&gt; | 3 &lt;dbl&gt; | 4 &lt;dbl&gt; | 5 &lt;dbl&gt; | 6 &lt;dbl&gt; | 7 &lt;dbl&gt; | 8 &lt;dbl&gt; | ... ... | 135 &lt;dbl&gt; | 136 &lt;dbl&gt; | 137 &lt;dbl&gt; | 138 &lt;dbl&gt; | 139 &lt;dbl&gt; | 140 &lt;dbl&gt; | 141 &lt;dbl&gt; | 142 &lt;dbl&gt; | 143 &lt;dbl&gt; | 144 &lt;dbl&gt; |\n",
       "|---|---|---|---|---|---|---|---|---|---|---|---|---|---|---|---|---|---|---|---|---|\n",
       "| 1 | 1 | 0.44 | 0.40 | 0.36 | 0.35 | 0.35 | 0.38 | 0.36 | 0.35 | ... | 0.77 | 0.40 | 0.33 | 0.29 | 0.28 | 0.24 | 0.22 | 0.23 | 0.25 | 0.25 |\n",
       "| 2 | 1 | 0.14 | 0.19 | 0.19 | 0.16 | 0.16 | 0.18 | 0.17 | 0.16 | ... | 0.48 | 0.62 | 0.39 | 0.17 | 0.14 | 0.70 | 1.25 | 1.21 | 1.20 | 1.24 |\n",
       "| 3 | 1 | 0.34 | 0.34 | 0.34 | 0.26 | 0.18 | 0.83 | 1.48 | 1.36 | ... | 0.84 | 0.97 | 1.23 | 1.49 | 1.17 | 0.85 | 0.83 | 0.79 | 0.75 | 0.73 |\n",
       "| 4 | 1 | 1.70 | 1.50 | 1.30 | 3.40 | 5.50 | 4.15 | 2.80 | 2.67 | ... | 1.62 | 1.61 | 1.60 | 1.59 | 1.55 | 1.00 | 0.55 | 0.37 | 0.37 | 0.36 |\n",
       "| 5 | 1 | 1.78 | 1.59 | 1.39 | 1.45 | 1.45 | 1.41 | 1.40 | 1.45 | ... | 1.36 | 1.36 | 1.40 | 0.81 | 0.23 | 0.27 | 0.29 | 0.28 | 0.27 | 0.27 |\n",
       "| 6 | 1 | 0.41 | 0.30 | 0.24 | 0.28 | 0.28 | 0.28 | 0.23 | 0.25 | ... | 1.27 | 1.59 | 1.91 | 1.65 | 1.40 | 1.11 | 0.81 | 0.60 | 0.39 | 0.32 |\n",
       "\n"
      ],
      "text/plain": [
       "  ID Class 1    2    3    4    5    6    7    8    ... 135  136  137  138  139 \n",
       "1 1  1     0.44 0.40 0.36 0.35 0.35 0.38 0.36 0.35 ... 0.77 0.40 0.33 0.29 0.28\n",
       "2 2  1     0.14 0.19 0.19 0.16 0.16 0.18 0.17 0.16 ... 0.48 0.62 0.39 0.17 0.14\n",
       "3 3  1     0.34 0.34 0.34 0.26 0.18 0.83 1.48 1.36 ... 0.84 0.97 1.23 1.49 1.17\n",
       "4 4  1     1.70 1.50 1.30 3.40 5.50 4.15 2.80 2.67 ... 1.62 1.61 1.60 1.59 1.55\n",
       "5 5  1     1.78 1.59 1.39 1.45 1.45 1.41 1.40 1.45 ... 1.36 1.36 1.40 0.81 0.23\n",
       "6 6  1     0.41 0.30 0.24 0.28 0.28 0.28 0.23 0.25 ... 1.27 1.59 1.91 1.65 1.40\n",
       "  140  141  142  143  144 \n",
       "1 0.24 0.22 0.23 0.25 0.25\n",
       "2 0.70 1.25 1.21 1.20 1.24\n",
       "3 0.85 0.83 0.79 0.75 0.73\n",
       "4 1.00 0.55 0.37 0.37 0.36\n",
       "5 0.27 0.29 0.28 0.27 0.27\n",
       "6 1.11 0.81 0.60 0.39 0.32"
      ]
     },
     "metadata": {},
     "output_type": "display_data"
    }
   ],
   "source": [
    "power = fread(train_data_path)\n",
    "power <- setnames(power, \"V1\", \"Class\")\n",
    "power <- data.table(power)\n",
    "power[, \"ID\" := 1:.N]\n",
    "power[, \"Class\" := as.factor(Class)]\n",
    "setcolorder(power, c(\"ID\", \"Class\"))\n",
    "colnames(power) <- c(\"ID\", \"Class\",seq(1:144))\n",
    "power_matrix <- as.matrix(power[,c(-1,-2)])\n",
    "power_long <- melt(power,id.vars = c(\"ID\",\"Class\"))\n",
    "power_long[,variable := as.numeric(variable)]\n",
    "power_class <- power$Class\n",
    "head(power)"
   ]
  },
  {
   "cell_type": "markdown",
   "id": "95409921",
   "metadata": {},
   "source": [
    "## Classes\n",
    "\n",
    "Two classes from the dataset are as follows."
   ]
  },
  {
   "cell_type": "code",
   "execution_count": 5,
   "id": "34bf2ad5",
   "metadata": {},
   "outputs": [
    {
     "data": {
      "image/png": "[encoded data removed]",
      "text/plain": [
       "plot without title"
      ]
     },
     "metadata": {
      "image/png": {
       "height": 420,
       "width": 420
      }
     },
     "output_type": "display_data"
    }
   ],
   "source": [
    "power_class_1 <- melt(power[,head(.SD, 1), Class],id.vars = c(\"ID\",\"Class\"))\n",
    "\n",
    "ggplot(power_class_1, aes(x = variable, y = value, group = Class)) +\n",
    "geom_line(aes(color = Class))"
   ]
  },
  {
   "cell_type": "markdown",
   "id": "c10bfad9",
   "metadata": {},
   "source": [
    "## Representations\n",
    "\n",
    "Two different representations are used in this analysis. First one is PAA (piecewise aggregate approximation) and second is the APCA (Adaptive Piecewise Constant Approximation) using regression trees.\n",
    "\n",
    "### Piecewise Aggregate Approximation"
   ]
  },
  {
   "cell_type": "code",
   "execution_count": 6,
   "id": "04174f76",
   "metadata": {},
   "outputs": [],
   "source": [
    "power_paa_q12 <- repr_matrix(power_matrix,repr_paa,args = list(q = 12,func = meanC))\n",
    "power_paa_q6 <- repr_matrix(power_matrix,repr_paa,args = list(q = 6, func = meanC))\n",
    "\n",
    "index1 = seq(1,143, by = 12)\n",
    "for(i in seq(1,180)){\n",
    "    power_long[(variable %in% index1) & (ID == i), PAA_q12 := power_paa_q12[i,]]\n",
    "    power_long[ID == i, PAA_q12_fit_value := power_long[ID == i, na.locf(PAA_q12)]]\n",
    "}\n",
    "\n",
    "index2 = seq(1,143, by = 6)\n",
    "for(i in seq(1,180)){\n",
    "    power_long[(variable %in% index2) & (ID == i), PAA_q6 := power_paa_q6[i,]]\n",
    "    power_long[ID == i, PAA_q6_fit_value := power_long[ID == i, na.locf(PAA_q6)]]\n",
    "}\n",
    "\n",
    "#power_long[, PAA_q12_fit_value := mean(value), by = .(PAA_q12_fit,ID)]\n",
    "#power_long[, PAA_q6_fit_value := mean(value), by = .(PAA_q6_fit,ID)]"
   ]
  },
  {
   "cell_type": "markdown",
   "id": "11fcaa55",
   "metadata": {},
   "source": [
    "### Regression Trees"
   ]
  },
  {
   "cell_type": "code",
   "execution_count": 7,
   "id": "aac9ab55",
   "metadata": {},
   "outputs": [
    {
     "data": {
      "text/html": [
       "<table class=\"dataframe\">\n",
       "<caption>A data.table: 6 × 10</caption>\n",
       "<thead>\n",
       "\t<tr><th scope=col>ID</th><th scope=col>Class</th><th scope=col>variable</th><th scope=col>value</th><th scope=col>PAA_q12</th><th scope=col>PAA_q12_fit_value</th><th scope=col>PAA_q6</th><th scope=col>PAA_q6_fit_value</th><th scope=col>Tree_fit_d3</th><th scope=col>Tree_fit_d4</th></tr>\n",
       "\t<tr><th scope=col>&lt;int&gt;</th><th scope=col>&lt;fct&gt;</th><th scope=col>&lt;dbl&gt;</th><th scope=col>&lt;dbl&gt;</th><th scope=col>&lt;dbl&gt;</th><th scope=col>&lt;dbl&gt;</th><th scope=col>&lt;dbl&gt;</th><th scope=col>&lt;dbl&gt;</th><th scope=col>&lt;dbl&gt;</th><th scope=col>&lt;dbl&gt;</th></tr>\n",
       "</thead>\n",
       "<tbody>\n",
       "\t<tr><td>1</td><td>1</td><td>1</td><td>0.44</td><td>0.3733333</td><td>0.3733333</td><td>0.3800000</td><td>0.3800000</td><td>0.5300000</td><td>0.3727273</td></tr>\n",
       "\t<tr><td>2</td><td>1</td><td>1</td><td>0.14</td><td>0.1691667</td><td>0.1691667</td><td>0.1700000</td><td>0.1700000</td><td>0.1648485</td><td>0.1700000</td></tr>\n",
       "\t<tr><td>3</td><td>1</td><td>1</td><td>0.34</td><td>0.6116667</td><td>0.6116667</td><td>0.3816667</td><td>0.3816667</td><td>0.6630000</td><td>0.6630000</td></tr>\n",
       "\t<tr><td>4</td><td>1</td><td>1</td><td>1.70</td><td>2.7416667</td><td>2.7416667</td><td>2.9250000</td><td>2.9250000</td><td>2.7416667</td><td>2.7416667</td></tr>\n",
       "\t<tr><td>5</td><td>1</td><td>1</td><td>1.78</td><td>1.3275000</td><td>1.3275000</td><td>1.5116667</td><td>1.5116667</td><td>1.4780000</td><td>1.4780000</td></tr>\n",
       "\t<tr><td>6</td><td>1</td><td>1</td><td>0.41</td><td>0.2825000</td><td>0.2825000</td><td>0.2983333</td><td>0.2983333</td><td>0.3036842</td><td>0.2825000</td></tr>\n",
       "</tbody>\n",
       "</table>\n"
      ],
      "text/latex": [
       "A data.table: 6 × 10\n",
       "\\begin{tabular}{llllllllll}\n",
       " ID & Class & variable & value & PAA\\_q12 & PAA\\_q12\\_fit\\_value & PAA\\_q6 & PAA\\_q6\\_fit\\_value & Tree\\_fit\\_d3 & Tree\\_fit\\_d4\\\\\n",
       " <int> & <fct> & <dbl> & <dbl> & <dbl> & <dbl> & <dbl> & <dbl> & <dbl> & <dbl>\\\\\n",
       "\\hline\n",
       "\t 1 & 1 & 1 & 0.44 & 0.3733333 & 0.3733333 & 0.3800000 & 0.3800000 & 0.5300000 & 0.3727273\\\\\n",
       "\t 2 & 1 & 1 & 0.14 & 0.1691667 & 0.1691667 & 0.1700000 & 0.1700000 & 0.1648485 & 0.1700000\\\\\n",
       "\t 3 & 1 & 1 & 0.34 & 0.6116667 & 0.6116667 & 0.3816667 & 0.3816667 & 0.6630000 & 0.6630000\\\\\n",
       "\t 4 & 1 & 1 & 1.70 & 2.7416667 & 2.7416667 & 2.9250000 & 2.9250000 & 2.7416667 & 2.7416667\\\\\n",
       "\t 5 & 1 & 1 & 1.78 & 1.3275000 & 1.3275000 & 1.5116667 & 1.5116667 & 1.4780000 & 1.4780000\\\\\n",
       "\t 6 & 1 & 1 & 0.41 & 0.2825000 & 0.2825000 & 0.2983333 & 0.2983333 & 0.3036842 & 0.2825000\\\\\n",
       "\\end{tabular}\n"
      ],
      "text/markdown": [
       "\n",
       "A data.table: 6 × 10\n",
       "\n",
       "| ID &lt;int&gt; | Class &lt;fct&gt; | variable &lt;dbl&gt; | value &lt;dbl&gt; | PAA_q12 &lt;dbl&gt; | PAA_q12_fit_value &lt;dbl&gt; | PAA_q6 &lt;dbl&gt; | PAA_q6_fit_value &lt;dbl&gt; | Tree_fit_d3 &lt;dbl&gt; | Tree_fit_d4 &lt;dbl&gt; |\n",
       "|---|---|---|---|---|---|---|---|---|---|\n",
       "| 1 | 1 | 1 | 0.44 | 0.3733333 | 0.3733333 | 0.3800000 | 0.3800000 | 0.5300000 | 0.3727273 |\n",
       "| 2 | 1 | 1 | 0.14 | 0.1691667 | 0.1691667 | 0.1700000 | 0.1700000 | 0.1648485 | 0.1700000 |\n",
       "| 3 | 1 | 1 | 0.34 | 0.6116667 | 0.6116667 | 0.3816667 | 0.3816667 | 0.6630000 | 0.6630000 |\n",
       "| 4 | 1 | 1 | 1.70 | 2.7416667 | 2.7416667 | 2.9250000 | 2.9250000 | 2.7416667 | 2.7416667 |\n",
       "| 5 | 1 | 1 | 1.78 | 1.3275000 | 1.3275000 | 1.5116667 | 1.5116667 | 1.4780000 | 1.4780000 |\n",
       "| 6 | 1 | 1 | 0.41 | 0.2825000 | 0.2825000 | 0.2983333 | 0.2983333 | 0.3036842 | 0.2825000 |\n",
       "\n"
      ],
      "text/plain": [
       "  ID Class variable value PAA_q12   PAA_q12_fit_value PAA_q6   \n",
       "1 1  1     1        0.44  0.3733333 0.3733333         0.3800000\n",
       "2 2  1     1        0.14  0.1691667 0.1691667         0.1700000\n",
       "3 3  1     1        0.34  0.6116667 0.6116667         0.3816667\n",
       "4 4  1     1        1.70  2.7416667 2.7416667         2.9250000\n",
       "5 5  1     1        1.78  1.3275000 1.3275000         1.5116667\n",
       "6 6  1     1        0.41  0.2825000 0.2825000         0.2983333\n",
       "  PAA_q6_fit_value Tree_fit_d3 Tree_fit_d4\n",
       "1 0.3800000        0.5300000   0.3727273  \n",
       "2 0.1700000        0.1648485   0.1700000  \n",
       "3 0.3816667        0.6630000   0.6630000  \n",
       "4 2.9250000        2.7416667   2.7416667  \n",
       "5 1.5116667        1.4780000   1.4780000  \n",
       "6 0.2983333        0.3036842   0.2825000  "
      ]
     },
     "metadata": {},
     "output_type": "display_data"
    }
   ],
   "source": [
    "for(i in seq(1,180)){\n",
    "    selected_series <- power_long[ID == i]\n",
    "    tree_fit=rpart(value~variable,selected_series,control=rpart.control(maxdepth=3, cp = 0, minsplit = 20, minbucket = 10))\n",
    "    #fancyRpartPlot(tree_fit)\n",
    "    power_long[ID == i, Tree_fit_d3 := predict(tree_fit, selected_series)]\n",
    "}\n",
    "\n",
    "for(j in seq(1,180)){\n",
    "    selected_series <- power_long[ID == j]\n",
    "    tree_fit=rpart(value~variable,selected_series,control=rpart.control(maxdepth=4, cp = 0, minsplit = 20, minbucket = 10))\n",
    "    #fancyRpartPlot(tree_fit)\n",
    "    power_long[ID == j, Tree_fit_d4 := predict(tree_fit, selected_series)]\n",
    "}\n",
    "\n",
    "head(power_long)"
   ]
  },
  {
   "cell_type": "markdown",
   "id": "d4cacd08",
   "metadata": {},
   "source": [
    "## Distance Measures\n",
    "\n",
    "Three different distances measures are used. First one is the Euclidean Distance. Remaining ones are Dynamic Time Warping (DTW), Longest Common Subsequence (LCSS) and Edit Distance with Real Penalties (ERP).\n",
    "\n",
    "### Euclidean Distance"
   ]
  },
  {
   "cell_type": "code",
   "execution_count": 8,
   "id": "b87dab96",
   "metadata": {},
   "outputs": [],
   "source": [
    "power_euclidean_raw <- as.matrix(dist(power_matrix))\n",
    "\n",
    "power_PAA_q12_matrix <- dcast(power_long, ID + Class ~ variable, value.var = \"PAA_q12_fit_value\")\n",
    "power_PAA_q6_matrix <- dcast(power_long, ID + Class ~ variable, value.var = \"PAA_q6_fit_value\")\n",
    "power_RegTree_d3_matrix <- dcast(power_long, ID + Class ~ variable, value.var = \"Tree_fit_d3\")\n",
    "power_RegTree_d4_matrix <- dcast(power_long, ID + Class ~ variable, value.var = \"Tree_fit_d4\")\n",
    "\n",
    "power_euclidean_paa_q12 <- as.matrix(dist(as.matrix(power_PAA_q12_matrix[,c(-1,-2)])))\n",
    "power_euclidean_paa_q6 <- as.matrix(dist(as.matrix(power_PAA_q6_matrix[,c(-1,-2)])))\n",
    "power_euclidean_RegTree_d3 <- as.matrix(dist(as.matrix(power_RegTree_d3_matrix[,c(-1,-2)])))\n",
    "power_euclidean_RegTree_d4 <- as.matrix(dist(as.matrix(power_RegTree_d4_matrix[,c(-1,-2)])))"
   ]
  },
  {
   "cell_type": "markdown",
   "id": "4798a3be",
   "metadata": {},
   "source": [
    "### Dynamic Time Warping"
   ]
  },
  {
   "cell_type": "code",
   "execution_count": 9,
   "id": "63802f2e",
   "metadata": {},
   "outputs": [],
   "source": [
    "power_dtw_PAA_q12 <- as.matrix(TSDatabaseDistances(X = power_PAA_q12_matrix[,c(-1,-2)], distance = 'dtw'))\n",
    "power_dtw_PAA_q6 <- as.matrix(TSDatabaseDistances(X = power_PAA_q6_matrix[,c(-1,-2)], distance = 'dtw'))\n",
    "power_dtw_RegTree_d3 <- as.matrix(TSDatabaseDistances(X = power_RegTree_d3_matrix[,c(-1,-2)], distance = 'dtw'))\n",
    "power_dtw_RegTree_d4 <- as.matrix(TSDatabaseDistances(X = power_RegTree_d4_matrix[,c(-1,-2)], distance = 'dtw'))\n",
    "power_dtw_raw <- as.matrix(TSDatabaseDistances(X = power_matrix, distance = 'dtw'))"
   ]
  },
  {
   "cell_type": "markdown",
   "id": "d389cc18",
   "metadata": {},
   "source": [
    "### LCSS"
   ]
  },
  {
   "cell_type": "code",
   "execution_count": 10,
   "id": "f82b0410",
   "metadata": {},
   "outputs": [],
   "source": [
    "power_lcss_raw <- as.matrix(TSDatabaseDistances(X = power_matrix, distance = 'lcss', epsilon = 0.1))\n",
    "power_lcss_paa_q12 <- as.matrix(TSDatabaseDistances(X = power_PAA_q12_matrix[,c(-1,-2)], distance = 'lcss', epsilon = 0.1))\n",
    "power_lcss_paa_q6 <- as.matrix(TSDatabaseDistances(X = power_PAA_q6_matrix[,c(-1,-2)], distance = 'lcss', epsilon = 0.1))\n",
    "power_lcss_RegTree_d3 <- as.matrix(TSDatabaseDistances(X = power_RegTree_d3_matrix[,c(-1,-2)], distance = 'lcss', epsilon = 0.1))\n",
    "power_lcss_RegTree_d4 <- as.matrix(TSDatabaseDistances(X = power_RegTree_d4_matrix[,c(-1,-2)], distance = 'lcss', epsilon = 0.1))\n",
    "#str(power_lcss_paa_q12)"
   ]
  },
  {
   "cell_type": "markdown",
   "id": "dd4de499",
   "metadata": {},
   "source": [
    "### ERP"
   ]
  },
  {
   "cell_type": "code",
   "execution_count": 11,
   "id": "9a86d226",
   "metadata": {},
   "outputs": [],
   "source": [
    "power_erp_raw <- as.matrix(TSDatabaseDistances(X = power_matrix, distance = 'erp', g = 0))\n",
    "power_erp_paa_q12 <- as.matrix(TSDatabaseDistances(X = power_PAA_q12_matrix[,c(-1,-2)], distance = 'erp', g = 0))\n",
    "power_erp_paa_q6 <- as.matrix(TSDatabaseDistances(X = power_PAA_q6_matrix[,c(-1,-2)], distance = 'erp', g = 0))\n",
    "power_erp_RegTree_d3 <- as.matrix(TSDatabaseDistances(X = power_RegTree_d3_matrix[,c(-1,-2)], distance = 'erp', g = 0))\n",
    "power_erp_RegTree_d4 <- as.matrix(TSDatabaseDistances(X = power_RegTree_d4_matrix[,c(-1,-2)], distance = 'erp', g = 0))\n",
    "#str(power_erp_paa_q12)"
   ]
  },
  {
   "cell_type": "markdown",
   "id": "e866b00d",
   "metadata": {},
   "source": [
    "## Generating Runs\n",
    "\n",
    "After building the distance matrices, each model's performance is measured using the 10-fold stratified cross validation with 5 repeats.\n",
    "\n",
    "### Cross-Validation Runs"
   ]
  },
  {
   "cell_type": "code",
   "execution_count": 12,
   "id": "7e513af7",
   "metadata": {
    "scrolled": true
   },
   "outputs": [
    {
     "name": "stdout",
     "output_type": "stream",
     "text": [
      "List of 5\n",
      " $ Run  1:List of 10\n",
      "  ..$ Fold  1 : int [1:18] 85 145 1 88 66 136 27 76 18 168 ...\n",
      "  ..$ Fold  2 : int [1:18] 148 79 137 23 77 21 78 22 127 113 ...\n",
      "  ..$ Fold  3 : int [1:18] 141 16 72 139 71 12 83 17 30 104 ...\n",
      "  ..$ Fold  4 : int [1:18] 125 132 2 80 15 3 126 5 135 173 ...\n",
      "  ..$ Fold  5 : int [1:18] 130 124 61 6 25 68 138 149 147 60 ...\n",
      "  ..$ Fold  6 : int [1:18] 84 82 19 123 7 13 9 143 63 170 ...\n",
      "  ..$ Fold  7 : int [1:18] 10 146 144 28 74 73 62 14 69 38 ...\n",
      "  ..$ Fold  8 : int [1:18] 140 128 75 121 129 65 81 150 89 40 ...\n",
      "  ..$ Fold  9 : int [1:18] 24 70 134 86 4 11 133 90 26 153 ...\n",
      "  ..$ Fold  10: int [1:18] 142 131 20 29 8 67 64 87 122 39 ...\n",
      " $ Run  2:List of 10\n",
      "  ..$ Fold  1 : int [1:18] 135 8 67 82 81 136 30 70 69 35 ...\n",
      "  ..$ Fold  2 : int [1:18] 141 87 76 26 146 139 13 78 148 177 ...\n",
      "  ..$ Fold  3 : int [1:18] 75 140 73 125 85 77 142 143 4 48 ...\n",
      "  ..$ Fold  4 : int [1:18] 65 145 19 10 74 66 3 122 27 112 ...\n",
      "  ..$ Fold  5 : int [1:18] 14 123 23 126 17 62 129 121 80 113 ...\n",
      "  ..$ Fold  6 : int [1:18] 72 137 20 11 24 61 79 25 1 43 ...\n",
      "  ..$ Fold  7 : int [1:18] 127 18 5 138 131 128 132 9 86 120 ...\n",
      "  ..$ Fold  8 : int [1:18] 64 15 134 88 28 133 90 29 89 172 ...\n",
      "  ..$ Fold  9 : int [1:18] 21 83 2 6 147 149 7 84 63 173 ...\n",
      "  ..$ Fold  10: int [1:18] 22 144 124 150 71 16 12 130 68 109 ...\n",
      " $ Run  3:List of 10\n",
      "  ..$ Fold  1 : int [1:18] 83 13 68 5 6 139 125 149 71 105 ...\n",
      "  ..$ Fold  2 : int [1:18] 2 85 79 87 136 7 25 146 65 120 ...\n",
      "  ..$ Fold  3 : int [1:18] 18 14 12 1 122 17 16 75 67 178 ...\n",
      "  ..$ Fold  4 : int [1:18] 130 128 63 138 81 9 4 74 64 38 ...\n",
      "  ..$ Fold  5 : int [1:18] 144 72 3 88 15 80 61 121 131 114 ...\n",
      "  ..$ Fold  6 : int [1:18] 8 141 86 26 134 129 66 140 124 154 ...\n",
      "  ..$ Fold  7 : int [1:18] 28 137 145 29 73 22 10 148 23 119 ...\n",
      "  ..$ Fold  8 : int [1:18] 84 126 147 132 19 78 135 69 142 52 ...\n",
      "  ..$ Fold  9 : int [1:18] 82 90 133 62 143 76 27 89 20 173 ...\n",
      "  ..$ Fold  10: int [1:18] 127 77 70 24 150 11 21 30 123 164 ...\n",
      " $ Run  4:List of 10\n",
      "  ..$ Fold  1 : int [1:18] 66 80 131 128 20 19 6 147 140 175 ...\n",
      "  ..$ Fold  2 : int [1:18] 65 11 132 78 74 79 121 72 61 107 ...\n",
      "  ..$ Fold  3 : int [1:18] 73 8 7 69 133 28 29 150 71 177 ...\n",
      "  ..$ Fold  4 : int [1:18] 126 5 125 22 129 85 87 145 16 42 ...\n",
      "  ..$ Fold  5 : int [1:18] 77 14 139 86 26 17 84 146 67 115 ...\n",
      "  ..$ Fold  6 : int [1:18] 18 88 23 10 127 148 13 62 4 118 ...\n",
      "  ..$ Fold  7 : int [1:18] 75 122 143 21 64 144 63 27 142 60 ...\n",
      "  ..$ Fold  8 : int [1:18] 123 130 141 15 12 138 81 30 137 174 ...\n",
      "  ..$ Fold  9 : int [1:18] 24 76 25 70 2 135 9 124 68 102 ...\n",
      "  ..$ Fold  10: int [1:18] 82 1 149 89 3 83 90 136 134 34 ...\n",
      " $ Run  5:List of 10\n",
      "  ..$ Fold  1 : int [1:18] 22 4 134 124 18 30 25 139 150 176 ...\n",
      "  ..$ Fold  2 : int [1:18] 8 137 82 127 74 10 61 121 13 95 ...\n",
      "  ..$ Fold  3 : int [1:18] 2 123 81 21 78 67 63 76 3 40 ...\n",
      "  ..$ Fold  4 : int [1:18] 129 16 72 14 138 140 128 126 144 160 ...\n",
      "  ..$ Fold  5 : int [1:18] 70 12 122 6 86 28 17 77 132 100 ...\n",
      "  ..$ Fold  6 : int [1:18] 62 9 15 133 69 87 20 65 149 168 ...\n",
      "  ..$ Fold  7 : int [1:18] 75 71 89 79 64 142 19 125 141 32 ...\n",
      "  ..$ Fold  8 : int [1:18] 90 11 136 147 84 85 80 26 29 162 ...\n",
      "  ..$ Fold  9 : int [1:18] 27 73 5 146 148 143 83 68 135 173 ...\n",
      "  ..$ Fold  10: int [1:18] 24 1 130 7 23 145 88 66 131 159 ...\n"
     ]
    }
   ],
   "source": [
    "set.seed(12435)\n",
    "cv_indices = generateCVRuns(power_class, ntimes = 5, nfold = 10, \n",
    "                            leaveOneOut = FALSE, stratified = TRUE)\n",
    "str(cv_indices)"
   ]
  },
  {
   "cell_type": "markdown",
   "id": "85a86fbf",
   "metadata": {},
   "source": [
    "### k-NN Classifier"
   ]
  },
  {
   "cell_type": "code",
   "execution_count": 13,
   "id": "fac95c0d",
   "metadata": {},
   "outputs": [],
   "source": [
    "nn_classify_cv=function(dist_matrix,train_class,test_indices,k=1){\n",
    "    \n",
    "    test_distances_to_train=dist_matrix[test_indices,]\n",
    "    test_distances_to_train=test_distances_to_train[,-test_indices]\n",
    "    train_class=train_class[-test_indices]\n",
    "    ordered_indices=apply(test_distances_to_train,1,order)\n",
    "    \n",
    "    if(k==1){\n",
    "        nearest_class=as.numeric(train_class[as.numeric(ordered_indices[1,])])\n",
    "        nearest_class=data.table(id=test_indices,nearest_class)\n",
    "    } else {\n",
    "        nearest_class=apply(ordered_indices[1:k,],2,function(x) {train_class[x]})\n",
    "        nearest_class=data.table(id=test_indices,t(nearest_class))\n",
    "    }\n",
    "    \n",
    "    long_nn_class=melt(nearest_class,'id')\n",
    "\n",
    "    class_counts=long_nn_class[,.N,list(id,value)]\n",
    "    class_counts[,predicted_prob:=N/k]\n",
    "    wide_class_prob_predictions=dcast(class_counts,id~value,value.var='predicted_prob')\n",
    "    wide_class_prob_predictions[is.na(wide_class_prob_predictions)]=0\n",
    "    class_predictions=class_counts[,list(predicted=value[which.max(N)]),by=list(id)]\n",
    "    \n",
    "    \n",
    "    return(list(prediction=class_predictions,prob_estimates=wide_class_prob_predictions))\n",
    "    \n",
    "}"
   ]
  },
  {
   "cell_type": "markdown",
   "id": "3659f5b7",
   "metadata": {},
   "source": [
    "### Testing the Models"
   ]
  },
  {
   "cell_type": "code",
   "execution_count": 14,
   "id": "34e359fc",
   "metadata": {},
   "outputs": [],
   "source": [
    "#approach_file=list.files(dist_folder)\n",
    "dist = list(power_euclidean_raw,\n",
    "            power_euclidean_paa_q12,\n",
    "            power_euclidean_paa_q6,\n",
    "            power_euclidean_RegTree_d3,\n",
    "            power_euclidean_RegTree_d4,\n",
    "            power_dtw_raw,\n",
    "            power_dtw_PAA_q12,\n",
    "            power_dtw_PAA_q6,\n",
    "            power_dtw_RegTree_d3,\n",
    "            power_dtw_RegTree_d4,\n",
    "            power_lcss_raw,\n",
    "            power_lcss_paa_q6,\n",
    "            power_lcss_paa_q12,\n",
    "            power_lcss_RegTree_d3,\n",
    "            power_lcss_RegTree_d4,\n",
    "            power_erp_raw,\n",
    "            power_erp_paa_q6,\n",
    "            power_erp_paa_q12,\n",
    "            power_erp_RegTree_d3,\n",
    "            power_erp_RegTree_d4)\n",
    "\n",
    "n_dist = 15\n",
    "nof_rep = 5\n",
    "n_fold = 10\n",
    "k_levels=c(1,3,5)\n",
    "result = vector('list',n_dist*nof_rep*n_fold*length(k_levels))\n",
    "iter = 1\n",
    "names = c(\"power_euclidean_raw\",\"power_euclidean_paa_q12\",\"power_euclidean_paa_q6\",\n",
    "         \"power_euclidean_RegTree_d3\",\"power_euclidean_RegTree_d4\",\n",
    "         \"power_dtw_raw\",\"power_dtw_PAA_q12\",\"power_dtw_PAA_q6\",\"power_dtw_RegTree_d3\",\n",
    "         \"power_dtw_RegTree_d4\",\"power_lcss_raw\",\"power_lcss_paa_q6\",\"power_lcss_paa_q12\",\n",
    "         \"power_lcss_RegTree_d3\",\"power_lcss_RegTree_d4\",\"power_erp_raw\",\"power_erp_paa_q6\",\n",
    "         \"power_erp_paa_q12\",\"power_erp_RegTree_d3\",\"power_erp_RegTree_d4\")"
   ]
  },
  {
   "cell_type": "code",
   "execution_count": 15,
   "id": "1467b7d8",
   "metadata": {},
   "outputs": [],
   "source": [
    "CrossValidationTrain <- function(dist,cv_index, train_class){\n",
    "    n_dist = 20\n",
    "    nof_rep = 5\n",
    "    n_fold = 10\n",
    "    k_levels=c(1,3,5)\n",
    "\n",
    "    for(m in 1:n_dist){ #\n",
    "        current_dist = dist[[m]]\n",
    "        for(i in 1:nof_rep){\n",
    "            this_fold=cv_index[[i]]\n",
    "            for(j in 1:n_fold){\n",
    "                test_indices=this_fold[[j]]\n",
    "                for(k in 1:length(k_levels)){\n",
    "                    current_k=k_levels[k]\n",
    "                    current_fold=nn_classify_cv(current_dist,train_class,test_indices,k=current_k)\n",
    "                    accuracy=sum(train_class[test_indices]==current_fold$prediction$predicted)/length(test_indices)\n",
    "                    tmp=data.table(approach=names[[m]],repid=i,foldid=j,\n",
    "                                   k=current_k,acc=accuracy)\n",
    "                    \n",
    "                    result[[iter]]=tmp\n",
    "                    iter=iter+1\n",
    "                }\n",
    "            }\n",
    "        }   \n",
    "    }\n",
    "    return(result)\n",
    "}"
   ]
  },
  {
   "cell_type": "markdown",
   "id": "019bcb30",
   "metadata": {},
   "source": [
    "Mean and standart deviation of each model is reported below. The best performing model is Euclidean distance on the PAA representation with segment length of 6 with a 3-NN classifier. Its mean accuracy is 98.56%."
   ]
  },
  {
   "cell_type": "code",
   "execution_count": 16,
   "id": "a481716a",
   "metadata": {},
   "outputs": [
    {
     "data": {
      "text/html": [
       "<table class=\"dataframe\">\n",
       "<caption>A data.table: 60 × 4</caption>\n",
       "<thead>\n",
       "\t<tr><th scope=col>approach</th><th scope=col>k</th><th scope=col>Mean</th><th scope=col>SD</th></tr>\n",
       "\t<tr><th scope=col>&lt;chr&gt;</th><th scope=col>&lt;dbl&gt;</th><th scope=col>&lt;dbl&gt;</th><th scope=col>&lt;dbl&gt;</th></tr>\n",
       "</thead>\n",
       "<tbody>\n",
       "\t<tr><td>power_euclidean_paa_q6    </td><td>3</td><td>0.9855556</td><td>0.02928991</td></tr>\n",
       "\t<tr><td>power_euclidean_paa_q12   </td><td>3</td><td>0.9788889</td><td>0.03870218</td></tr>\n",
       "\t<tr><td>power_euclidean_paa_q12   </td><td>5</td><td>0.9755556</td><td>0.04071668</td></tr>\n",
       "\t<tr><td>power_euclidean_raw       </td><td>3</td><td>0.9744444</td><td>0.03586388</td></tr>\n",
       "\t<tr><td>power_euclidean_raw       </td><td>5</td><td>0.9733333</td><td>0.03762943</td></tr>\n",
       "\t<tr><td>power_euclidean_paa_q6    </td><td>5</td><td>0.9722222</td><td>0.03764616</td></tr>\n",
       "\t<tr><td>power_euclidean_paa_q12   </td><td>1</td><td>0.9711111</td><td>0.04084026</td></tr>\n",
       "\t<tr><td>power_euclidean_paa_q6    </td><td>1</td><td>0.9644444</td><td>0.03849002</td></tr>\n",
       "\t<tr><td>power_euclidean_raw       </td><td>1</td><td>0.9566667</td><td>0.05055749</td></tr>\n",
       "\t<tr><td>power_erp_paa_q12         </td><td>1</td><td>0.9566667</td><td>0.03934779</td></tr>\n",
       "\t<tr><td>power_euclidean_RegTree_d4</td><td>5</td><td>0.9555556</td><td>0.05019488</td></tr>\n",
       "\t<tr><td>power_euclidean_RegTree_d4</td><td>3</td><td>0.9544444</td><td>0.04301851</td></tr>\n",
       "\t<tr><td>power_euclidean_RegTree_d3</td><td>5</td><td>0.9511111</td><td>0.04714045</td></tr>\n",
       "\t<tr><td>power_erp_RegTree_d3      </td><td>1</td><td>0.9511111</td><td>0.04714045</td></tr>\n",
       "\t<tr><td>power_euclidean_RegTree_d3</td><td>1</td><td>0.9477778</td><td>0.04683212</td></tr>\n",
       "\t<tr><td>power_erp_paa_q6          </td><td>5</td><td>0.9477778</td><td>0.04110161</td></tr>\n",
       "\t<tr><td>power_euclidean_RegTree_d3</td><td>3</td><td>0.9466667</td><td>0.04622292</td></tr>\n",
       "\t<tr><td>power_erp_paa_q12         </td><td>3</td><td>0.9433333</td><td>0.03804560</td></tr>\n",
       "\t<tr><td>power_erp_paa_q12         </td><td>5</td><td>0.9422222</td><td>0.04622292</td></tr>\n",
       "\t<tr><td>power_erp_RegTree_d4      </td><td>1</td><td>0.9411111</td><td>0.05430567</td></tr>\n",
       "\t<tr><td>power_euclidean_RegTree_d4</td><td>1</td><td>0.9411111</td><td>0.04815832</td></tr>\n",
       "\t<tr><td>power_erp_RegTree_d3      </td><td>3</td><td>0.9266667</td><td>0.04687245</td></tr>\n",
       "\t<tr><td>power_erp_paa_q6          </td><td>3</td><td>0.9188889</td><td>0.05407319</td></tr>\n",
       "\t<tr><td>power_erp_RegTree_d3      </td><td>5</td><td>0.9188889</td><td>0.04518934</td></tr>\n",
       "\t<tr><td>power_erp_paa_q6          </td><td>1</td><td>0.9177778</td><td>0.05049515</td></tr>\n",
       "\t<tr><td>power_erp_raw             </td><td>1</td><td>0.9166667</td><td>0.05639949</td></tr>\n",
       "\t<tr><td>power_erp_raw             </td><td>5</td><td>0.9111111</td><td>0.05939139</td></tr>\n",
       "\t<tr><td>power_erp_RegTree_d4      </td><td>3</td><td>0.9055556</td><td>0.04661643</td></tr>\n",
       "\t<tr><td>power_dtw_RegTree_d4      </td><td>1</td><td>0.9044444</td><td>0.06830932</td></tr>\n",
       "\t<tr><td>power_erp_RegTree_d4      </td><td>5</td><td>0.9044444</td><td>0.06353173</td></tr>\n",
       "\t<tr><td>power_dtw_RegTree_d3      </td><td>5</td><td>0.9011111</td><td>0.07124315</td></tr>\n",
       "\t<tr><td>power_dtw_RegTree_d3      </td><td>1</td><td>0.9011111</td><td>0.05969816</td></tr>\n",
       "\t<tr><td>power_dtw_PAA_q12         </td><td>5</td><td>0.8988889</td><td>0.06217888</td></tr>\n",
       "\t<tr><td>power_dtw_raw             </td><td>1</td><td>0.8955556</td><td>0.06412384</td></tr>\n",
       "\t<tr><td>power_dtw_PAA_q12         </td><td>1</td><td>0.8944444</td><td>0.05411977</td></tr>\n",
       "\t<tr><td>power_dtw_PAA_q12         </td><td>3</td><td>0.8911111</td><td>0.06143493</td></tr>\n",
       "\t<tr><td>power_erp_raw             </td><td>3</td><td>0.8900000</td><td>0.05884802</td></tr>\n",
       "\t<tr><td>power_dtw_RegTree_d4      </td><td>5</td><td>0.8888889</td><td>0.06044264</td></tr>\n",
       "\t<tr><td>power_dtw_RegTree_d4      </td><td>3</td><td>0.8833333</td><td>0.06070261</td></tr>\n",
       "\t<tr><td>power_dtw_RegTree_d3      </td><td>3</td><td>0.8733333</td><td>0.06922528</td></tr>\n",
       "\t<tr><td>power_dtw_raw             </td><td>3</td><td>0.8722222</td><td>0.07550118</td></tr>\n",
       "\t<tr><td>power_dtw_PAA_q6          </td><td>5</td><td>0.8577778</td><td>0.05956084</td></tr>\n",
       "\t<tr><td>power_dtw_PAA_q6          </td><td>1</td><td>0.8377778</td><td>0.07431555</td></tr>\n",
       "\t<tr><td>power_dtw_raw             </td><td>5</td><td>0.8311111</td><td>0.07609121</td></tr>\n",
       "\t<tr><td>power_dtw_PAA_q6          </td><td>3</td><td>0.8311111</td><td>0.08168051</td></tr>\n",
       "\t<tr><td>power_lcss_RegTree_d4     </td><td>3</td><td>0.3855556</td><td>0.07563455</td></tr>\n",
       "\t<tr><td>power_lcss_RegTree_d4     </td><td>5</td><td>0.3766667</td><td>0.08193460</td></tr>\n",
       "\t<tr><td>power_lcss_RegTree_d3     </td><td>5</td><td>0.3655556</td><td>0.08405957</td></tr>\n",
       "\t<tr><td>power_lcss_RegTree_d3     </td><td>1</td><td>0.3522222</td><td>0.08444832</td></tr>\n",
       "\t<tr><td>power_lcss_raw            </td><td>3</td><td>0.3422222</td><td>0.08500589</td></tr>\n",
       "\t<tr><td>power_lcss_RegTree_d3     </td><td>3</td><td>0.3422222</td><td>0.08574368</td></tr>\n",
       "\t<tr><td>power_lcss_raw            </td><td>5</td><td>0.3400000</td><td>0.08594912</td></tr>\n",
       "\t<tr><td>power_lcss_RegTree_d4     </td><td>1</td><td>0.3300000</td><td>0.08651158</td></tr>\n",
       "\t<tr><td>power_lcss_paa_q12        </td><td>1</td><td>0.2944444</td><td>0.10484004</td></tr>\n",
       "\t<tr><td>power_lcss_paa_q6         </td><td>3</td><td>0.2911111</td><td>0.09087908</td></tr>\n",
       "\t<tr><td>power_lcss_raw            </td><td>1</td><td>0.2811111</td><td>0.10001889</td></tr>\n",
       "\t<tr><td>power_lcss_paa_q6         </td><td>5</td><td>0.2711111</td><td>0.08447070</td></tr>\n",
       "\t<tr><td>power_lcss_paa_q6         </td><td>1</td><td>0.2555556</td><td>0.09118353</td></tr>\n",
       "\t<tr><td>power_lcss_paa_q12        </td><td>3</td><td>0.2411111</td><td>0.10201423</td></tr>\n",
       "\t<tr><td>power_lcss_paa_q12        </td><td>5</td><td>0.2388889</td><td>0.08639500</td></tr>\n",
       "</tbody>\n",
       "</table>\n"
      ],
      "text/latex": [
       "A data.table: 60 × 4\n",
       "\\begin{tabular}{llll}\n",
       " approach & k & Mean & SD\\\\\n",
       " <chr> & <dbl> & <dbl> & <dbl>\\\\\n",
       "\\hline\n",
       "\t power\\_euclidean\\_paa\\_q6     & 3 & 0.9855556 & 0.02928991\\\\\n",
       "\t power\\_euclidean\\_paa\\_q12    & 3 & 0.9788889 & 0.03870218\\\\\n",
       "\t power\\_euclidean\\_paa\\_q12    & 5 & 0.9755556 & 0.04071668\\\\\n",
       "\t power\\_euclidean\\_raw        & 3 & 0.9744444 & 0.03586388\\\\\n",
       "\t power\\_euclidean\\_raw        & 5 & 0.9733333 & 0.03762943\\\\\n",
       "\t power\\_euclidean\\_paa\\_q6     & 5 & 0.9722222 & 0.03764616\\\\\n",
       "\t power\\_euclidean\\_paa\\_q12    & 1 & 0.9711111 & 0.04084026\\\\\n",
       "\t power\\_euclidean\\_paa\\_q6     & 1 & 0.9644444 & 0.03849002\\\\\n",
       "\t power\\_euclidean\\_raw        & 1 & 0.9566667 & 0.05055749\\\\\n",
       "\t power\\_erp\\_paa\\_q12          & 1 & 0.9566667 & 0.03934779\\\\\n",
       "\t power\\_euclidean\\_RegTree\\_d4 & 5 & 0.9555556 & 0.05019488\\\\\n",
       "\t power\\_euclidean\\_RegTree\\_d4 & 3 & 0.9544444 & 0.04301851\\\\\n",
       "\t power\\_euclidean\\_RegTree\\_d3 & 5 & 0.9511111 & 0.04714045\\\\\n",
       "\t power\\_erp\\_RegTree\\_d3       & 1 & 0.9511111 & 0.04714045\\\\\n",
       "\t power\\_euclidean\\_RegTree\\_d3 & 1 & 0.9477778 & 0.04683212\\\\\n",
       "\t power\\_erp\\_paa\\_q6           & 5 & 0.9477778 & 0.04110161\\\\\n",
       "\t power\\_euclidean\\_RegTree\\_d3 & 3 & 0.9466667 & 0.04622292\\\\\n",
       "\t power\\_erp\\_paa\\_q12          & 3 & 0.9433333 & 0.03804560\\\\\n",
       "\t power\\_erp\\_paa\\_q12          & 5 & 0.9422222 & 0.04622292\\\\\n",
       "\t power\\_erp\\_RegTree\\_d4       & 1 & 0.9411111 & 0.05430567\\\\\n",
       "\t power\\_euclidean\\_RegTree\\_d4 & 1 & 0.9411111 & 0.04815832\\\\\n",
       "\t power\\_erp\\_RegTree\\_d3       & 3 & 0.9266667 & 0.04687245\\\\\n",
       "\t power\\_erp\\_paa\\_q6           & 3 & 0.9188889 & 0.05407319\\\\\n",
       "\t power\\_erp\\_RegTree\\_d3       & 5 & 0.9188889 & 0.04518934\\\\\n",
       "\t power\\_erp\\_paa\\_q6           & 1 & 0.9177778 & 0.05049515\\\\\n",
       "\t power\\_erp\\_raw              & 1 & 0.9166667 & 0.05639949\\\\\n",
       "\t power\\_erp\\_raw              & 5 & 0.9111111 & 0.05939139\\\\\n",
       "\t power\\_erp\\_RegTree\\_d4       & 3 & 0.9055556 & 0.04661643\\\\\n",
       "\t power\\_dtw\\_RegTree\\_d4       & 1 & 0.9044444 & 0.06830932\\\\\n",
       "\t power\\_erp\\_RegTree\\_d4       & 5 & 0.9044444 & 0.06353173\\\\\n",
       "\t power\\_dtw\\_RegTree\\_d3       & 5 & 0.9011111 & 0.07124315\\\\\n",
       "\t power\\_dtw\\_RegTree\\_d3       & 1 & 0.9011111 & 0.05969816\\\\\n",
       "\t power\\_dtw\\_PAA\\_q12          & 5 & 0.8988889 & 0.06217888\\\\\n",
       "\t power\\_dtw\\_raw              & 1 & 0.8955556 & 0.06412384\\\\\n",
       "\t power\\_dtw\\_PAA\\_q12          & 1 & 0.8944444 & 0.05411977\\\\\n",
       "\t power\\_dtw\\_PAA\\_q12          & 3 & 0.8911111 & 0.06143493\\\\\n",
       "\t power\\_erp\\_raw              & 3 & 0.8900000 & 0.05884802\\\\\n",
       "\t power\\_dtw\\_RegTree\\_d4       & 5 & 0.8888889 & 0.06044264\\\\\n",
       "\t power\\_dtw\\_RegTree\\_d4       & 3 & 0.8833333 & 0.06070261\\\\\n",
       "\t power\\_dtw\\_RegTree\\_d3       & 3 & 0.8733333 & 0.06922528\\\\\n",
       "\t power\\_dtw\\_raw              & 3 & 0.8722222 & 0.07550118\\\\\n",
       "\t power\\_dtw\\_PAA\\_q6           & 5 & 0.8577778 & 0.05956084\\\\\n",
       "\t power\\_dtw\\_PAA\\_q6           & 1 & 0.8377778 & 0.07431555\\\\\n",
       "\t power\\_dtw\\_raw              & 5 & 0.8311111 & 0.07609121\\\\\n",
       "\t power\\_dtw\\_PAA\\_q6           & 3 & 0.8311111 & 0.08168051\\\\\n",
       "\t power\\_lcss\\_RegTree\\_d4      & 3 & 0.3855556 & 0.07563455\\\\\n",
       "\t power\\_lcss\\_RegTree\\_d4      & 5 & 0.3766667 & 0.08193460\\\\\n",
       "\t power\\_lcss\\_RegTree\\_d3      & 5 & 0.3655556 & 0.08405957\\\\\n",
       "\t power\\_lcss\\_RegTree\\_d3      & 1 & 0.3522222 & 0.08444832\\\\\n",
       "\t power\\_lcss\\_raw             & 3 & 0.3422222 & 0.08500589\\\\\n",
       "\t power\\_lcss\\_RegTree\\_d3      & 3 & 0.3422222 & 0.08574368\\\\\n",
       "\t power\\_lcss\\_raw             & 5 & 0.3400000 & 0.08594912\\\\\n",
       "\t power\\_lcss\\_RegTree\\_d4      & 1 & 0.3300000 & 0.08651158\\\\\n",
       "\t power\\_lcss\\_paa\\_q12         & 1 & 0.2944444 & 0.10484004\\\\\n",
       "\t power\\_lcss\\_paa\\_q6          & 3 & 0.2911111 & 0.09087908\\\\\n",
       "\t power\\_lcss\\_raw             & 1 & 0.2811111 & 0.10001889\\\\\n",
       "\t power\\_lcss\\_paa\\_q6          & 5 & 0.2711111 & 0.08447070\\\\\n",
       "\t power\\_lcss\\_paa\\_q6          & 1 & 0.2555556 & 0.09118353\\\\\n",
       "\t power\\_lcss\\_paa\\_q12         & 3 & 0.2411111 & 0.10201423\\\\\n",
       "\t power\\_lcss\\_paa\\_q12         & 5 & 0.2388889 & 0.08639500\\\\\n",
       "\\end{tabular}\n"
      ],
      "text/markdown": [
       "\n",
       "A data.table: 60 × 4\n",
       "\n",
       "| approach &lt;chr&gt; | k &lt;dbl&gt; | Mean &lt;dbl&gt; | SD &lt;dbl&gt; |\n",
       "|---|---|---|---|\n",
       "| power_euclidean_paa_q6     | 3 | 0.9855556 | 0.02928991 |\n",
       "| power_euclidean_paa_q12    | 3 | 0.9788889 | 0.03870218 |\n",
       "| power_euclidean_paa_q12    | 5 | 0.9755556 | 0.04071668 |\n",
       "| power_euclidean_raw        | 3 | 0.9744444 | 0.03586388 |\n",
       "| power_euclidean_raw        | 5 | 0.9733333 | 0.03762943 |\n",
       "| power_euclidean_paa_q6     | 5 | 0.9722222 | 0.03764616 |\n",
       "| power_euclidean_paa_q12    | 1 | 0.9711111 | 0.04084026 |\n",
       "| power_euclidean_paa_q6     | 1 | 0.9644444 | 0.03849002 |\n",
       "| power_euclidean_raw        | 1 | 0.9566667 | 0.05055749 |\n",
       "| power_erp_paa_q12          | 1 | 0.9566667 | 0.03934779 |\n",
       "| power_euclidean_RegTree_d4 | 5 | 0.9555556 | 0.05019488 |\n",
       "| power_euclidean_RegTree_d4 | 3 | 0.9544444 | 0.04301851 |\n",
       "| power_euclidean_RegTree_d3 | 5 | 0.9511111 | 0.04714045 |\n",
       "| power_erp_RegTree_d3       | 1 | 0.9511111 | 0.04714045 |\n",
       "| power_euclidean_RegTree_d3 | 1 | 0.9477778 | 0.04683212 |\n",
       "| power_erp_paa_q6           | 5 | 0.9477778 | 0.04110161 |\n",
       "| power_euclidean_RegTree_d3 | 3 | 0.9466667 | 0.04622292 |\n",
       "| power_erp_paa_q12          | 3 | 0.9433333 | 0.03804560 |\n",
       "| power_erp_paa_q12          | 5 | 0.9422222 | 0.04622292 |\n",
       "| power_erp_RegTree_d4       | 1 | 0.9411111 | 0.05430567 |\n",
       "| power_euclidean_RegTree_d4 | 1 | 0.9411111 | 0.04815832 |\n",
       "| power_erp_RegTree_d3       | 3 | 0.9266667 | 0.04687245 |\n",
       "| power_erp_paa_q6           | 3 | 0.9188889 | 0.05407319 |\n",
       "| power_erp_RegTree_d3       | 5 | 0.9188889 | 0.04518934 |\n",
       "| power_erp_paa_q6           | 1 | 0.9177778 | 0.05049515 |\n",
       "| power_erp_raw              | 1 | 0.9166667 | 0.05639949 |\n",
       "| power_erp_raw              | 5 | 0.9111111 | 0.05939139 |\n",
       "| power_erp_RegTree_d4       | 3 | 0.9055556 | 0.04661643 |\n",
       "| power_dtw_RegTree_d4       | 1 | 0.9044444 | 0.06830932 |\n",
       "| power_erp_RegTree_d4       | 5 | 0.9044444 | 0.06353173 |\n",
       "| power_dtw_RegTree_d3       | 5 | 0.9011111 | 0.07124315 |\n",
       "| power_dtw_RegTree_d3       | 1 | 0.9011111 | 0.05969816 |\n",
       "| power_dtw_PAA_q12          | 5 | 0.8988889 | 0.06217888 |\n",
       "| power_dtw_raw              | 1 | 0.8955556 | 0.06412384 |\n",
       "| power_dtw_PAA_q12          | 1 | 0.8944444 | 0.05411977 |\n",
       "| power_dtw_PAA_q12          | 3 | 0.8911111 | 0.06143493 |\n",
       "| power_erp_raw              | 3 | 0.8900000 | 0.05884802 |\n",
       "| power_dtw_RegTree_d4       | 5 | 0.8888889 | 0.06044264 |\n",
       "| power_dtw_RegTree_d4       | 3 | 0.8833333 | 0.06070261 |\n",
       "| power_dtw_RegTree_d3       | 3 | 0.8733333 | 0.06922528 |\n",
       "| power_dtw_raw              | 3 | 0.8722222 | 0.07550118 |\n",
       "| power_dtw_PAA_q6           | 5 | 0.8577778 | 0.05956084 |\n",
       "| power_dtw_PAA_q6           | 1 | 0.8377778 | 0.07431555 |\n",
       "| power_dtw_raw              | 5 | 0.8311111 | 0.07609121 |\n",
       "| power_dtw_PAA_q6           | 3 | 0.8311111 | 0.08168051 |\n",
       "| power_lcss_RegTree_d4      | 3 | 0.3855556 | 0.07563455 |\n",
       "| power_lcss_RegTree_d4      | 5 | 0.3766667 | 0.08193460 |\n",
       "| power_lcss_RegTree_d3      | 5 | 0.3655556 | 0.08405957 |\n",
       "| power_lcss_RegTree_d3      | 1 | 0.3522222 | 0.08444832 |\n",
       "| power_lcss_raw             | 3 | 0.3422222 | 0.08500589 |\n",
       "| power_lcss_RegTree_d3      | 3 | 0.3422222 | 0.08574368 |\n",
       "| power_lcss_raw             | 5 | 0.3400000 | 0.08594912 |\n",
       "| power_lcss_RegTree_d4      | 1 | 0.3300000 | 0.08651158 |\n",
       "| power_lcss_paa_q12         | 1 | 0.2944444 | 0.10484004 |\n",
       "| power_lcss_paa_q6          | 3 | 0.2911111 | 0.09087908 |\n",
       "| power_lcss_raw             | 1 | 0.2811111 | 0.10001889 |\n",
       "| power_lcss_paa_q6          | 5 | 0.2711111 | 0.08447070 |\n",
       "| power_lcss_paa_q6          | 1 | 0.2555556 | 0.09118353 |\n",
       "| power_lcss_paa_q12         | 3 | 0.2411111 | 0.10201423 |\n",
       "| power_lcss_paa_q12         | 5 | 0.2388889 | 0.08639500 |\n",
       "\n"
      ],
      "text/plain": [
       "   approach                   k Mean      SD        \n",
       "1  power_euclidean_paa_q6     3 0.9855556 0.02928991\n",
       "2  power_euclidean_paa_q12    3 0.9788889 0.03870218\n",
       "3  power_euclidean_paa_q12    5 0.9755556 0.04071668\n",
       "4  power_euclidean_raw        3 0.9744444 0.03586388\n",
       "5  power_euclidean_raw        5 0.9733333 0.03762943\n",
       "6  power_euclidean_paa_q6     5 0.9722222 0.03764616\n",
       "7  power_euclidean_paa_q12    1 0.9711111 0.04084026\n",
       "8  power_euclidean_paa_q6     1 0.9644444 0.03849002\n",
       "9  power_euclidean_raw        1 0.9566667 0.05055749\n",
       "10 power_erp_paa_q12          1 0.9566667 0.03934779\n",
       "11 power_euclidean_RegTree_d4 5 0.9555556 0.05019488\n",
       "12 power_euclidean_RegTree_d4 3 0.9544444 0.04301851\n",
       "13 power_euclidean_RegTree_d3 5 0.9511111 0.04714045\n",
       "14 power_erp_RegTree_d3       1 0.9511111 0.04714045\n",
       "15 power_euclidean_RegTree_d3 1 0.9477778 0.04683212\n",
       "16 power_erp_paa_q6           5 0.9477778 0.04110161\n",
       "17 power_euclidean_RegTree_d3 3 0.9466667 0.04622292\n",
       "18 power_erp_paa_q12          3 0.9433333 0.03804560\n",
       "19 power_erp_paa_q12          5 0.9422222 0.04622292\n",
       "20 power_erp_RegTree_d4       1 0.9411111 0.05430567\n",
       "21 power_euclidean_RegTree_d4 1 0.9411111 0.04815832\n",
       "22 power_erp_RegTree_d3       3 0.9266667 0.04687245\n",
       "23 power_erp_paa_q6           3 0.9188889 0.05407319\n",
       "24 power_erp_RegTree_d3       5 0.9188889 0.04518934\n",
       "25 power_erp_paa_q6           1 0.9177778 0.05049515\n",
       "26 power_erp_raw              1 0.9166667 0.05639949\n",
       "27 power_erp_raw              5 0.9111111 0.05939139\n",
       "28 power_erp_RegTree_d4       3 0.9055556 0.04661643\n",
       "29 power_dtw_RegTree_d4       1 0.9044444 0.06830932\n",
       "30 power_erp_RegTree_d4       5 0.9044444 0.06353173\n",
       "31 power_dtw_RegTree_d3       5 0.9011111 0.07124315\n",
       "32 power_dtw_RegTree_d3       1 0.9011111 0.05969816\n",
       "33 power_dtw_PAA_q12          5 0.8988889 0.06217888\n",
       "34 power_dtw_raw              1 0.8955556 0.06412384\n",
       "35 power_dtw_PAA_q12          1 0.8944444 0.05411977\n",
       "36 power_dtw_PAA_q12          3 0.8911111 0.06143493\n",
       "37 power_erp_raw              3 0.8900000 0.05884802\n",
       "38 power_dtw_RegTree_d4       5 0.8888889 0.06044264\n",
       "39 power_dtw_RegTree_d4       3 0.8833333 0.06070261\n",
       "40 power_dtw_RegTree_d3       3 0.8733333 0.06922528\n",
       "41 power_dtw_raw              3 0.8722222 0.07550118\n",
       "42 power_dtw_PAA_q6           5 0.8577778 0.05956084\n",
       "43 power_dtw_PAA_q6           1 0.8377778 0.07431555\n",
       "44 power_dtw_raw              5 0.8311111 0.07609121\n",
       "45 power_dtw_PAA_q6           3 0.8311111 0.08168051\n",
       "46 power_lcss_RegTree_d4      3 0.3855556 0.07563455\n",
       "47 power_lcss_RegTree_d4      5 0.3766667 0.08193460\n",
       "48 power_lcss_RegTree_d3      5 0.3655556 0.08405957\n",
       "49 power_lcss_RegTree_d3      1 0.3522222 0.08444832\n",
       "50 power_lcss_raw             3 0.3422222 0.08500589\n",
       "51 power_lcss_RegTree_d3      3 0.3422222 0.08574368\n",
       "52 power_lcss_raw             5 0.3400000 0.08594912\n",
       "53 power_lcss_RegTree_d4      1 0.3300000 0.08651158\n",
       "54 power_lcss_paa_q12         1 0.2944444 0.10484004\n",
       "55 power_lcss_paa_q6          3 0.2911111 0.09087908\n",
       "56 power_lcss_raw             1 0.2811111 0.10001889\n",
       "57 power_lcss_paa_q6          5 0.2711111 0.08447070\n",
       "58 power_lcss_paa_q6          1 0.2555556 0.09118353\n",
       "59 power_lcss_paa_q12         3 0.2411111 0.10201423\n",
       "60 power_lcss_paa_q12         5 0.2388889 0.08639500"
      ]
     },
     "metadata": {},
     "output_type": "display_data"
    }
   ],
   "source": [
    "result_power = CrossValidationTrain(dist,cv_indices, power_class)\n",
    "result_power = rbindlist(result_power)\n",
    "\n",
    "results_summary <- result_power[,.(Mean = mean(acc),SD = sd(acc)),.(approach,k)]\n",
    "results_summary[order(-Mean)]"
   ]
  },
  {
   "cell_type": "markdown",
   "id": "468f9b5d",
   "metadata": {},
   "source": [
    "## Testing"
   ]
  },
  {
   "cell_type": "code",
   "execution_count": 19,
   "id": "5d8e962f",
   "metadata": {},
   "outputs": [],
   "source": [
    "test_data_path=sprintf('%s/%s/%s_TEST.txt',getwd(),dataset,dataset)\n",
    "\n",
    "power_train = fread(train_data_path)\n",
    "power_test = fread(test_data_path)\n",
    "\n",
    "power_test <- setnames(power_test, \"V1\", \"Class\")\n",
    "power_train <- setnames(power_train, \"V1\", \"Class\")\n",
    "\n",
    "power_test <- data.table(power_test)\n",
    "power_train <- data.table(power_train)\n",
    "\n",
    "power_test[, \"ID\" := (1:.N)+180]\n",
    "power_test[, \"Class\" := as.factor(Class)]\n",
    "power_train[, \"ID\" := (1:.N)]\n",
    "power_train[, \"Class\" := as.factor(Class)]\n",
    "\n",
    "power_comb <- rbindlist(list(power_train,power_test),use.names = TRUE)\n",
    "\n",
    "setcolorder(power_comb, c(\"ID\", \"Class\"))\n",
    "colnames(power_comb) <- c(\"ID\", \"Class\",seq(1:144))\n",
    "power_comb_matrix <- as.matrix(power_comb[,c(-1,-2)])\n",
    "power_comb_long <- melt(power_comb,id.vars = c(\"ID\",\"Class\"))\n",
    "power_comb_long[,variable := as.numeric(variable)]\n",
    "power_comb_class <- power_comb$Class\n",
    "\n",
    "test_index_final = seq(181,360)\n",
    "\n",
    "power_comb_paa_q6 <- repr_matrix(power_comb_matrix,repr_paa,args = list(q = 6, func = meanC))\n",
    "\n",
    "index3 = seq(1,143, by = 6)\n",
    "for(i in seq(1,360)){\n",
    "    power_comb_long[(variable %in% index3) & (ID == i), PAA_q6 := power_comb_paa_q6[i,]]\n",
    "    power_comb_long[ID == i, PAA_q6_fit_value := power_comb_long[ID == i, na.locf(PAA_q6)]]\n",
    "}\n",
    "\n",
    "power_comb_PAA_q6_matrix <- dcast(power_comb_long, ID + Class ~ variable, value.var = \"PAA_q6_fit_value\")\n",
    "power_comb_euclidean_paa_q6 <- as.matrix(dist(as.matrix(power_comb_PAA_q6_matrix[,c(-1,-2)])))\n",
    "\n",
    "overall_result <- nn_classify_cv(power_comb_euclidean_paa_q6,power_comb_class,test_index_final,k=3)"
   ]
  },
  {
   "cell_type": "markdown",
   "id": "62de4498",
   "metadata": {},
   "source": [
    "Finally, the best performing model is used to classify the test data and its test accuracy is 96.67%\n",
    "\n",
    "Summary of the best performing model is as follows:"
   ]
  },
  {
   "cell_type": "code",
   "execution_count": 22,
   "id": "2cf2f70f",
   "metadata": {},
   "outputs": [
    {
     "data": {
      "text/html": [
       "0.966666666666667"
      ],
      "text/latex": [
       "0.966666666666667"
      ],
      "text/markdown": [
       "0.966666666666667"
      ],
      "text/plain": [
       "[1] 0.9666667"
      ]
     },
     "metadata": {},
     "output_type": "display_data"
    }
   ],
   "source": [
    "Test_Accuracy <- sum(power_comb_class[test_index_final]==overall_result$prediction$predicted)/length(test_index_final)\n",
    "Test_Accuracy"
   ]
  },
  {
   "cell_type": "code",
   "execution_count": 23,
   "id": "3072433f",
   "metadata": {},
   "outputs": [
    {
     "data": {
      "text/html": [
       "<table class=\"dataframe\">\n",
       "<caption>A data.frame: 1 × 6</caption>\n",
       "<thead>\n",
       "\t<tr><th scope=col>Dataset</th><th scope=col>Cross_Validation_Mean_Accuracy</th><th scope=col>Test_Accuracy</th><th scope=col>Distance</th><th scope=col>Representation</th><th scope=col>K</th></tr>\n",
       "\t<tr><th scope=col>&lt;chr&gt;</th><th scope=col>&lt;dbl&gt;</th><th scope=col>&lt;dbl&gt;</th><th scope=col>&lt;chr&gt;</th><th scope=col>&lt;chr&gt;</th><th scope=col>&lt;chr&gt;</th></tr>\n",
       "</thead>\n",
       "<tbody>\n",
       "\t<tr><td>PowerCons</td><td>0.9855556</td><td>0.9666667</td><td>Euclidean</td><td>PAA with Segment Length of 6</td><td>3</td></tr>\n",
       "</tbody>\n",
       "</table>\n"
      ],
      "text/latex": [
       "A data.frame: 1 × 6\n",
       "\\begin{tabular}{llllll}\n",
       " Dataset & Cross\\_Validation\\_Mean\\_Accuracy & Test\\_Accuracy & Distance & Representation & K\\\\\n",
       " <chr> & <dbl> & <dbl> & <chr> & <chr> & <chr>\\\\\n",
       "\\hline\n",
       "\t PowerCons & 0.9855556 & 0.9666667 & Euclidean & PAA with Segment Length of 6 & 3\\\\\n",
       "\\end{tabular}\n"
      ],
      "text/markdown": [
       "\n",
       "A data.frame: 1 × 6\n",
       "\n",
       "| Dataset &lt;chr&gt; | Cross_Validation_Mean_Accuracy &lt;dbl&gt; | Test_Accuracy &lt;dbl&gt; | Distance &lt;chr&gt; | Representation &lt;chr&gt; | K &lt;chr&gt; |\n",
       "|---|---|---|---|---|---|\n",
       "| PowerCons | 0.9855556 | 0.9666667 | Euclidean | PAA with Segment Length of 6 | 3 |\n",
       "\n"
      ],
      "text/plain": [
       "  Dataset   Cross_Validation_Mean_Accuracy Test_Accuracy Distance \n",
       "1 PowerCons 0.9855556                      0.9666667     Euclidean\n",
       "  Representation               K\n",
       "1 PAA with Segment Length of 6 3"
      ]
     },
     "metadata": {},
     "output_type": "display_data"
    }
   ],
   "source": [
    "Dataset <- \"PowerCons\"\n",
    "Cross_Validation_Mean_Accuracy <- max(results_summary$Mean)\n",
    "Distance = 'Euclidean'\n",
    "Representation = 'PAA with Segment Length of 6'\n",
    "K = '3'\n",
    "df <- data.frame(Dataset,Cross_Validation_Mean_Accuracy,Test_Accuracy,Distance,Representation,K)\n",
    "df"
   ]
  }
 ],
 "metadata": {
  "kernelspec": {
   "display_name": "R",
   "language": "R",
   "name": "ir"
  },
  "language_info": {
   "codemirror_mode": "r",
   "file_extension": ".r",
   "mimetype": "text/x-r-source",
   "name": "R",
   "pygments_lexer": "r",
   "version": "4.1.2"
  }
 },
 "nbformat": 4,
 "nbformat_minor": 5
}
