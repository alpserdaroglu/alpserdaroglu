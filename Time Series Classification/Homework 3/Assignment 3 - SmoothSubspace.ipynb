{
 "cells": [
  {
   "cell_type": "markdown",
   "id": "315edc2d",
   "metadata": {},
   "source": [
    "# Assignment 3\n",
    "\n",
    "In this analysis five different datasets are selected from http://www.timeseriesclassification.com/. Several models are trained for each dataset. Two different representations each with two different parameter sets are used to build the model. Then, distances between the time series are calculated using 4 different distance measures. In the classification step, 3 different k values are used in the K-NN algorithm. Accuracy of each model is calculated to determine the best performing model. Finally, the best performing model is tested on a seperate test set."
   ]
  },
  {
   "cell_type": "code",
   "execution_count": null,
   "id": "6c7b6082",
   "metadata": {},
   "outputs": [],
   "source": [
    "library(data.table)\n",
    "library(ggplot2)\n",
    "library(TSrepr)\n",
    "library(caret)\n",
    "library(TSdist)\n",
    "library(dtw)\n",
    "library(zoo)\n",
    "library(rpart)\n",
    "library(rattle)\n",
    "require(TunePareto)\n",
    "\n",
    "setwd(\"C:/Users/alpsr/Desktop/Assignment 3\")"
   ]
  },
  {
   "cell_type": "markdown",
   "id": "724534f1",
   "metadata": {},
   "source": [
    "## Dataset 4: SmoothSubspace\n",
    "\n",
    "In this notebook, Plane dataset is evaluated. This dataset contains 150 training time series and 150 test time series. There are 3 different classes. First six time series in the training dataset are as follows."
   ]
  },
  {
   "cell_type": "code",
   "execution_count": 2,
   "id": "5edfa319",
   "metadata": {},
   "outputs": [],
   "source": [
    "dataset = 'SmoothSubspace'\n",
    "train_data_path=sprintf('%s/%s/%s_TRAIN.txt',getwd(),dataset,dataset)"
   ]
  },
  {
   "cell_type": "code",
   "execution_count": 3,
   "id": "b288a42e",
   "metadata": {},
   "outputs": [
    {
     "data": {
      "text/html": [
       "<table class=\"dataframe\">\n",
       "<caption>A data.table: 6 × 17</caption>\n",
       "<thead>\n",
       "\t<tr><th scope=col>ID</th><th scope=col>Class</th><th scope=col>1</th><th scope=col>2</th><th scope=col>3</th><th scope=col>4</th><th scope=col>5</th><th scope=col>6</th><th scope=col>7</th><th scope=col>8</th><th scope=col>9</th><th scope=col>10</th><th scope=col>11</th><th scope=col>12</th><th scope=col>13</th><th scope=col>14</th><th scope=col>15</th></tr>\n",
       "\t<tr><th scope=col>&lt;int&gt;</th><th scope=col>&lt;fct&gt;</th><th scope=col>&lt;dbl&gt;</th><th scope=col>&lt;dbl&gt;</th><th scope=col>&lt;dbl&gt;</th><th scope=col>&lt;dbl&gt;</th><th scope=col>&lt;dbl&gt;</th><th scope=col>&lt;dbl&gt;</th><th scope=col>&lt;dbl&gt;</th><th scope=col>&lt;dbl&gt;</th><th scope=col>&lt;dbl&gt;</th><th scope=col>&lt;dbl&gt;</th><th scope=col>&lt;dbl&gt;</th><th scope=col>&lt;dbl&gt;</th><th scope=col>&lt;dbl&gt;</th><th scope=col>&lt;dbl&gt;</th><th scope=col>&lt;dbl&gt;</th></tr>\n",
       "</thead>\n",
       "<tbody>\n",
       "\t<tr><td>1</td><td>1</td><td>0.4810517</td><td>0.6145143</td><td>0.6183783</td><td>0.4971101</td><td>0.6595241</td><td>0.8790139</td><td>0.6628081</td><td>0.3288142</td><td>0.4023883</td><td>0.38724543</td><td>0.04265986</td><td>0.04229780</td><td>0.41704745</td><td>0.42791092</td><td>0.42485841</td></tr>\n",
       "\t<tr><td>2</td><td>1</td><td>0.5175792</td><td>0.6477515</td><td>0.7577292</td><td>0.5509700</td><td>0.5986248</td><td>0.3185243</td><td>0.3985895</td><td>0.1278884</td><td>0.7032232</td><td>0.81614010</td><td>0.99615611</td><td>0.24090500</td><td>0.93713467</td><td>0.43618496</td><td>0.57892349</td></tr>\n",
       "\t<tr><td>3</td><td>1</td><td>0.4174242</td><td>0.6100467</td><td>0.7901224</td><td>0.5250664</td><td>0.5976593</td><td>0.4424023</td><td>0.1925104</td><td>0.1966582</td><td>0.7580993</td><td>0.09851874</td><td>0.53566419</td><td>0.39000491</td><td>0.07068434</td><td>0.67477647</td><td>0.05597616</td></tr>\n",
       "\t<tr><td>4</td><td>1</td><td>0.6322746</td><td>0.6261523</td><td>0.7710858</td><td>0.4517133</td><td>0.6186154</td><td>0.5605595</td><td>0.8541000</td><td>0.1320830</td><td>0.1704320</td><td>0.35507365</td><td>0.69378761</td><td>0.48959434</td><td>0.66693153</td><td>0.61280959</td><td>0.26013019</td></tr>\n",
       "\t<tr><td>5</td><td>1</td><td>0.4941312</td><td>0.6011924</td><td>0.7280025</td><td>0.4112070</td><td>0.5811399</td><td>0.7487057</td><td>0.7855590</td><td>0.6078659</td><td>0.2175633</td><td>0.64206083</td><td>0.51181992</td><td>0.04755467</td><td>0.64630196</td><td>0.07103708</td><td>0.68006553</td></tr>\n",
       "\t<tr><td>6</td><td>1</td><td>0.5128905</td><td>0.5825645</td><td>0.7455101</td><td>0.4872114</td><td>0.6074090</td><td>0.5340641</td><td>0.1339313</td><td>0.5495401</td><td>0.5557379</td><td>0.31742786</td><td>0.35453430</td><td>0.71504501</td><td>0.82953282</td><td>0.82662951</td><td>0.86688705</td></tr>\n",
       "</tbody>\n",
       "</table>\n"
      ],
      "text/latex": [
       "A data.table: 6 × 17\n",
       "\\begin{tabular}{lllllllllllllllll}\n",
       " ID & Class & 1 & 2 & 3 & 4 & 5 & 6 & 7 & 8 & 9 & 10 & 11 & 12 & 13 & 14 & 15\\\\\n",
       " <int> & <fct> & <dbl> & <dbl> & <dbl> & <dbl> & <dbl> & <dbl> & <dbl> & <dbl> & <dbl> & <dbl> & <dbl> & <dbl> & <dbl> & <dbl> & <dbl>\\\\\n",
       "\\hline\n",
       "\t 1 & 1 & 0.4810517 & 0.6145143 & 0.6183783 & 0.4971101 & 0.6595241 & 0.8790139 & 0.6628081 & 0.3288142 & 0.4023883 & 0.38724543 & 0.04265986 & 0.04229780 & 0.41704745 & 0.42791092 & 0.42485841\\\\\n",
       "\t 2 & 1 & 0.5175792 & 0.6477515 & 0.7577292 & 0.5509700 & 0.5986248 & 0.3185243 & 0.3985895 & 0.1278884 & 0.7032232 & 0.81614010 & 0.99615611 & 0.24090500 & 0.93713467 & 0.43618496 & 0.57892349\\\\\n",
       "\t 3 & 1 & 0.4174242 & 0.6100467 & 0.7901224 & 0.5250664 & 0.5976593 & 0.4424023 & 0.1925104 & 0.1966582 & 0.7580993 & 0.09851874 & 0.53566419 & 0.39000491 & 0.07068434 & 0.67477647 & 0.05597616\\\\\n",
       "\t 4 & 1 & 0.6322746 & 0.6261523 & 0.7710858 & 0.4517133 & 0.6186154 & 0.5605595 & 0.8541000 & 0.1320830 & 0.1704320 & 0.35507365 & 0.69378761 & 0.48959434 & 0.66693153 & 0.61280959 & 0.26013019\\\\\n",
       "\t 5 & 1 & 0.4941312 & 0.6011924 & 0.7280025 & 0.4112070 & 0.5811399 & 0.7487057 & 0.7855590 & 0.6078659 & 0.2175633 & 0.64206083 & 0.51181992 & 0.04755467 & 0.64630196 & 0.07103708 & 0.68006553\\\\\n",
       "\t 6 & 1 & 0.5128905 & 0.5825645 & 0.7455101 & 0.4872114 & 0.6074090 & 0.5340641 & 0.1339313 & 0.5495401 & 0.5557379 & 0.31742786 & 0.35453430 & 0.71504501 & 0.82953282 & 0.82662951 & 0.86688705\\\\\n",
       "\\end{tabular}\n"
      ],
      "text/markdown": [
       "\n",
       "A data.table: 6 × 17\n",
       "\n",
       "| ID &lt;int&gt; | Class &lt;fct&gt; | 1 &lt;dbl&gt; | 2 &lt;dbl&gt; | 3 &lt;dbl&gt; | 4 &lt;dbl&gt; | 5 &lt;dbl&gt; | 6 &lt;dbl&gt; | 7 &lt;dbl&gt; | 8 &lt;dbl&gt; | 9 &lt;dbl&gt; | 10 &lt;dbl&gt; | 11 &lt;dbl&gt; | 12 &lt;dbl&gt; | 13 &lt;dbl&gt; | 14 &lt;dbl&gt; | 15 &lt;dbl&gt; |\n",
       "|---|---|---|---|---|---|---|---|---|---|---|---|---|---|---|---|---|\n",
       "| 1 | 1 | 0.4810517 | 0.6145143 | 0.6183783 | 0.4971101 | 0.6595241 | 0.8790139 | 0.6628081 | 0.3288142 | 0.4023883 | 0.38724543 | 0.04265986 | 0.04229780 | 0.41704745 | 0.42791092 | 0.42485841 |\n",
       "| 2 | 1 | 0.5175792 | 0.6477515 | 0.7577292 | 0.5509700 | 0.5986248 | 0.3185243 | 0.3985895 | 0.1278884 | 0.7032232 | 0.81614010 | 0.99615611 | 0.24090500 | 0.93713467 | 0.43618496 | 0.57892349 |\n",
       "| 3 | 1 | 0.4174242 | 0.6100467 | 0.7901224 | 0.5250664 | 0.5976593 | 0.4424023 | 0.1925104 | 0.1966582 | 0.7580993 | 0.09851874 | 0.53566419 | 0.39000491 | 0.07068434 | 0.67477647 | 0.05597616 |\n",
       "| 4 | 1 | 0.6322746 | 0.6261523 | 0.7710858 | 0.4517133 | 0.6186154 | 0.5605595 | 0.8541000 | 0.1320830 | 0.1704320 | 0.35507365 | 0.69378761 | 0.48959434 | 0.66693153 | 0.61280959 | 0.26013019 |\n",
       "| 5 | 1 | 0.4941312 | 0.6011924 | 0.7280025 | 0.4112070 | 0.5811399 | 0.7487057 | 0.7855590 | 0.6078659 | 0.2175633 | 0.64206083 | 0.51181992 | 0.04755467 | 0.64630196 | 0.07103708 | 0.68006553 |\n",
       "| 6 | 1 | 0.5128905 | 0.5825645 | 0.7455101 | 0.4872114 | 0.6074090 | 0.5340641 | 0.1339313 | 0.5495401 | 0.5557379 | 0.31742786 | 0.35453430 | 0.71504501 | 0.82953282 | 0.82662951 | 0.86688705 |\n",
       "\n"
      ],
      "text/plain": [
       "  ID Class 1         2         3         4         5         6        \n",
       "1 1  1     0.4810517 0.6145143 0.6183783 0.4971101 0.6595241 0.8790139\n",
       "2 2  1     0.5175792 0.6477515 0.7577292 0.5509700 0.5986248 0.3185243\n",
       "3 3  1     0.4174242 0.6100467 0.7901224 0.5250664 0.5976593 0.4424023\n",
       "4 4  1     0.6322746 0.6261523 0.7710858 0.4517133 0.6186154 0.5605595\n",
       "5 5  1     0.4941312 0.6011924 0.7280025 0.4112070 0.5811399 0.7487057\n",
       "6 6  1     0.5128905 0.5825645 0.7455101 0.4872114 0.6074090 0.5340641\n",
       "  7         8         9         10         11         12         13        \n",
       "1 0.6628081 0.3288142 0.4023883 0.38724543 0.04265986 0.04229780 0.41704745\n",
       "2 0.3985895 0.1278884 0.7032232 0.81614010 0.99615611 0.24090500 0.93713467\n",
       "3 0.1925104 0.1966582 0.7580993 0.09851874 0.53566419 0.39000491 0.07068434\n",
       "4 0.8541000 0.1320830 0.1704320 0.35507365 0.69378761 0.48959434 0.66693153\n",
       "5 0.7855590 0.6078659 0.2175633 0.64206083 0.51181992 0.04755467 0.64630196\n",
       "6 0.1339313 0.5495401 0.5557379 0.31742786 0.35453430 0.71504501 0.82953282\n",
       "  14         15        \n",
       "1 0.42791092 0.42485841\n",
       "2 0.43618496 0.57892349\n",
       "3 0.67477647 0.05597616\n",
       "4 0.61280959 0.26013019\n",
       "5 0.07103708 0.68006553\n",
       "6 0.82662951 0.86688705"
      ]
     },
     "metadata": {},
     "output_type": "display_data"
    }
   ],
   "source": [
    "sub = fread(train_data_path)\n",
    "sub <- setnames(sub, \"V1\", \"Class\")\n",
    "sub <- data.table(sub)\n",
    "sub[, \"ID\" := 1:.N]\n",
    "sub[, \"Class\" := as.factor(Class)]\n",
    "setcolorder(sub, c(\"ID\", \"Class\"))\n",
    "colnames(sub) <- c(\"ID\", \"Class\",seq(1:15))\n",
    "sub_matrix <- as.matrix(sub[,c(-1,-2)])\n",
    "sub_long <- melt(sub,id.vars = c(\"ID\",\"Class\"))\n",
    "sub_long[,variable := as.numeric(variable)]\n",
    "sub_class <- sub$Class\n",
    "head(sub)"
   ]
  },
  {
   "cell_type": "markdown",
   "id": "95409921",
   "metadata": {},
   "source": [
    "## Classes\n",
    "\n",
    "Three classes from the dataset are as follows."
   ]
  },
  {
   "cell_type": "code",
   "execution_count": 4,
   "id": "34bf2ad5",
   "metadata": {
    "scrolled": false
   },
   "outputs": [
    {
     "data": {
      "image/png": "[encoded data removed]",
      "text/plain": [
       "plot without title"
      ]
     },
     "metadata": {
      "image/png": {
       "height": 420,
       "width": 420
      }
     },
     "output_type": "display_data"
    }
   ],
   "source": [
    "sub_class_1 <- melt(sub[,head(.SD, 1), Class],id.vars = c(\"ID\",\"Class\"))\n",
    "\n",
    "ggplot(sub_class_1, aes(x = variable, y = value, group = Class)) +\n",
    "geom_line(aes(color = Class))"
   ]
  },
  {
   "cell_type": "markdown",
   "id": "c10bfad9",
   "metadata": {},
   "source": [
    "## Representations\n",
    "\n",
    "Two different representations are used in this analysis. First one is PLA (piecewise linear approximation) and second is the APCA (Adaptive Piecewise Constant Approximation) using regression trees.\n",
    "\n",
    "### Piecewise Linear Approximation"
   ]
  },
  {
   "cell_type": "code",
   "execution_count": 5,
   "id": "d6e2d9d4",
   "metadata": {},
   "outputs": [],
   "source": [
    "sub_pla_q12 <- repr_matrix(sub_matrix,repr_pla,args = list(times = 5, return = 'points'))\n",
    "sub_pla_q6 <- repr_matrix(sub_matrix,repr_pla,args = list(times = 3,return = 'points'))\n",
    "\n",
    "index1 = c(seq(1,14, by = 3),15)\n",
    "for(i in seq(1,150)){\n",
    "    sub_long[(variable %in% index1) & (ID == i), PLA_q12 := sub_pla_q12[i,]]\n",
    "    sub_long[ID == i, PLA_q12_fit_value := sub_long[ID == i, na.approx(PLA_q12)]]\n",
    "}\n",
    "\n",
    "index2 = c(seq(1,14, by = 5),15)\n",
    "for(i in seq(1,150)){\n",
    "    sub_long[(variable %in% index2) & (ID == i), PLA_q6 := sub_pla_q6[i,]]\n",
    "    sub_long[ID == i, PLA_q6_fit_value := sub_long[ID == i, na.approx(PLA_q6)]]\n",
    "}"
   ]
  },
  {
   "cell_type": "markdown",
   "id": "11fcaa55",
   "metadata": {},
   "source": [
    "### Regression Trees"
   ]
  },
  {
   "cell_type": "code",
   "execution_count": 6,
   "id": "aac9ab55",
   "metadata": {},
   "outputs": [
    {
     "data": {
      "text/html": [
       "<table class=\"dataframe\">\n",
       "<caption>A data.table: 6 × 10</caption>\n",
       "<thead>\n",
       "\t<tr><th scope=col>ID</th><th scope=col>Class</th><th scope=col>variable</th><th scope=col>value</th><th scope=col>PLA_q12</th><th scope=col>PLA_q12_fit_value</th><th scope=col>PLA_q6</th><th scope=col>PLA_q6_fit_value</th><th scope=col>Tree_fit_d3</th><th scope=col>Tree_fit_d4</th></tr>\n",
       "\t<tr><th scope=col>&lt;int&gt;</th><th scope=col>&lt;fct&gt;</th><th scope=col>&lt;dbl&gt;</th><th scope=col>&lt;dbl&gt;</th><th scope=col>&lt;dbl&gt;</th><th scope=col>&lt;dbl&gt;</th><th scope=col>&lt;dbl&gt;</th><th scope=col>&lt;dbl&gt;</th><th scope=col>&lt;dbl&gt;</th><th scope=col>&lt;dbl&gt;</th></tr>\n",
       "</thead>\n",
       "<tbody>\n",
       "\t<tr><td>1</td><td>1</td><td>1</td><td>0.4810517</td><td>0.4810517</td><td>0.4810517</td><td>0.4810517</td><td>0.4810517</td><td>0.4590415</td><td>0.4590415</td></tr>\n",
       "\t<tr><td>2</td><td>1</td><td>1</td><td>0.5175792</td><td>0.5175792</td><td>0.5175792</td><td>0.5175792</td><td>0.5175792</td><td>0.5750883</td><td>0.5750883</td></tr>\n",
       "\t<tr><td>3</td><td>1</td><td>1</td><td>0.4174242</td><td>0.4174242</td><td>0.4174242</td><td>0.4174242</td><td>0.4174242</td><td>0.4237076</td><td>0.4237076</td></tr>\n",
       "\t<tr><td>4</td><td>1</td><td>1</td><td>0.6322746</td><td>0.6322746</td><td>0.6322746</td><td>0.6322746</td><td>0.6322746</td><td>0.5263562</td><td>0.5263562</td></tr>\n",
       "\t<tr><td>5</td><td>1</td><td>1</td><td>0.4941312</td><td>0.4941312</td><td>0.4941312</td><td>0.4941312</td><td>0.4941312</td><td>0.5182805</td><td>0.5182805</td></tr>\n",
       "\t<tr><td>6</td><td>1</td><td>1</td><td>0.5128905</td><td>0.5128905</td><td>0.5128905</td><td>0.5128905</td><td>0.5128905</td><td>0.5745944</td><td>0.5745944</td></tr>\n",
       "</tbody>\n",
       "</table>\n"
      ],
      "text/latex": [
       "A data.table: 6 × 10\n",
       "\\begin{tabular}{llllllllll}\n",
       " ID & Class & variable & value & PLA\\_q12 & PLA\\_q12\\_fit\\_value & PLA\\_q6 & PLA\\_q6\\_fit\\_value & Tree\\_fit\\_d3 & Tree\\_fit\\_d4\\\\\n",
       " <int> & <fct> & <dbl> & <dbl> & <dbl> & <dbl> & <dbl> & <dbl> & <dbl> & <dbl>\\\\\n",
       "\\hline\n",
       "\t 1 & 1 & 1 & 0.4810517 & 0.4810517 & 0.4810517 & 0.4810517 & 0.4810517 & 0.4590415 & 0.4590415\\\\\n",
       "\t 2 & 1 & 1 & 0.5175792 & 0.5175792 & 0.5175792 & 0.5175792 & 0.5175792 & 0.5750883 & 0.5750883\\\\\n",
       "\t 3 & 1 & 1 & 0.4174242 & 0.4174242 & 0.4174242 & 0.4174242 & 0.4174242 & 0.4237076 & 0.4237076\\\\\n",
       "\t 4 & 1 & 1 & 0.6322746 & 0.6322746 & 0.6322746 & 0.6322746 & 0.6322746 & 0.5263562 & 0.5263562\\\\\n",
       "\t 5 & 1 & 1 & 0.4941312 & 0.4941312 & 0.4941312 & 0.4941312 & 0.4941312 & 0.5182805 & 0.5182805\\\\\n",
       "\t 6 & 1 & 1 & 0.5128905 & 0.5128905 & 0.5128905 & 0.5128905 & 0.5128905 & 0.5745944 & 0.5745944\\\\\n",
       "\\end{tabular}\n"
      ],
      "text/markdown": [
       "\n",
       "A data.table: 6 × 10\n",
       "\n",
       "| ID &lt;int&gt; | Class &lt;fct&gt; | variable &lt;dbl&gt; | value &lt;dbl&gt; | PLA_q12 &lt;dbl&gt; | PLA_q12_fit_value &lt;dbl&gt; | PLA_q6 &lt;dbl&gt; | PLA_q6_fit_value &lt;dbl&gt; | Tree_fit_d3 &lt;dbl&gt; | Tree_fit_d4 &lt;dbl&gt; |\n",
       "|---|---|---|---|---|---|---|---|---|---|\n",
       "| 1 | 1 | 1 | 0.4810517 | 0.4810517 | 0.4810517 | 0.4810517 | 0.4810517 | 0.4590415 | 0.4590415 |\n",
       "| 2 | 1 | 1 | 0.5175792 | 0.5175792 | 0.5175792 | 0.5175792 | 0.5175792 | 0.5750883 | 0.5750883 |\n",
       "| 3 | 1 | 1 | 0.4174242 | 0.4174242 | 0.4174242 | 0.4174242 | 0.4174242 | 0.4237076 | 0.4237076 |\n",
       "| 4 | 1 | 1 | 0.6322746 | 0.6322746 | 0.6322746 | 0.6322746 | 0.6322746 | 0.5263562 | 0.5263562 |\n",
       "| 5 | 1 | 1 | 0.4941312 | 0.4941312 | 0.4941312 | 0.4941312 | 0.4941312 | 0.5182805 | 0.5182805 |\n",
       "| 6 | 1 | 1 | 0.5128905 | 0.5128905 | 0.5128905 | 0.5128905 | 0.5128905 | 0.5745944 | 0.5745944 |\n",
       "\n"
      ],
      "text/plain": [
       "  ID Class variable value     PLA_q12   PLA_q12_fit_value PLA_q6   \n",
       "1 1  1     1        0.4810517 0.4810517 0.4810517         0.4810517\n",
       "2 2  1     1        0.5175792 0.5175792 0.5175792         0.5175792\n",
       "3 3  1     1        0.4174242 0.4174242 0.4174242         0.4174242\n",
       "4 4  1     1        0.6322746 0.6322746 0.6322746         0.6322746\n",
       "5 5  1     1        0.4941312 0.4941312 0.4941312         0.4941312\n",
       "6 6  1     1        0.5128905 0.5128905 0.5128905         0.5128905\n",
       "  PLA_q6_fit_value Tree_fit_d3 Tree_fit_d4\n",
       "1 0.4810517        0.4590415   0.4590415  \n",
       "2 0.5175792        0.5750883   0.5750883  \n",
       "3 0.4174242        0.4237076   0.4237076  \n",
       "4 0.6322746        0.5263562   0.5263562  \n",
       "5 0.4941312        0.5182805   0.5182805  \n",
       "6 0.5128905        0.5745944   0.5745944  "
      ]
     },
     "metadata": {},
     "output_type": "display_data"
    }
   ],
   "source": [
    "for(i in seq(1,150)){\n",
    "    selected_series <- sub_long[ID == i]\n",
    "    tree_fit=rpart(value~variable,selected_series,control=rpart.control(maxdepth=3, cp = 0, minsplit = 20, minbucket = 10))\n",
    "    #fancyRpartPlot(tree_fit)\n",
    "    sub_long[ID == i, Tree_fit_d3 := predict(tree_fit, selected_series)]\n",
    "}\n",
    "\n",
    "for(j in seq(1,150)){\n",
    "    selected_series <- sub_long[ID == j]\n",
    "    tree_fit=rpart(value~variable,selected_series,control=rpart.control(maxdepth=4, cp = 0, minsplit = 20, minbucket = 10))\n",
    "    #fancyRpartPlot(tree_fit)\n",
    "    sub_long[ID == j, Tree_fit_d4 := predict(tree_fit, selected_series)]\n",
    "}\n",
    "\n",
    "head(sub_long)"
   ]
  },
  {
   "cell_type": "markdown",
   "id": "d4cacd08",
   "metadata": {},
   "source": [
    "## Distance Measures\n",
    "\n",
    "Three different distances measures are used. First one is the Euclidean Distance. Remaining ones are Dynamic Time Warping (DTW), Longest Common Subsequence (LCSS) and Edit Distance with Real Penalties (ERP).\n",
    "\n",
    "### Euclidean Distance"
   ]
  },
  {
   "cell_type": "code",
   "execution_count": 7,
   "id": "b87dab96",
   "metadata": {},
   "outputs": [],
   "source": [
    "sub_euclidean_raw <- as.matrix(dist(sub_matrix))\n",
    "\n",
    "sub_PLA_q12_matrix <- dcast(sub_long, ID + Class ~ variable, value.var = \"PLA_q12_fit_value\")\n",
    "sub_PLA_q6_matrix <- dcast(sub_long, ID + Class ~ variable, value.var = \"PLA_q6_fit_value\")\n",
    "sub_RegTree_d3_matrix <- dcast(sub_long, ID + Class ~ variable, value.var = \"Tree_fit_d3\")\n",
    "sub_RegTree_d4_matrix <- dcast(sub_long, ID + Class ~ variable, value.var = \"Tree_fit_d4\")\n",
    "\n",
    "sub_euclidean_pla_q12 <- as.matrix(dist(as.matrix(sub_PLA_q12_matrix[,c(-1,-2)])))\n",
    "sub_euclidean_pla_q6 <- as.matrix(dist(as.matrix(sub_PLA_q6_matrix[,c(-1,-2)])))\n",
    "sub_euclidean_RegTree_d3 <- as.matrix(dist(as.matrix(sub_RegTree_d3_matrix[,c(-1,-2)])))\n",
    "sub_euclidean_RegTree_d4 <- as.matrix(dist(as.matrix(sub_RegTree_d4_matrix[,c(-1,-2)])))"
   ]
  },
  {
   "cell_type": "markdown",
   "id": "4798a3be",
   "metadata": {},
   "source": [
    "### Dynamic Time Warping"
   ]
  },
  {
   "cell_type": "code",
   "execution_count": 8,
   "id": "63802f2e",
   "metadata": {
    "scrolled": true
   },
   "outputs": [],
   "source": [
    "sub_dtw_pla_q12 <- as.matrix(TSDatabaseDistances(X = sub_PLA_q12_matrix[,c(-1,-2)], distance = 'dtw'))\n",
    "sub_dtw_pla_q6 <- as.matrix(TSDatabaseDistances(X = sub_PLA_q6_matrix[,c(-1,-2)], distance = 'dtw'))\n",
    "sub_dtw_RegTree_d3 <- as.matrix(TSDatabaseDistances(X = sub_RegTree_d3_matrix[,c(-1,-2)], distance = 'dtw'))\n",
    "sub_dtw_RegTree_d4 <- as.matrix(TSDatabaseDistances(X = sub_RegTree_d4_matrix[,c(-1,-2)], distance = 'dtw'))\n",
    "sub_dtw_raw <- as.matrix(TSDatabaseDistances(X = sub_matrix, distance = 'dtw'))"
   ]
  },
  {
   "cell_type": "markdown",
   "id": "d389cc18",
   "metadata": {},
   "source": [
    "### LCSS"
   ]
  },
  {
   "cell_type": "code",
   "execution_count": 9,
   "id": "f82b0410",
   "metadata": {},
   "outputs": [],
   "source": [
    "sub_lcss_raw <- as.matrix(TSDatabaseDistances(X = sub_matrix, distance = 'lcss', epsilon = 0.1))\n",
    "sub_lcss_pla_q12 <- as.matrix(TSDatabaseDistances(X = sub_PLA_q12_matrix[,c(-1,-2)], distance = 'lcss', epsilon = 0.1))\n",
    "sub_lcss_pla_q6 <- as.matrix(TSDatabaseDistances(X = sub_PLA_q6_matrix[,c(-1,-2)], distance = 'lcss', epsilon = 0.1))\n",
    "sub_lcss_RegTree_d3 <- as.matrix(TSDatabaseDistances(X = sub_RegTree_d3_matrix[,c(-1,-2)], distance = 'lcss', epsilon = 0.1))\n",
    "sub_lcss_RegTree_d4 <- as.matrix(TSDatabaseDistances(X = sub_RegTree_d4_matrix[,c(-1,-2)], distance = 'lcss', epsilon = 0.1))\n",
    "#str(sub_lcss_pla_q12)"
   ]
  },
  {
   "cell_type": "markdown",
   "id": "dd4de499",
   "metadata": {},
   "source": [
    "### ERP"
   ]
  },
  {
   "cell_type": "code",
   "execution_count": 10,
   "id": "9a86d226",
   "metadata": {},
   "outputs": [],
   "source": [
    "sub_erp_raw <- as.matrix(TSDatabaseDistances(X = sub_matrix, distance = 'erp', g = 0))\n",
    "sub_erp_pla_q12 <- as.matrix(TSDatabaseDistances(X = sub_PLA_q12_matrix[,c(-1,-2)], distance = 'erp', g = 0))\n",
    "sub_erp_pla_q6 <- as.matrix(TSDatabaseDistances(X = sub_PLA_q6_matrix[,c(-1,-2)], distance = 'erp', g = 0))\n",
    "sub_erp_RegTree_d3 <- as.matrix(TSDatabaseDistances(X = sub_RegTree_d3_matrix[,c(-1,-2)], distance = 'erp', g = 0))\n",
    "sub_erp_RegTree_d4 <- as.matrix(TSDatabaseDistances(X = sub_RegTree_d4_matrix[,c(-1,-2)], distance = 'erp', g = 0))\n",
    "#str(sub_erp_pla_q12)"
   ]
  },
  {
   "cell_type": "markdown",
   "id": "e866b00d",
   "metadata": {},
   "source": [
    "## Generating Runs\n",
    "\n",
    "After building the distance matrices, each model's performance is measured using the 10-fold stratified cross validation with 5 repeats.\n",
    "\n",
    "### Cross-Validation Runs"
   ]
  },
  {
   "cell_type": "code",
   "execution_count": 11,
   "id": "7e513af7",
   "metadata": {
    "scrolled": true
   },
   "outputs": [
    {
     "name": "stdout",
     "output_type": "stream",
     "text": [
      "List of 5\n",
      " $ Run  1:List of 10\n",
      "  ..$ Fold  1 : int [1:15] 24 50 36 38 34 57 92 85 64 74 ...\n",
      "  ..$ Fold  2 : int [1:15] 17 45 13 23 32 94 63 61 100 73 ...\n",
      "  ..$ Fold  3 : int [1:15] 1 19 15 46 28 90 95 84 99 76 ...\n",
      "  ..$ Fold  4 : int [1:15] 6 43 31 26 21 54 89 97 72 70 ...\n",
      "  ..$ Fold  5 : int [1:15] 29 8 48 33 9 58 93 88 79 87 ...\n",
      "  ..$ Fold  6 : int [1:15] 41 39 18 20 12 60 77 81 52 65 ...\n",
      "  ..$ Fold  7 : int [1:15] 10 47 42 25 3 71 96 80 82 68 ...\n",
      "  ..$ Fold  8 : int [1:15] 16 4 44 27 14 91 86 67 56 98 ...\n",
      "  ..$ Fold  9 : int [1:15] 30 37 2 49 11 62 66 55 69 51 ...\n",
      "  ..$ Fold  10: int [1:15] 40 7 5 22 35 53 59 75 83 78 ...\n",
      " $ Run  2:List of 10\n",
      "  ..$ Fold  1 : int [1:15] 13 17 1 23 27 69 97 64 93 83 ...\n",
      "  ..$ Fold  2 : int [1:15] 29 26 46 2 24 91 95 86 81 80 ...\n",
      "  ..$ Fold  3 : int [1:15] 4 7 22 41 30 73 60 75 96 63 ...\n",
      "  ..$ Fold  4 : int [1:15] 33 32 11 16 25 76 98 62 79 51 ...\n",
      "  ..$ Fold  5 : int [1:15] 9 21 49 18 31 54 61 67 66 87 ...\n",
      "  ..$ Fold  6 : int [1:15] 34 28 40 47 45 70 58 90 78 84 ...\n",
      "  ..$ Fold  7 : int [1:15] 10 48 50 6 12 55 89 74 99 92 ...\n",
      "  ..$ Fold  8 : int [1:15] 36 43 3 15 38 68 56 100 72 71 ...\n",
      "  ..$ Fold  9 : int [1:15] 37 19 14 42 39 52 88 53 77 65 ...\n",
      "  ..$ Fold  10: int [1:15] 8 20 44 5 35 94 82 59 85 57 ...\n",
      " $ Run  3:List of 10\n",
      "  ..$ Fold  1 : int [1:15] 32 36 42 14 25 66 89 72 77 65 ...\n",
      "  ..$ Fold  2 : int [1:15] 27 8 31 13 6 84 95 86 76 55 ...\n",
      "  ..$ Fold  3 : int [1:15] 33 37 11 49 17 74 81 99 94 96 ...\n",
      "  ..$ Fold  4 : int [1:15] 10 29 41 39 7 80 91 53 98 51 ...\n",
      "  ..$ Fold  5 : int [1:15] 24 38 46 12 9 57 68 97 92 69 ...\n",
      "  ..$ Fold  6 : int [1:15] 45 43 21 1 18 79 56 63 62 83 ...\n",
      "  ..$ Fold  7 : int [1:15] 16 5 23 35 15 71 93 73 100 59 ...\n",
      "  ..$ Fold  8 : int [1:15] 20 19 30 47 22 70 58 64 85 88 ...\n",
      "  ..$ Fold  9 : int [1:15] 2 48 3 40 26 87 78 54 75 67 ...\n",
      "  ..$ Fold  10: int [1:15] 34 4 50 44 28 52 82 60 90 61 ...\n",
      " $ Run  4:List of 10\n",
      "  ..$ Fold  1 : int [1:15] 21 20 27 35 36 100 86 67 90 69 ...\n",
      "  ..$ Fold  2 : int [1:15] 2 29 33 41 40 97 93 62 99 77 ...\n",
      "  ..$ Fold  3 : int [1:15] 16 30 37 23 49 68 88 52 51 66 ...\n",
      "  ..$ Fold  4 : int [1:15] 44 15 46 13 6 94 84 83 76 87 ...\n",
      "  ..$ Fold  5 : int [1:15] 43 14 38 17 1 79 57 55 85 72 ...\n",
      "  ..$ Fold  6 : int [1:15] 45 42 10 19 11 98 70 95 59 81 ...\n",
      "  ..$ Fold  7 : int [1:15] 28 18 32 3 50 91 96 58 75 65 ...\n",
      "  ..$ Fold  8 : int [1:15] 31 24 9 26 34 78 56 54 82 60 ...\n",
      "  ..$ Fold  9 : int [1:15] 5 8 48 25 39 53 92 61 71 73 ...\n",
      "  ..$ Fold  10: int [1:15] 47 22 4 7 12 63 64 74 80 89 ...\n",
      " $ Run  5:List of 10\n",
      "  ..$ Fold  1 : int [1:15] 10 12 8 45 14 93 80 53 77 56 ...\n",
      "  ..$ Fold  2 : int [1:15] 21 2 31 9 16 83 98 78 86 81 ...\n",
      "  ..$ Fold  3 : int [1:15] 15 3 48 7 18 90 89 74 96 100 ...\n",
      "  ..$ Fold  4 : int [1:15] 40 19 6 11 37 66 54 61 79 67 ...\n",
      "  ..$ Fold  5 : int [1:15] 20 41 32 33 24 69 84 64 87 59 ...\n",
      "  ..$ Fold  6 : int [1:15] 44 28 43 29 36 68 76 92 99 91 ...\n",
      "  ..$ Fold  7 : int [1:15] 1 50 22 39 27 60 97 75 52 95 ...\n",
      "  ..$ Fold  8 : int [1:15] 26 17 49 35 25 71 63 85 72 70 ...\n",
      "  ..$ Fold  9 : int [1:15] 23 47 13 4 5 73 82 65 94 55 ...\n",
      "  ..$ Fold  10: int [1:15] 34 42 30 46 38 62 88 51 57 58 ...\n"
     ]
    }
   ],
   "source": [
    "set.seed(12435)\n",
    "cv_indices = generateCVRuns(sub_class, ntimes = 5, nfold = 10, \n",
    "                            leaveOneOut = FALSE, stratified = TRUE)\n",
    "str(cv_indices)"
   ]
  },
  {
   "cell_type": "markdown",
   "id": "85a86fbf",
   "metadata": {},
   "source": [
    "### k-NN Classifier"
   ]
  },
  {
   "cell_type": "code",
   "execution_count": 12,
   "id": "fac95c0d",
   "metadata": {},
   "outputs": [],
   "source": [
    "nn_classify_cv=function(dist_matrix,train_class,test_indices,k=1){\n",
    "    \n",
    "    test_distances_to_train=dist_matrix[test_indices,]\n",
    "    test_distances_to_train=test_distances_to_train[,-test_indices]\n",
    "    train_class=train_class[-test_indices]\n",
    "    ordered_indices=apply(test_distances_to_train,1,order)\n",
    "    \n",
    "    if(k==1){\n",
    "        nearest_class=as.numeric(train_class[as.numeric(ordered_indices[1,])])\n",
    "        nearest_class=data.table(id=test_indices,nearest_class)\n",
    "    } else {\n",
    "        nearest_class=apply(ordered_indices[1:k,],2,function(x) {train_class[x]})\n",
    "        nearest_class=data.table(id=test_indices,t(nearest_class))\n",
    "    }\n",
    "    \n",
    "    long_nn_class=melt(nearest_class,'id')\n",
    "\n",
    "    class_counts=long_nn_class[,.N,list(id,value)]\n",
    "    class_counts[,predicted_prob:=N/k]\n",
    "    wide_class_prob_predictions=dcast(class_counts,id~value,value.var='predicted_prob')\n",
    "    wide_class_prob_predictions[is.na(wide_class_prob_predictions)]=0\n",
    "    class_predictions=class_counts[,list(predicted=value[which.max(N)]),by=list(id)]\n",
    "    \n",
    "    \n",
    "    return(list(prediction=class_predictions,prob_estimates=wide_class_prob_predictions))\n",
    "    \n",
    "}"
   ]
  },
  {
   "cell_type": "markdown",
   "id": "3659f5b7",
   "metadata": {},
   "source": [
    "### Testing the Models"
   ]
  },
  {
   "cell_type": "code",
   "execution_count": 13,
   "id": "34e359fc",
   "metadata": {},
   "outputs": [],
   "source": [
    "#approach_file=list.files(dist_folder)\n",
    "dist = list(sub_euclidean_raw,\n",
    "            sub_euclidean_pla_q12,\n",
    "            sub_euclidean_pla_q6,\n",
    "            sub_euclidean_RegTree_d3,\n",
    "            sub_euclidean_RegTree_d4,\n",
    "            sub_dtw_raw,\n",
    "            sub_dtw_pla_q12,\n",
    "            sub_dtw_pla_q6,\n",
    "            sub_dtw_RegTree_d3,\n",
    "            sub_dtw_RegTree_d4,\n",
    "            sub_lcss_raw,\n",
    "            sub_lcss_pla_q6,\n",
    "            sub_lcss_pla_q12,\n",
    "            sub_lcss_RegTree_d3,\n",
    "            sub_lcss_RegTree_d4,\n",
    "            sub_erp_raw,\n",
    "            sub_erp_pla_q6,\n",
    "            sub_erp_pla_q12,\n",
    "            sub_erp_RegTree_d3,\n",
    "            sub_erp_RegTree_d4)\n",
    "\n",
    "n_dist = 15\n",
    "nof_rep = 5\n",
    "n_fold = 10\n",
    "k_levels=c(1,5,10)\n",
    "result = vector('list',n_dist*nof_rep*n_fold*length(k_levels))\n",
    "iter = 1\n",
    "names = c(\"sub_euclidean_raw\",\"sub_euclidean_pla_q12\",\"sub_euclidean_pla_q6\",\n",
    "         \"sub_euclidean_RegTree_d3\",\"sub_euclidean_RegTree_d4\",\n",
    "         \"sub_dtw_raw\",\"sub_dtw_pla_q12\",\"sub_dtw_pla_q6\",\"sub_dtw_RegTree_d3\",\n",
    "         \"sub_dtw_RegTree_d4\",\"sub_lcss_raw\",\"sub_lcss_pla_q6\",\"sub_lcss_pla_q12\",\n",
    "         \"sub_lcss_RegTree_d3\",\"sub_lcss_RegTree_d4\",\"sub_erp_raw\",\"sub_erp_pla_q6\",\n",
    "         \"sub_erp_pla_q12\",\"sub_erp_RegTree_d3\",\"sub_erp_RegTree_d4\")"
   ]
  },
  {
   "cell_type": "code",
   "execution_count": 14,
   "id": "1467b7d8",
   "metadata": {},
   "outputs": [],
   "source": [
    "CrossValidationTrain <- function(dist,cv_index, train_class){\n",
    "    n_dist = 20\n",
    "    nof_rep = 5\n",
    "    n_fold = 10\n",
    "    k_levels=c(1,3,5)\n",
    "\n",
    "    for(m in 1:n_dist){ #\n",
    "        current_dist = dist[[m]]\n",
    "        for(i in 1:nof_rep){\n",
    "            this_fold=cv_index[[i]]\n",
    "            for(j in 1:n_fold){\n",
    "                test_indices=this_fold[[j]]\n",
    "                for(k in 1:length(k_levels)){\n",
    "                    current_k=k_levels[k]\n",
    "                    current_fold=nn_classify_cv(current_dist,train_class,test_indices,k=current_k)\n",
    "                    accuracy=sum(train_class[test_indices]==current_fold$prediction$predicted)/length(test_indices)\n",
    "                    tmp=data.table(approach=names[[m]],repid=i,foldid=j,\n",
    "                                   k=current_k,acc=accuracy)\n",
    "                    \n",
    "                    result[[iter]]=tmp\n",
    "                    iter=iter+1\n",
    "                }\n",
    "            }\n",
    "        }   \n",
    "    }\n",
    "    return(result)\n",
    "}"
   ]
  },
  {
   "cell_type": "markdown",
   "id": "183bf101",
   "metadata": {},
   "source": [
    "Mean and standart deviation of each model is reported below. There are two best performing methods. ERP distance on the raw time series when k = 1 and k = 3 are thw best performing methods. Their mean accuracy is 99.47%. For the final testing ERP on the raw time series with 1-NN classifier will be used"
   ]
  },
  {
   "cell_type": "code",
   "execution_count": 15,
   "id": "00f09e9a",
   "metadata": {},
   "outputs": [
    {
     "data": {
      "text/html": [
       "<table class=\"dataframe\">\n",
       "<caption>A data.table: 60 × 4</caption>\n",
       "<thead>\n",
       "\t<tr><th scope=col>approach</th><th scope=col>k</th><th scope=col>Mean</th><th scope=col>SD</th></tr>\n",
       "\t<tr><th scope=col>&lt;chr&gt;</th><th scope=col>&lt;dbl&gt;</th><th scope=col>&lt;dbl&gt;</th><th scope=col>&lt;dbl&gt;</th></tr>\n",
       "</thead>\n",
       "<tbody>\n",
       "\t<tr><td>sub_erp_raw             </td><td>1</td><td>0.994666667</td><td>0.01826983</td></tr>\n",
       "\t<tr><td>sub_erp_raw             </td><td>3</td><td>0.994666667</td><td>0.01826983</td></tr>\n",
       "\t<tr><td>sub_erp_raw             </td><td>5</td><td>0.990666667</td><td>0.02697105</td></tr>\n",
       "\t<tr><td>sub_dtw_raw             </td><td>5</td><td>0.944000000</td><td>0.05278631</td></tr>\n",
       "\t<tr><td>sub_euclidean_raw       </td><td>5</td><td>0.941333333</td><td>0.06951729</td></tr>\n",
       "\t<tr><td>sub_dtw_raw             </td><td>3</td><td>0.917333333</td><td>0.06941283</td></tr>\n",
       "\t<tr><td>sub_euclidean_raw       </td><td>3</td><td>0.917333333</td><td>0.07197883</td></tr>\n",
       "\t<tr><td>sub_dtw_raw             </td><td>1</td><td>0.914666667</td><td>0.07858153</td></tr>\n",
       "\t<tr><td>sub_euclidean_raw       </td><td>1</td><td>0.901333333</td><td>0.07029578</td></tr>\n",
       "\t<tr><td>sub_dtw_pla_q6          </td><td>1</td><td>0.712000000</td><td>0.11223558</td></tr>\n",
       "\t<tr><td>sub_dtw_pla_q6          </td><td>3</td><td>0.706666667</td><td>0.11741741</td></tr>\n",
       "\t<tr><td>sub_dtw_pla_q12         </td><td>5</td><td>0.702666667</td><td>0.10876341</td></tr>\n",
       "\t<tr><td>sub_dtw_pla_q6          </td><td>5</td><td>0.700000000</td><td>0.11761037</td></tr>\n",
       "\t<tr><td>sub_euclidean_pla_q6    </td><td>3</td><td>0.700000000</td><td>0.12140523</td></tr>\n",
       "\t<tr><td>sub_euclidean_pla_q6    </td><td>5</td><td>0.697333333</td><td>0.09056136</td></tr>\n",
       "\t<tr><td>sub_euclidean_RegTree_d3</td><td>3</td><td>0.694666667</td><td>0.12995028</td></tr>\n",
       "\t<tr><td>sub_euclidean_RegTree_d4</td><td>3</td><td>0.694666667</td><td>0.12995028</td></tr>\n",
       "\t<tr><td>sub_dtw_RegTree_d3      </td><td>3</td><td>0.694666667</td><td>0.12995028</td></tr>\n",
       "\t<tr><td>sub_dtw_RegTree_d4      </td><td>3</td><td>0.694666667</td><td>0.12995028</td></tr>\n",
       "\t<tr><td>sub_erp_RegTree_d3      </td><td>3</td><td>0.694666667</td><td>0.12995028</td></tr>\n",
       "\t<tr><td>sub_erp_RegTree_d4      </td><td>3</td><td>0.694666667</td><td>0.12995028</td></tr>\n",
       "\t<tr><td>sub_dtw_pla_q12         </td><td>3</td><td>0.684000000</td><td>0.10674317</td></tr>\n",
       "\t<tr><td>sub_euclidean_pla_q12   </td><td>1</td><td>0.674666667</td><td>0.09584568</td></tr>\n",
       "\t<tr><td>sub_erp_pla_q6          </td><td>3</td><td>0.674666667</td><td>0.11943936</td></tr>\n",
       "\t<tr><td>sub_erp_pla_q12         </td><td>3</td><td>0.673333333</td><td>0.11837908</td></tr>\n",
       "\t<tr><td>sub_euclidean_RegTree_d3</td><td>1</td><td>0.672000000</td><td>0.13856406</td></tr>\n",
       "\t<tr><td>sub_euclidean_RegTree_d4</td><td>1</td><td>0.672000000</td><td>0.13856406</td></tr>\n",
       "\t<tr><td>sub_dtw_RegTree_d3      </td><td>1</td><td>0.672000000</td><td>0.13856406</td></tr>\n",
       "\t<tr><td>sub_dtw_RegTree_d4      </td><td>1</td><td>0.672000000</td><td>0.13856406</td></tr>\n",
       "\t<tr><td>sub_erp_RegTree_d3      </td><td>1</td><td>0.672000000</td><td>0.13856406</td></tr>\n",
       "\t<tr><td>sub_erp_RegTree_d4      </td><td>1</td><td>0.672000000</td><td>0.13856406</td></tr>\n",
       "\t<tr><td>sub_erp_pla_q12         </td><td>1</td><td>0.670666667</td><td>0.11381650</td></tr>\n",
       "\t<tr><td>sub_euclidean_pla_q6    </td><td>1</td><td>0.666666667</td><td>0.09233676</td></tr>\n",
       "\t<tr><td>sub_euclidean_RegTree_d3</td><td>5</td><td>0.652000000</td><td>0.13420802</td></tr>\n",
       "\t<tr><td>sub_euclidean_RegTree_d4</td><td>5</td><td>0.652000000</td><td>0.13420802</td></tr>\n",
       "\t<tr><td>sub_dtw_RegTree_d3      </td><td>5</td><td>0.652000000</td><td>0.13420802</td></tr>\n",
       "\t<tr><td>sub_dtw_RegTree_d4      </td><td>5</td><td>0.652000000</td><td>0.13420802</td></tr>\n",
       "\t<tr><td>sub_erp_RegTree_d3      </td><td>5</td><td>0.652000000</td><td>0.13420802</td></tr>\n",
       "\t<tr><td>sub_erp_RegTree_d4      </td><td>5</td><td>0.652000000</td><td>0.13420802</td></tr>\n",
       "\t<tr><td>sub_erp_pla_q6          </td><td>5</td><td>0.646666667</td><td>0.10962728</td></tr>\n",
       "\t<tr><td>sub_erp_pla_q12         </td><td>5</td><td>0.645333333</td><td>0.11542291</td></tr>\n",
       "\t<tr><td>sub_euclidean_pla_q12   </td><td>3</td><td>0.645333333</td><td>0.10978437</td></tr>\n",
       "\t<tr><td>sub_euclidean_pla_q12   </td><td>5</td><td>0.645333333</td><td>0.11542291</td></tr>\n",
       "\t<tr><td>sub_erp_pla_q6          </td><td>1</td><td>0.644000000</td><td>0.10222912</td></tr>\n",
       "\t<tr><td>sub_dtw_pla_q12         </td><td>1</td><td>0.606666667</td><td>0.11045156</td></tr>\n",
       "\t<tr><td>sub_lcss_RegTree_d3     </td><td>1</td><td>0.333333333</td><td>0.00000000</td></tr>\n",
       "\t<tr><td>sub_lcss_RegTree_d3     </td><td>3</td><td>0.333333333</td><td>0.01904762</td></tr>\n",
       "\t<tr><td>sub_lcss_RegTree_d4     </td><td>1</td><td>0.333333333</td><td>0.00000000</td></tr>\n",
       "\t<tr><td>sub_lcss_RegTree_d4     </td><td>3</td><td>0.333333333</td><td>0.01904762</td></tr>\n",
       "\t<tr><td>sub_lcss_RegTree_d3     </td><td>5</td><td>0.332000000</td><td>0.04362279</td></tr>\n",
       "\t<tr><td>sub_lcss_RegTree_d4     </td><td>5</td><td>0.332000000</td><td>0.04362279</td></tr>\n",
       "\t<tr><td>sub_lcss_pla_q6         </td><td>3</td><td>0.209333333</td><td>0.07378341</td></tr>\n",
       "\t<tr><td>sub_lcss_pla_q12        </td><td>1</td><td>0.198666667</td><td>0.08983734</td></tr>\n",
       "\t<tr><td>sub_lcss_pla_q12        </td><td>3</td><td>0.185333333</td><td>0.08963519</td></tr>\n",
       "\t<tr><td>sub_lcss_pla_q6         </td><td>1</td><td>0.182666667</td><td>0.08059867</td></tr>\n",
       "\t<tr><td>sub_lcss_pla_q6         </td><td>5</td><td>0.180000000</td><td>0.07030868</td></tr>\n",
       "\t<tr><td>sub_lcss_pla_q12        </td><td>5</td><td>0.172000000</td><td>0.10527149</td></tr>\n",
       "\t<tr><td>sub_lcss_raw            </td><td>3</td><td>0.001333333</td><td>0.00942809</td></tr>\n",
       "\t<tr><td>sub_lcss_raw            </td><td>5</td><td>0.001333333</td><td>0.00942809</td></tr>\n",
       "\t<tr><td>sub_lcss_raw            </td><td>1</td><td>0.000000000</td><td>0.00000000</td></tr>\n",
       "</tbody>\n",
       "</table>\n"
      ],
      "text/latex": [
       "A data.table: 60 × 4\n",
       "\\begin{tabular}{llll}\n",
       " approach & k & Mean & SD\\\\\n",
       " <chr> & <dbl> & <dbl> & <dbl>\\\\\n",
       "\\hline\n",
       "\t sub\\_erp\\_raw              & 1 & 0.994666667 & 0.01826983\\\\\n",
       "\t sub\\_erp\\_raw              & 3 & 0.994666667 & 0.01826983\\\\\n",
       "\t sub\\_erp\\_raw              & 5 & 0.990666667 & 0.02697105\\\\\n",
       "\t sub\\_dtw\\_raw              & 5 & 0.944000000 & 0.05278631\\\\\n",
       "\t sub\\_euclidean\\_raw        & 5 & 0.941333333 & 0.06951729\\\\\n",
       "\t sub\\_dtw\\_raw              & 3 & 0.917333333 & 0.06941283\\\\\n",
       "\t sub\\_euclidean\\_raw        & 3 & 0.917333333 & 0.07197883\\\\\n",
       "\t sub\\_dtw\\_raw              & 1 & 0.914666667 & 0.07858153\\\\\n",
       "\t sub\\_euclidean\\_raw        & 1 & 0.901333333 & 0.07029578\\\\\n",
       "\t sub\\_dtw\\_pla\\_q6           & 1 & 0.712000000 & 0.11223558\\\\\n",
       "\t sub\\_dtw\\_pla\\_q6           & 3 & 0.706666667 & 0.11741741\\\\\n",
       "\t sub\\_dtw\\_pla\\_q12          & 5 & 0.702666667 & 0.10876341\\\\\n",
       "\t sub\\_dtw\\_pla\\_q6           & 5 & 0.700000000 & 0.11761037\\\\\n",
       "\t sub\\_euclidean\\_pla\\_q6     & 3 & 0.700000000 & 0.12140523\\\\\n",
       "\t sub\\_euclidean\\_pla\\_q6     & 5 & 0.697333333 & 0.09056136\\\\\n",
       "\t sub\\_euclidean\\_RegTree\\_d3 & 3 & 0.694666667 & 0.12995028\\\\\n",
       "\t sub\\_euclidean\\_RegTree\\_d4 & 3 & 0.694666667 & 0.12995028\\\\\n",
       "\t sub\\_dtw\\_RegTree\\_d3       & 3 & 0.694666667 & 0.12995028\\\\\n",
       "\t sub\\_dtw\\_RegTree\\_d4       & 3 & 0.694666667 & 0.12995028\\\\\n",
       "\t sub\\_erp\\_RegTree\\_d3       & 3 & 0.694666667 & 0.12995028\\\\\n",
       "\t sub\\_erp\\_RegTree\\_d4       & 3 & 0.694666667 & 0.12995028\\\\\n",
       "\t sub\\_dtw\\_pla\\_q12          & 3 & 0.684000000 & 0.10674317\\\\\n",
       "\t sub\\_euclidean\\_pla\\_q12    & 1 & 0.674666667 & 0.09584568\\\\\n",
       "\t sub\\_erp\\_pla\\_q6           & 3 & 0.674666667 & 0.11943936\\\\\n",
       "\t sub\\_erp\\_pla\\_q12          & 3 & 0.673333333 & 0.11837908\\\\\n",
       "\t sub\\_euclidean\\_RegTree\\_d3 & 1 & 0.672000000 & 0.13856406\\\\\n",
       "\t sub\\_euclidean\\_RegTree\\_d4 & 1 & 0.672000000 & 0.13856406\\\\\n",
       "\t sub\\_dtw\\_RegTree\\_d3       & 1 & 0.672000000 & 0.13856406\\\\\n",
       "\t sub\\_dtw\\_RegTree\\_d4       & 1 & 0.672000000 & 0.13856406\\\\\n",
       "\t sub\\_erp\\_RegTree\\_d3       & 1 & 0.672000000 & 0.13856406\\\\\n",
       "\t sub\\_erp\\_RegTree\\_d4       & 1 & 0.672000000 & 0.13856406\\\\\n",
       "\t sub\\_erp\\_pla\\_q12          & 1 & 0.670666667 & 0.11381650\\\\\n",
       "\t sub\\_euclidean\\_pla\\_q6     & 1 & 0.666666667 & 0.09233676\\\\\n",
       "\t sub\\_euclidean\\_RegTree\\_d3 & 5 & 0.652000000 & 0.13420802\\\\\n",
       "\t sub\\_euclidean\\_RegTree\\_d4 & 5 & 0.652000000 & 0.13420802\\\\\n",
       "\t sub\\_dtw\\_RegTree\\_d3       & 5 & 0.652000000 & 0.13420802\\\\\n",
       "\t sub\\_dtw\\_RegTree\\_d4       & 5 & 0.652000000 & 0.13420802\\\\\n",
       "\t sub\\_erp\\_RegTree\\_d3       & 5 & 0.652000000 & 0.13420802\\\\\n",
       "\t sub\\_erp\\_RegTree\\_d4       & 5 & 0.652000000 & 0.13420802\\\\\n",
       "\t sub\\_erp\\_pla\\_q6           & 5 & 0.646666667 & 0.10962728\\\\\n",
       "\t sub\\_erp\\_pla\\_q12          & 5 & 0.645333333 & 0.11542291\\\\\n",
       "\t sub\\_euclidean\\_pla\\_q12    & 3 & 0.645333333 & 0.10978437\\\\\n",
       "\t sub\\_euclidean\\_pla\\_q12    & 5 & 0.645333333 & 0.11542291\\\\\n",
       "\t sub\\_erp\\_pla\\_q6           & 1 & 0.644000000 & 0.10222912\\\\\n",
       "\t sub\\_dtw\\_pla\\_q12          & 1 & 0.606666667 & 0.11045156\\\\\n",
       "\t sub\\_lcss\\_RegTree\\_d3      & 1 & 0.333333333 & 0.00000000\\\\\n",
       "\t sub\\_lcss\\_RegTree\\_d3      & 3 & 0.333333333 & 0.01904762\\\\\n",
       "\t sub\\_lcss\\_RegTree\\_d4      & 1 & 0.333333333 & 0.00000000\\\\\n",
       "\t sub\\_lcss\\_RegTree\\_d4      & 3 & 0.333333333 & 0.01904762\\\\\n",
       "\t sub\\_lcss\\_RegTree\\_d3      & 5 & 0.332000000 & 0.04362279\\\\\n",
       "\t sub\\_lcss\\_RegTree\\_d4      & 5 & 0.332000000 & 0.04362279\\\\\n",
       "\t sub\\_lcss\\_pla\\_q6          & 3 & 0.209333333 & 0.07378341\\\\\n",
       "\t sub\\_lcss\\_pla\\_q12         & 1 & 0.198666667 & 0.08983734\\\\\n",
       "\t sub\\_lcss\\_pla\\_q12         & 3 & 0.185333333 & 0.08963519\\\\\n",
       "\t sub\\_lcss\\_pla\\_q6          & 1 & 0.182666667 & 0.08059867\\\\\n",
       "\t sub\\_lcss\\_pla\\_q6          & 5 & 0.180000000 & 0.07030868\\\\\n",
       "\t sub\\_lcss\\_pla\\_q12         & 5 & 0.172000000 & 0.10527149\\\\\n",
       "\t sub\\_lcss\\_raw             & 3 & 0.001333333 & 0.00942809\\\\\n",
       "\t sub\\_lcss\\_raw             & 5 & 0.001333333 & 0.00942809\\\\\n",
       "\t sub\\_lcss\\_raw             & 1 & 0.000000000 & 0.00000000\\\\\n",
       "\\end{tabular}\n"
      ],
      "text/markdown": [
       "\n",
       "A data.table: 60 × 4\n",
       "\n",
       "| approach &lt;chr&gt; | k &lt;dbl&gt; | Mean &lt;dbl&gt; | SD &lt;dbl&gt; |\n",
       "|---|---|---|---|\n",
       "| sub_erp_raw              | 1 | 0.994666667 | 0.01826983 |\n",
       "| sub_erp_raw              | 3 | 0.994666667 | 0.01826983 |\n",
       "| sub_erp_raw              | 5 | 0.990666667 | 0.02697105 |\n",
       "| sub_dtw_raw              | 5 | 0.944000000 | 0.05278631 |\n",
       "| sub_euclidean_raw        | 5 | 0.941333333 | 0.06951729 |\n",
       "| sub_dtw_raw              | 3 | 0.917333333 | 0.06941283 |\n",
       "| sub_euclidean_raw        | 3 | 0.917333333 | 0.07197883 |\n",
       "| sub_dtw_raw              | 1 | 0.914666667 | 0.07858153 |\n",
       "| sub_euclidean_raw        | 1 | 0.901333333 | 0.07029578 |\n",
       "| sub_dtw_pla_q6           | 1 | 0.712000000 | 0.11223558 |\n",
       "| sub_dtw_pla_q6           | 3 | 0.706666667 | 0.11741741 |\n",
       "| sub_dtw_pla_q12          | 5 | 0.702666667 | 0.10876341 |\n",
       "| sub_dtw_pla_q6           | 5 | 0.700000000 | 0.11761037 |\n",
       "| sub_euclidean_pla_q6     | 3 | 0.700000000 | 0.12140523 |\n",
       "| sub_euclidean_pla_q6     | 5 | 0.697333333 | 0.09056136 |\n",
       "| sub_euclidean_RegTree_d3 | 3 | 0.694666667 | 0.12995028 |\n",
       "| sub_euclidean_RegTree_d4 | 3 | 0.694666667 | 0.12995028 |\n",
       "| sub_dtw_RegTree_d3       | 3 | 0.694666667 | 0.12995028 |\n",
       "| sub_dtw_RegTree_d4       | 3 | 0.694666667 | 0.12995028 |\n",
       "| sub_erp_RegTree_d3       | 3 | 0.694666667 | 0.12995028 |\n",
       "| sub_erp_RegTree_d4       | 3 | 0.694666667 | 0.12995028 |\n",
       "| sub_dtw_pla_q12          | 3 | 0.684000000 | 0.10674317 |\n",
       "| sub_euclidean_pla_q12    | 1 | 0.674666667 | 0.09584568 |\n",
       "| sub_erp_pla_q6           | 3 | 0.674666667 | 0.11943936 |\n",
       "| sub_erp_pla_q12          | 3 | 0.673333333 | 0.11837908 |\n",
       "| sub_euclidean_RegTree_d3 | 1 | 0.672000000 | 0.13856406 |\n",
       "| sub_euclidean_RegTree_d4 | 1 | 0.672000000 | 0.13856406 |\n",
       "| sub_dtw_RegTree_d3       | 1 | 0.672000000 | 0.13856406 |\n",
       "| sub_dtw_RegTree_d4       | 1 | 0.672000000 | 0.13856406 |\n",
       "| sub_erp_RegTree_d3       | 1 | 0.672000000 | 0.13856406 |\n",
       "| sub_erp_RegTree_d4       | 1 | 0.672000000 | 0.13856406 |\n",
       "| sub_erp_pla_q12          | 1 | 0.670666667 | 0.11381650 |\n",
       "| sub_euclidean_pla_q6     | 1 | 0.666666667 | 0.09233676 |\n",
       "| sub_euclidean_RegTree_d3 | 5 | 0.652000000 | 0.13420802 |\n",
       "| sub_euclidean_RegTree_d4 | 5 | 0.652000000 | 0.13420802 |\n",
       "| sub_dtw_RegTree_d3       | 5 | 0.652000000 | 0.13420802 |\n",
       "| sub_dtw_RegTree_d4       | 5 | 0.652000000 | 0.13420802 |\n",
       "| sub_erp_RegTree_d3       | 5 | 0.652000000 | 0.13420802 |\n",
       "| sub_erp_RegTree_d4       | 5 | 0.652000000 | 0.13420802 |\n",
       "| sub_erp_pla_q6           | 5 | 0.646666667 | 0.10962728 |\n",
       "| sub_erp_pla_q12          | 5 | 0.645333333 | 0.11542291 |\n",
       "| sub_euclidean_pla_q12    | 3 | 0.645333333 | 0.10978437 |\n",
       "| sub_euclidean_pla_q12    | 5 | 0.645333333 | 0.11542291 |\n",
       "| sub_erp_pla_q6           | 1 | 0.644000000 | 0.10222912 |\n",
       "| sub_dtw_pla_q12          | 1 | 0.606666667 | 0.11045156 |\n",
       "| sub_lcss_RegTree_d3      | 1 | 0.333333333 | 0.00000000 |\n",
       "| sub_lcss_RegTree_d3      | 3 | 0.333333333 | 0.01904762 |\n",
       "| sub_lcss_RegTree_d4      | 1 | 0.333333333 | 0.00000000 |\n",
       "| sub_lcss_RegTree_d4      | 3 | 0.333333333 | 0.01904762 |\n",
       "| sub_lcss_RegTree_d3      | 5 | 0.332000000 | 0.04362279 |\n",
       "| sub_lcss_RegTree_d4      | 5 | 0.332000000 | 0.04362279 |\n",
       "| sub_lcss_pla_q6          | 3 | 0.209333333 | 0.07378341 |\n",
       "| sub_lcss_pla_q12         | 1 | 0.198666667 | 0.08983734 |\n",
       "| sub_lcss_pla_q12         | 3 | 0.185333333 | 0.08963519 |\n",
       "| sub_lcss_pla_q6          | 1 | 0.182666667 | 0.08059867 |\n",
       "| sub_lcss_pla_q6          | 5 | 0.180000000 | 0.07030868 |\n",
       "| sub_lcss_pla_q12         | 5 | 0.172000000 | 0.10527149 |\n",
       "| sub_lcss_raw             | 3 | 0.001333333 | 0.00942809 |\n",
       "| sub_lcss_raw             | 5 | 0.001333333 | 0.00942809 |\n",
       "| sub_lcss_raw             | 1 | 0.000000000 | 0.00000000 |\n",
       "\n"
      ],
      "text/plain": [
       "   approach                 k Mean        SD        \n",
       "1  sub_erp_raw              1 0.994666667 0.01826983\n",
       "2  sub_erp_raw              3 0.994666667 0.01826983\n",
       "3  sub_erp_raw              5 0.990666667 0.02697105\n",
       "4  sub_dtw_raw              5 0.944000000 0.05278631\n",
       "5  sub_euclidean_raw        5 0.941333333 0.06951729\n",
       "6  sub_dtw_raw              3 0.917333333 0.06941283\n",
       "7  sub_euclidean_raw        3 0.917333333 0.07197883\n",
       "8  sub_dtw_raw              1 0.914666667 0.07858153\n",
       "9  sub_euclidean_raw        1 0.901333333 0.07029578\n",
       "10 sub_dtw_pla_q6           1 0.712000000 0.11223558\n",
       "11 sub_dtw_pla_q6           3 0.706666667 0.11741741\n",
       "12 sub_dtw_pla_q12          5 0.702666667 0.10876341\n",
       "13 sub_dtw_pla_q6           5 0.700000000 0.11761037\n",
       "14 sub_euclidean_pla_q6     3 0.700000000 0.12140523\n",
       "15 sub_euclidean_pla_q6     5 0.697333333 0.09056136\n",
       "16 sub_euclidean_RegTree_d3 3 0.694666667 0.12995028\n",
       "17 sub_euclidean_RegTree_d4 3 0.694666667 0.12995028\n",
       "18 sub_dtw_RegTree_d3       3 0.694666667 0.12995028\n",
       "19 sub_dtw_RegTree_d4       3 0.694666667 0.12995028\n",
       "20 sub_erp_RegTree_d3       3 0.694666667 0.12995028\n",
       "21 sub_erp_RegTree_d4       3 0.694666667 0.12995028\n",
       "22 sub_dtw_pla_q12          3 0.684000000 0.10674317\n",
       "23 sub_euclidean_pla_q12    1 0.674666667 0.09584568\n",
       "24 sub_erp_pla_q6           3 0.674666667 0.11943936\n",
       "25 sub_erp_pla_q12          3 0.673333333 0.11837908\n",
       "26 sub_euclidean_RegTree_d3 1 0.672000000 0.13856406\n",
       "27 sub_euclidean_RegTree_d4 1 0.672000000 0.13856406\n",
       "28 sub_dtw_RegTree_d3       1 0.672000000 0.13856406\n",
       "29 sub_dtw_RegTree_d4       1 0.672000000 0.13856406\n",
       "30 sub_erp_RegTree_d3       1 0.672000000 0.13856406\n",
       "31 sub_erp_RegTree_d4       1 0.672000000 0.13856406\n",
       "32 sub_erp_pla_q12          1 0.670666667 0.11381650\n",
       "33 sub_euclidean_pla_q6     1 0.666666667 0.09233676\n",
       "34 sub_euclidean_RegTree_d3 5 0.652000000 0.13420802\n",
       "35 sub_euclidean_RegTree_d4 5 0.652000000 0.13420802\n",
       "36 sub_dtw_RegTree_d3       5 0.652000000 0.13420802\n",
       "37 sub_dtw_RegTree_d4       5 0.652000000 0.13420802\n",
       "38 sub_erp_RegTree_d3       5 0.652000000 0.13420802\n",
       "39 sub_erp_RegTree_d4       5 0.652000000 0.13420802\n",
       "40 sub_erp_pla_q6           5 0.646666667 0.10962728\n",
       "41 sub_erp_pla_q12          5 0.645333333 0.11542291\n",
       "42 sub_euclidean_pla_q12    3 0.645333333 0.10978437\n",
       "43 sub_euclidean_pla_q12    5 0.645333333 0.11542291\n",
       "44 sub_erp_pla_q6           1 0.644000000 0.10222912\n",
       "45 sub_dtw_pla_q12          1 0.606666667 0.11045156\n",
       "46 sub_lcss_RegTree_d3      1 0.333333333 0.00000000\n",
       "47 sub_lcss_RegTree_d3      3 0.333333333 0.01904762\n",
       "48 sub_lcss_RegTree_d4      1 0.333333333 0.00000000\n",
       "49 sub_lcss_RegTree_d4      3 0.333333333 0.01904762\n",
       "50 sub_lcss_RegTree_d3      5 0.332000000 0.04362279\n",
       "51 sub_lcss_RegTree_d4      5 0.332000000 0.04362279\n",
       "52 sub_lcss_pla_q6          3 0.209333333 0.07378341\n",
       "53 sub_lcss_pla_q12         1 0.198666667 0.08983734\n",
       "54 sub_lcss_pla_q12         3 0.185333333 0.08963519\n",
       "55 sub_lcss_pla_q6          1 0.182666667 0.08059867\n",
       "56 sub_lcss_pla_q6          5 0.180000000 0.07030868\n",
       "57 sub_lcss_pla_q12         5 0.172000000 0.10527149\n",
       "58 sub_lcss_raw             3 0.001333333 0.00942809\n",
       "59 sub_lcss_raw             5 0.001333333 0.00942809\n",
       "60 sub_lcss_raw             1 0.000000000 0.00000000"
      ]
     },
     "metadata": {},
     "output_type": "display_data"
    }
   ],
   "source": [
    "result_sub = CrossValidationTrain(dist,cv_indices, sub_class)\n",
    "result_sub = rbindlist(result_sub)\n",
    "\n",
    "results_summary <- result_sub[,.(Mean = mean(acc),SD = sd(acc)),.(approach,k)]\n",
    "results_summary[order(-Mean)]"
   ]
  },
  {
   "cell_type": "markdown",
   "id": "468f9b5d",
   "metadata": {},
   "source": [
    "## Testing"
   ]
  },
  {
   "cell_type": "code",
   "execution_count": 16,
   "id": "5d8e962f",
   "metadata": {},
   "outputs": [],
   "source": [
    "test_data_path=sprintf('%s/%s/%s_TEST.txt',getwd(),dataset,dataset)\n",
    "\n",
    "sub_train = fread(train_data_path)\n",
    "sub_test = fread(test_data_path)\n",
    "\n",
    "sub_test <- setnames(sub_test, \"V1\", \"Class\")\n",
    "sub_train <- setnames(sub_train, \"V1\", \"Class\")\n",
    "\n",
    "sub_test <- data.table(sub_test)\n",
    "sub_train <- data.table(sub_train)\n",
    "\n",
    "sub_test[, \"ID\" := (1:.N)+150]\n",
    "sub_test[, \"Class\" := as.factor(Class)]\n",
    "sub_train[, \"ID\" := (1:.N)]\n",
    "sub_train[, \"Class\" := as.factor(Class)]\n",
    "\n",
    "sub_comb <- rbindlist(list(sub_train,sub_test),use.names = TRUE)\n",
    "\n",
    "setcolorder(sub_comb, c(\"ID\", \"Class\"))\n",
    "colnames(sub_comb) <- c(\"ID\", \"Class\",seq(1:15))\n",
    "sub_comb_matrix <- as.matrix(sub_comb[,c(-1,-2)])\n",
    "sub_comb_long <- melt(sub_comb,id.vars = c(\"ID\",\"Class\"))\n",
    "sub_comb_long[,variable := as.numeric(variable)]\n",
    "sub_comb_class <- sub_comb$Class\n",
    "\n",
    "test_index_final = seq(151,300)\n",
    "\n",
    "sub_comb_euclidean_raw <- as.matrix(dist(as.matrix(sub_comb_matrix)))\n",
    "\n",
    "overall_result <- nn_classify_cv(sub_comb_euclidean_raw,sub_comb_class,test_index_final,k=3)"
   ]
  },
  {
   "cell_type": "markdown",
   "id": "62de4498",
   "metadata": {},
   "source": [
    "Finally, the best performing model is used to classify the test data and its test accuracy is 94.67%\n",
    "\n",
    "Summary of the best performing model is as follows:"
   ]
  },
  {
   "cell_type": "code",
   "execution_count": 18,
   "id": "2cf2f70f",
   "metadata": {},
   "outputs": [
    {
     "data": {
      "text/html": [
       "0.946666666666667"
      ],
      "text/latex": [
       "0.946666666666667"
      ],
      "text/markdown": [
       "0.946666666666667"
      ],
      "text/plain": [
       "[1] 0.9466667"
      ]
     },
     "metadata": {},
     "output_type": "display_data"
    }
   ],
   "source": [
    "Test_Accuracy <- sum(sub_comb_class[test_index_final]==overall_result$prediction$predicted)/length(test_index_final)\n",
    "Test_Accuracy"
   ]
  },
  {
   "cell_type": "code",
   "execution_count": 19,
   "id": "3072433f",
   "metadata": {},
   "outputs": [
    {
     "data": {
      "text/html": [
       "<table class=\"dataframe\">\n",
       "<caption>A data.frame: 1 × 6</caption>\n",
       "<thead>\n",
       "\t<tr><th scope=col>Dataset</th><th scope=col>Cross_Validation_Mean_Accuracy</th><th scope=col>Test_Accuracy</th><th scope=col>Distance</th><th scope=col>Representation</th><th scope=col>K</th></tr>\n",
       "\t<tr><th scope=col>&lt;chr&gt;</th><th scope=col>&lt;dbl&gt;</th><th scope=col>&lt;dbl&gt;</th><th scope=col>&lt;chr&gt;</th><th scope=col>&lt;chr&gt;</th><th scope=col>&lt;chr&gt;</th></tr>\n",
       "</thead>\n",
       "<tbody>\n",
       "\t<tr><td>SmoothSubspace</td><td>0.9946667</td><td>0.9466667</td><td>ERP</td><td>Raw</td><td>1</td></tr>\n",
       "</tbody>\n",
       "</table>\n"
      ],
      "text/latex": [
       "A data.frame: 1 × 6\n",
       "\\begin{tabular}{llllll}\n",
       " Dataset & Cross\\_Validation\\_Mean\\_Accuracy & Test\\_Accuracy & Distance & Representation & K\\\\\n",
       " <chr> & <dbl> & <dbl> & <chr> & <chr> & <chr>\\\\\n",
       "\\hline\n",
       "\t SmoothSubspace & 0.9946667 & 0.9466667 & ERP & Raw & 1\\\\\n",
       "\\end{tabular}\n"
      ],
      "text/markdown": [
       "\n",
       "A data.frame: 1 × 6\n",
       "\n",
       "| Dataset &lt;chr&gt; | Cross_Validation_Mean_Accuracy &lt;dbl&gt; | Test_Accuracy &lt;dbl&gt; | Distance &lt;chr&gt; | Representation &lt;chr&gt; | K &lt;chr&gt; |\n",
       "|---|---|---|---|---|---|\n",
       "| SmoothSubspace | 0.9946667 | 0.9466667 | ERP | Raw | 1 |\n",
       "\n"
      ],
      "text/plain": [
       "  Dataset        Cross_Validation_Mean_Accuracy Test_Accuracy Distance\n",
       "1 SmoothSubspace 0.9946667                      0.9466667     ERP     \n",
       "  Representation K\n",
       "1 Raw            1"
      ]
     },
     "metadata": {},
     "output_type": "display_data"
    }
   ],
   "source": [
    "Dataset <- \"SmoothSubspace\"\n",
    "Cross_Validation_Mean_Accuracy <- max(results_summary$Mean)\n",
    "Distance = 'ERP'\n",
    "Representation = 'Raw'\n",
    "K = '1'\n",
    "df <- data.frame(Dataset,Cross_Validation_Mean_Accuracy,Test_Accuracy,Distance,Representation,K)\n",
    "df"
   ]
  }
 ],
 "metadata": {
  "kernelspec": {
   "display_name": "R",
   "language": "R",
   "name": "ir"
  },
  "language_info": {
   "codemirror_mode": "r",
   "file_extension": ".r",
   "mimetype": "text/x-r-source",
   "name": "R",
   "pygments_lexer": "r",
   "version": "4.1.2"
  }
 },
 "nbformat": 4,
 "nbformat_minor": 5
}
