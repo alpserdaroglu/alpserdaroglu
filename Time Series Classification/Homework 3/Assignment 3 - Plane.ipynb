{
 "cells": [
  {
   "cell_type": "markdown",
   "id": "315edc2d",
   "metadata": {},
   "source": [
    "# Assignment 3\n",
    "\n",
    "In this analysis five different datasets are selected from http://www.timeseriesclassification.com/. Several models are trained for each dataset. Two different representations each with two different parameter sets are used to build the model. Then, distances between the time series are calculated using 4 different distance measures. In the classification step, 3 different k values are used in the K-NN algorithm. Accuracy of each model is calculated to determine the best performing model. Finally, the best performing model is tested on a seperate test set."
   ]
  },
  {
   "cell_type": "code",
   "execution_count": 25,
   "id": "6c7b6082",
   "metadata": {},
   "outputs": [],
   "source": [
    "library(data.table)\n",
    "library(ggplot2)\n",
    "library(TSrepr)\n",
    "library(caret)\n",
    "library(TSdist)\n",
    "library(dtw)\n",
    "library(zoo)\n",
    "library(rpart)\n",
    "library(rattle)\n",
    "require(TunePareto)\n",
    "\n",
    "setwd(\"C:/Users/alpsr/Desktop/Assignment 3\")"
   ]
  },
  {
   "cell_type": "markdown",
   "id": "724534f1",
   "metadata": {},
   "source": [
    "## Dataset 1: Plane\n",
    "\n",
    "In this notebook, Plane dataset is evaluated. This dataset contains 105 training time series and 105 test time series. There are 7 different classes. First six time series in the training dataset are as follows."
   ]
  },
  {
   "cell_type": "code",
   "execution_count": 26,
   "id": "5edfa319",
   "metadata": {},
   "outputs": [],
   "source": [
    "dataset = 'PLANE'\n",
    "train_data_path=sprintf('%s/%s/%s_TRAIN.txt',getwd(),dataset,dataset)"
   ]
  },
  {
   "cell_type": "code",
   "execution_count": 27,
   "id": "040247ed",
   "metadata": {},
   "outputs": [
    {
     "data": {
      "text/html": [
       "<table class=\"dataframe\">\n",
       "<caption>A data.table: 6 × 146</caption>\n",
       "<thead>\n",
       "\t<tr><th scope=col>ID</th><th scope=col>Class</th><th scope=col>1</th><th scope=col>2</th><th scope=col>3</th><th scope=col>4</th><th scope=col>5</th><th scope=col>6</th><th scope=col>7</th><th scope=col>8</th><th scope=col>...</th><th scope=col>135</th><th scope=col>136</th><th scope=col>137</th><th scope=col>138</th><th scope=col>139</th><th scope=col>140</th><th scope=col>141</th><th scope=col>142</th><th scope=col>143</th><th scope=col>144</th></tr>\n",
       "\t<tr><th scope=col>&lt;int&gt;</th><th scope=col>&lt;fct&gt;</th><th scope=col>&lt;dbl&gt;</th><th scope=col>&lt;dbl&gt;</th><th scope=col>&lt;dbl&gt;</th><th scope=col>&lt;dbl&gt;</th><th scope=col>&lt;dbl&gt;</th><th scope=col>&lt;dbl&gt;</th><th scope=col>&lt;dbl&gt;</th><th scope=col>&lt;dbl&gt;</th><th scope=col>...</th><th scope=col>&lt;dbl&gt;</th><th scope=col>&lt;dbl&gt;</th><th scope=col>&lt;dbl&gt;</th><th scope=col>&lt;dbl&gt;</th><th scope=col>&lt;dbl&gt;</th><th scope=col>&lt;dbl&gt;</th><th scope=col>&lt;dbl&gt;</th><th scope=col>&lt;dbl&gt;</th><th scope=col>&lt;dbl&gt;</th><th scope=col>&lt;dbl&gt;</th></tr>\n",
       "</thead>\n",
       "<tbody>\n",
       "\t<tr><td>1</td><td>1</td><td>2.483940</td><td>2.2762865</td><td>2.0675157</td><td>1.9218926</td><td>1.7187752</td><td> 1.50842850</td><td> 1.3006752</td><td> 1.0902862</td><td>...</td><td>0.7133945</td><td>0.9158603</td><td>1.1204496</td><td>1.3263464</td><td>1.5322099</td><td>1.7399188</td><td>1.9457323</td><td>2.1539857</td><td>2.3612278</td><td>2.4839393</td></tr>\n",
       "\t<tr><td>2</td><td>4</td><td>2.603320</td><td>2.3406991</td><td>2.0822848</td><td>1.8256242</td><td>1.5677057</td><td> 1.31220300</td><td> 1.0571948</td><td> 0.8017157</td><td>...</td><td>0.4272742</td><td>0.6760656</td><td>0.9212985</td><td>1.1717223</td><td>1.4188965</td><td>1.6636066</td><td>1.9158275</td><td>2.1624669</td><td>2.4052760</td><td>2.6052935</td></tr>\n",
       "\t<tr><td>3</td><td>6</td><td>2.757321</td><td>2.5766667</td><td>2.3633233</td><td>2.1515785</td><td>1.9402183</td><td> 1.72942750</td><td> 1.5194285</td><td> 1.3095473</td><td>...</td><td>0.9542680</td><td>1.1573429</td><td>1.3633172</td><td>1.5663255</td><td>1.7698597</td><td>1.9738637</td><td>2.1782898</td><td>2.3808412</td><td>2.5849446</td><td>2.7591348</td></tr>\n",
       "\t<tr><td>4</td><td>5</td><td>0.916063</td><td>0.7201453</td><td>0.5224446</td><td>0.3258262</td><td>0.1343814</td><td>-0.05401188</td><td>-0.2355249</td><td>-0.4096045</td><td>...</td><td>1.1333979</td><td>0.9843523</td><td>0.7606417</td><td>0.5415025</td><td>0.5173423</td><td>0.5828356</td><td>0.6586408</td><td>0.7579009</td><td>0.8534012</td><td>0.9162167</td></tr>\n",
       "\t<tr><td>5</td><td>2</td><td>2.656142</td><td>2.3881447</td><td>2.1185954</td><td>1.8496769</td><td>1.5765789</td><td> 1.31016860</td><td> 1.1096989</td><td> 0.9309980</td><td>...</td><td>0.6366630</td><td>0.7924025</td><td>0.9860716</td><td>1.1789434</td><td>1.3926792</td><td>1.6603249</td><td>1.9292371</td><td>2.1991619</td><td>2.4699927</td><td>2.6555235</td></tr>\n",
       "\t<tr><td>6</td><td>6</td><td>2.716798</td><td>2.5208585</td><td>2.3196204</td><td>2.1164411</td><td>1.9136371</td><td> 1.71124980</td><td> 1.5093279</td><td> 1.3046473</td><td>...</td><td>0.9362289</td><td>1.1431900</td><td>1.3506284</td><td>1.5586054</td><td>1.7671641</td><td>1.9762411</td><td>2.1858814</td><td>2.3967625</td><td>2.6088970</td><td>2.7148302</td></tr>\n",
       "</tbody>\n",
       "</table>\n"
      ],
      "text/latex": [
       "A data.table: 6 × 146\n",
       "\\begin{tabular}{lllllllllllllllllllll}\n",
       " ID & Class & 1 & 2 & 3 & 4 & 5 & 6 & 7 & 8 & ... & 135 & 136 & 137 & 138 & 139 & 140 & 141 & 142 & 143 & 144\\\\\n",
       " <int> & <fct> & <dbl> & <dbl> & <dbl> & <dbl> & <dbl> & <dbl> & <dbl> & <dbl> & ... & <dbl> & <dbl> & <dbl> & <dbl> & <dbl> & <dbl> & <dbl> & <dbl> & <dbl> & <dbl>\\\\\n",
       "\\hline\n",
       "\t 1 & 1 & 2.483940 & 2.2762865 & 2.0675157 & 1.9218926 & 1.7187752 &  1.50842850 &  1.3006752 &  1.0902862 & ... & 0.7133945 & 0.9158603 & 1.1204496 & 1.3263464 & 1.5322099 & 1.7399188 & 1.9457323 & 2.1539857 & 2.3612278 & 2.4839393\\\\\n",
       "\t 2 & 4 & 2.603320 & 2.3406991 & 2.0822848 & 1.8256242 & 1.5677057 &  1.31220300 &  1.0571948 &  0.8017157 & ... & 0.4272742 & 0.6760656 & 0.9212985 & 1.1717223 & 1.4188965 & 1.6636066 & 1.9158275 & 2.1624669 & 2.4052760 & 2.6052935\\\\\n",
       "\t 3 & 6 & 2.757321 & 2.5766667 & 2.3633233 & 2.1515785 & 1.9402183 &  1.72942750 &  1.5194285 &  1.3095473 & ... & 0.9542680 & 1.1573429 & 1.3633172 & 1.5663255 & 1.7698597 & 1.9738637 & 2.1782898 & 2.3808412 & 2.5849446 & 2.7591348\\\\\n",
       "\t 4 & 5 & 0.916063 & 0.7201453 & 0.5224446 & 0.3258262 & 0.1343814 & -0.05401188 & -0.2355249 & -0.4096045 & ... & 1.1333979 & 0.9843523 & 0.7606417 & 0.5415025 & 0.5173423 & 0.5828356 & 0.6586408 & 0.7579009 & 0.8534012 & 0.9162167\\\\\n",
       "\t 5 & 2 & 2.656142 & 2.3881447 & 2.1185954 & 1.8496769 & 1.5765789 &  1.31016860 &  1.1096989 &  0.9309980 & ... & 0.6366630 & 0.7924025 & 0.9860716 & 1.1789434 & 1.3926792 & 1.6603249 & 1.9292371 & 2.1991619 & 2.4699927 & 2.6555235\\\\\n",
       "\t 6 & 6 & 2.716798 & 2.5208585 & 2.3196204 & 2.1164411 & 1.9136371 &  1.71124980 &  1.5093279 &  1.3046473 & ... & 0.9362289 & 1.1431900 & 1.3506284 & 1.5586054 & 1.7671641 & 1.9762411 & 2.1858814 & 2.3967625 & 2.6088970 & 2.7148302\\\\\n",
       "\\end{tabular}\n"
      ],
      "text/markdown": [
       "\n",
       "A data.table: 6 × 146\n",
       "\n",
       "| ID &lt;int&gt; | Class &lt;fct&gt; | 1 &lt;dbl&gt; | 2 &lt;dbl&gt; | 3 &lt;dbl&gt; | 4 &lt;dbl&gt; | 5 &lt;dbl&gt; | 6 &lt;dbl&gt; | 7 &lt;dbl&gt; | 8 &lt;dbl&gt; | ... ... | 135 &lt;dbl&gt; | 136 &lt;dbl&gt; | 137 &lt;dbl&gt; | 138 &lt;dbl&gt; | 139 &lt;dbl&gt; | 140 &lt;dbl&gt; | 141 &lt;dbl&gt; | 142 &lt;dbl&gt; | 143 &lt;dbl&gt; | 144 &lt;dbl&gt; |\n",
       "|---|---|---|---|---|---|---|---|---|---|---|---|---|---|---|---|---|---|---|---|---|\n",
       "| 1 | 1 | 2.483940 | 2.2762865 | 2.0675157 | 1.9218926 | 1.7187752 |  1.50842850 |  1.3006752 |  1.0902862 | ... | 0.7133945 | 0.9158603 | 1.1204496 | 1.3263464 | 1.5322099 | 1.7399188 | 1.9457323 | 2.1539857 | 2.3612278 | 2.4839393 |\n",
       "| 2 | 4 | 2.603320 | 2.3406991 | 2.0822848 | 1.8256242 | 1.5677057 |  1.31220300 |  1.0571948 |  0.8017157 | ... | 0.4272742 | 0.6760656 | 0.9212985 | 1.1717223 | 1.4188965 | 1.6636066 | 1.9158275 | 2.1624669 | 2.4052760 | 2.6052935 |\n",
       "| 3 | 6 | 2.757321 | 2.5766667 | 2.3633233 | 2.1515785 | 1.9402183 |  1.72942750 |  1.5194285 |  1.3095473 | ... | 0.9542680 | 1.1573429 | 1.3633172 | 1.5663255 | 1.7698597 | 1.9738637 | 2.1782898 | 2.3808412 | 2.5849446 | 2.7591348 |\n",
       "| 4 | 5 | 0.916063 | 0.7201453 | 0.5224446 | 0.3258262 | 0.1343814 | -0.05401188 | -0.2355249 | -0.4096045 | ... | 1.1333979 | 0.9843523 | 0.7606417 | 0.5415025 | 0.5173423 | 0.5828356 | 0.6586408 | 0.7579009 | 0.8534012 | 0.9162167 |\n",
       "| 5 | 2 | 2.656142 | 2.3881447 | 2.1185954 | 1.8496769 | 1.5765789 |  1.31016860 |  1.1096989 |  0.9309980 | ... | 0.6366630 | 0.7924025 | 0.9860716 | 1.1789434 | 1.3926792 | 1.6603249 | 1.9292371 | 2.1991619 | 2.4699927 | 2.6555235 |\n",
       "| 6 | 6 | 2.716798 | 2.5208585 | 2.3196204 | 2.1164411 | 1.9136371 |  1.71124980 |  1.5093279 |  1.3046473 | ... | 0.9362289 | 1.1431900 | 1.3506284 | 1.5586054 | 1.7671641 | 1.9762411 | 2.1858814 | 2.3967625 | 2.6088970 | 2.7148302 |\n",
       "\n"
      ],
      "text/plain": [
       "  ID Class 1        2         3         4         5         6          \n",
       "1 1  1     2.483940 2.2762865 2.0675157 1.9218926 1.7187752  1.50842850\n",
       "2 2  4     2.603320 2.3406991 2.0822848 1.8256242 1.5677057  1.31220300\n",
       "3 3  6     2.757321 2.5766667 2.3633233 2.1515785 1.9402183  1.72942750\n",
       "4 4  5     0.916063 0.7201453 0.5224446 0.3258262 0.1343814 -0.05401188\n",
       "5 5  2     2.656142 2.3881447 2.1185954 1.8496769 1.5765789  1.31016860\n",
       "6 6  6     2.716798 2.5208585 2.3196204 2.1164411 1.9136371  1.71124980\n",
       "  7          8          ... 135       136       137       138       139      \n",
       "1  1.3006752  1.0902862 ... 0.7133945 0.9158603 1.1204496 1.3263464 1.5322099\n",
       "2  1.0571948  0.8017157 ... 0.4272742 0.6760656 0.9212985 1.1717223 1.4188965\n",
       "3  1.5194285  1.3095473 ... 0.9542680 1.1573429 1.3633172 1.5663255 1.7698597\n",
       "4 -0.2355249 -0.4096045 ... 1.1333979 0.9843523 0.7606417 0.5415025 0.5173423\n",
       "5  1.1096989  0.9309980 ... 0.6366630 0.7924025 0.9860716 1.1789434 1.3926792\n",
       "6  1.5093279  1.3046473 ... 0.9362289 1.1431900 1.3506284 1.5586054 1.7671641\n",
       "  140       141       142       143       144      \n",
       "1 1.7399188 1.9457323 2.1539857 2.3612278 2.4839393\n",
       "2 1.6636066 1.9158275 2.1624669 2.4052760 2.6052935\n",
       "3 1.9738637 2.1782898 2.3808412 2.5849446 2.7591348\n",
       "4 0.5828356 0.6586408 0.7579009 0.8534012 0.9162167\n",
       "5 1.6603249 1.9292371 2.1991619 2.4699927 2.6555235\n",
       "6 1.9762411 2.1858814 2.3967625 2.6088970 2.7148302"
      ]
     },
     "metadata": {},
     "output_type": "display_data"
    }
   ],
   "source": [
    "plane = fread(train_data_path)\n",
    "plane <- setnames(plane, \"V1\", \"Class\")\n",
    "plane <- data.table(plane)\n",
    "plane[, \"ID\" := 1:.N]\n",
    "plane[, \"Class\" := as.factor(Class)]\n",
    "setcolorder(plane, c(\"ID\", \"Class\"))\n",
    "colnames(plane) <- c(\"ID\", \"Class\",seq(1:144))\n",
    "plane_matrix <- as.matrix(plane[,c(-1,-2)])\n",
    "plane_long <- melt(plane,id.vars = c(\"ID\",\"Class\"))\n",
    "plane_long[,variable := as.numeric(variable)]\n",
    "plane_class <- plane$Class\n",
    "head(plane)"
   ]
  },
  {
   "cell_type": "markdown",
   "id": "95409921",
   "metadata": {},
   "source": [
    "## Classes\n",
    "\n",
    "Seven classes from the dataset are as follows."
   ]
  },
  {
   "cell_type": "code",
   "execution_count": 28,
   "id": "34bf2ad5",
   "metadata": {},
   "outputs": [
    {
     "data": {
      "image/png": "[encoded data removed]",
      "text/plain": [
       "plot without title"
      ]
     },
     "metadata": {
      "image/png": {
       "height": 420,
       "width": 420
      }
     },
     "output_type": "display_data"
    }
   ],
   "source": [
    "plane_class_1 <- melt(plane[,head(.SD, 1), Class],id.vars = c(\"ID\",\"Class\"))\n",
    "\n",
    "ggplot(plane_class_1, aes(x = variable, y = value, group = Class)) +\n",
    "geom_line(aes(color = Class))"
   ]
  },
  {
   "cell_type": "markdown",
   "id": "c10bfad9",
   "metadata": {},
   "source": [
    "## Representations\n",
    "\n",
    "Two different representations are used in this analysis. First one is SAX (symbolic aggregate approximation) and second is the APCA (Adaptive Piecewise Constant Approximation) using regression trees.\n",
    "\n",
    "### Symbolic Aggregate Approximation"
   ]
  },
  {
   "cell_type": "code",
   "execution_count": 29,
   "id": "d6e2d9d4",
   "metadata": {},
   "outputs": [],
   "source": [
    "plane_sax_q12 <- repr_matrix(plane_matrix,repr_sax,args = list(q = 12, a = 5))\n",
    "plane_sax_q6 <- repr_matrix(plane_matrix,repr_sax,args = list(q = 6, a = 5))\n",
    "\n",
    "index1 = seq(1,143, by = 12)\n",
    "for(i in seq(1,105)){\n",
    "    plane_long[(variable %in% index1) & (ID == i), SAX_q12 := plane_sax_q12[i,]]\n",
    "    plane_long[ID == i, SAX_q12_fit := plane_long[ID == i, na.locf(SAX_q12)]]\n",
    "}\n",
    "\n",
    "index2 = seq(1,143, by = 6)\n",
    "for(i in seq(1,105)){\n",
    "    plane_long[(variable %in% index2) & (ID == i), SAX_q6 := plane_sax_q6[i,]]\n",
    "    plane_long[ID == i, SAX_q6_fit := plane_long[ID == i, na.locf(SAX_q6)]]\n",
    "}\n",
    "\n",
    "plane_long[, SAX_q12_fit_value := mean(value), by = .(SAX_q12_fit,ID)]\n",
    "plane_long[, SAX_q6_fit_value := mean(value), by = .(SAX_q6_fit,ID)]"
   ]
  },
  {
   "cell_type": "markdown",
   "id": "11fcaa55",
   "metadata": {},
   "source": [
    "### Regression Trees"
   ]
  },
  {
   "cell_type": "code",
   "execution_count": 30,
   "id": "aac9ab55",
   "metadata": {},
   "outputs": [
    {
     "data": {
      "text/html": [
       "<table class=\"dataframe\">\n",
       "<caption>A data.table: 6 × 12</caption>\n",
       "<thead>\n",
       "\t<tr><th scope=col>ID</th><th scope=col>Class</th><th scope=col>variable</th><th scope=col>value</th><th scope=col>SAX_q12</th><th scope=col>SAX_q12_fit</th><th scope=col>SAX_q6</th><th scope=col>SAX_q6_fit</th><th scope=col>SAX_q12_fit_value</th><th scope=col>SAX_q6_fit_value</th><th scope=col>Tree_fit_d3</th><th scope=col>Tree_fit_d4</th></tr>\n",
       "\t<tr><th scope=col>&lt;int&gt;</th><th scope=col>&lt;fct&gt;</th><th scope=col>&lt;dbl&gt;</th><th scope=col>&lt;dbl&gt;</th><th scope=col>&lt;chr&gt;</th><th scope=col>&lt;chr&gt;</th><th scope=col>&lt;chr&gt;</th><th scope=col>&lt;chr&gt;</th><th scope=col>&lt;dbl&gt;</th><th scope=col>&lt;dbl&gt;</th><th scope=col>&lt;dbl&gt;</th><th scope=col>&lt;dbl&gt;</th></tr>\n",
       "</thead>\n",
       "<tbody>\n",
       "\t<tr><td>1</td><td>1</td><td>1</td><td>2.483940</td><td>e</td><td>e</td><td>e</td><td>e</td><td> 1.40571269</td><td>1.7068239</td><td>1.59228333</td><td>1.59228333</td></tr>\n",
       "\t<tr><td>2</td><td>4</td><td>1</td><td>2.603320</td><td>e</td><td>e</td><td>e</td><td>e</td><td> 1.24472255</td><td>1.5243258</td><td>1.44292793</td><td>1.44292793</td></tr>\n",
       "\t<tr><td>3</td><td>6</td><td>1</td><td>2.757321</td><td>e</td><td>e</td><td>e</td><td>e</td><td> 1.64603627</td><td>1.6460363</td><td>1.83392569</td><td>1.83392569</td></tr>\n",
       "\t<tr><td>4</td><td>5</td><td>1</td><td>0.916063</td><td>c</td><td>c</td><td>d</td><td>d</td><td>-0.09008921</td><td>0.5146495</td><td>0.05629129</td><td>0.05629129</td></tr>\n",
       "\t<tr><td>5</td><td>2</td><td>1</td><td>2.656142</td><td>e</td><td>e</td><td>e</td><td>e</td><td> 1.34219503</td><td>1.6520688</td><td>1.52300054</td><td>1.52300054</td></tr>\n",
       "\t<tr><td>6</td><td>6</td><td>1</td><td>2.716798</td><td>e</td><td>e</td><td>e</td><td>e</td><td> 1.63372137</td><td>1.6337214</td><td>1.81157810</td><td>1.81157810</td></tr>\n",
       "</tbody>\n",
       "</table>\n"
      ],
      "text/latex": [
       "A data.table: 6 × 12\n",
       "\\begin{tabular}{llllllllllll}\n",
       " ID & Class & variable & value & SAX\\_q12 & SAX\\_q12\\_fit & SAX\\_q6 & SAX\\_q6\\_fit & SAX\\_q12\\_fit\\_value & SAX\\_q6\\_fit\\_value & Tree\\_fit\\_d3 & Tree\\_fit\\_d4\\\\\n",
       " <int> & <fct> & <dbl> & <dbl> & <chr> & <chr> & <chr> & <chr> & <dbl> & <dbl> & <dbl> & <dbl>\\\\\n",
       "\\hline\n",
       "\t 1 & 1 & 1 & 2.483940 & e & e & e & e &  1.40571269 & 1.7068239 & 1.59228333 & 1.59228333\\\\\n",
       "\t 2 & 4 & 1 & 2.603320 & e & e & e & e &  1.24472255 & 1.5243258 & 1.44292793 & 1.44292793\\\\\n",
       "\t 3 & 6 & 1 & 2.757321 & e & e & e & e &  1.64603627 & 1.6460363 & 1.83392569 & 1.83392569\\\\\n",
       "\t 4 & 5 & 1 & 0.916063 & c & c & d & d & -0.09008921 & 0.5146495 & 0.05629129 & 0.05629129\\\\\n",
       "\t 5 & 2 & 1 & 2.656142 & e & e & e & e &  1.34219503 & 1.6520688 & 1.52300054 & 1.52300054\\\\\n",
       "\t 6 & 6 & 1 & 2.716798 & e & e & e & e &  1.63372137 & 1.6337214 & 1.81157810 & 1.81157810\\\\\n",
       "\\end{tabular}\n"
      ],
      "text/markdown": [
       "\n",
       "A data.table: 6 × 12\n",
       "\n",
       "| ID &lt;int&gt; | Class &lt;fct&gt; | variable &lt;dbl&gt; | value &lt;dbl&gt; | SAX_q12 &lt;chr&gt; | SAX_q12_fit &lt;chr&gt; | SAX_q6 &lt;chr&gt; | SAX_q6_fit &lt;chr&gt; | SAX_q12_fit_value &lt;dbl&gt; | SAX_q6_fit_value &lt;dbl&gt; | Tree_fit_d3 &lt;dbl&gt; | Tree_fit_d4 &lt;dbl&gt; |\n",
       "|---|---|---|---|---|---|---|---|---|---|---|---|\n",
       "| 1 | 1 | 1 | 2.483940 | e | e | e | e |  1.40571269 | 1.7068239 | 1.59228333 | 1.59228333 |\n",
       "| 2 | 4 | 1 | 2.603320 | e | e | e | e |  1.24472255 | 1.5243258 | 1.44292793 | 1.44292793 |\n",
       "| 3 | 6 | 1 | 2.757321 | e | e | e | e |  1.64603627 | 1.6460363 | 1.83392569 | 1.83392569 |\n",
       "| 4 | 5 | 1 | 0.916063 | c | c | d | d | -0.09008921 | 0.5146495 | 0.05629129 | 0.05629129 |\n",
       "| 5 | 2 | 1 | 2.656142 | e | e | e | e |  1.34219503 | 1.6520688 | 1.52300054 | 1.52300054 |\n",
       "| 6 | 6 | 1 | 2.716798 | e | e | e | e |  1.63372137 | 1.6337214 | 1.81157810 | 1.81157810 |\n",
       "\n"
      ],
      "text/plain": [
       "  ID Class variable value    SAX_q12 SAX_q12_fit SAX_q6 SAX_q6_fit\n",
       "1 1  1     1        2.483940 e       e           e      e         \n",
       "2 2  4     1        2.603320 e       e           e      e         \n",
       "3 3  6     1        2.757321 e       e           e      e         \n",
       "4 4  5     1        0.916063 c       c           d      d         \n",
       "5 5  2     1        2.656142 e       e           e      e         \n",
       "6 6  6     1        2.716798 e       e           e      e         \n",
       "  SAX_q12_fit_value SAX_q6_fit_value Tree_fit_d3 Tree_fit_d4\n",
       "1  1.40571269       1.7068239        1.59228333  1.59228333 \n",
       "2  1.24472255       1.5243258        1.44292793  1.44292793 \n",
       "3  1.64603627       1.6460363        1.83392569  1.83392569 \n",
       "4 -0.09008921       0.5146495        0.05629129  0.05629129 \n",
       "5  1.34219503       1.6520688        1.52300054  1.52300054 \n",
       "6  1.63372137       1.6337214        1.81157810  1.81157810 "
      ]
     },
     "metadata": {},
     "output_type": "display_data"
    }
   ],
   "source": [
    "for(i in seq(1,105)){\n",
    "    selected_series <- plane_long[ID == i]\n",
    "    tree_fit=rpart(value~variable,selected_series,control=rpart.control(maxdepth=3, cp = 0, minsplit = 20, minbucket = 10))\n",
    "    #fancyRpartPlot(tree_fit)\n",
    "    plane_long[ID == i, Tree_fit_d3 := predict(tree_fit, selected_series)]\n",
    "}\n",
    "\n",
    "for(j in seq(1,105)){\n",
    "    selected_series <- plane_long[ID == j]\n",
    "    tree_fit=rpart(value~variable,selected_series,control=rpart.control(maxdepth=4, cp = 0, minsplit = 20, minbucket = 10))\n",
    "    #fancyRpartPlot(tree_fit)\n",
    "    plane_long[ID == j, Tree_fit_d4 := predict(tree_fit, selected_series)]\n",
    "}\n",
    "\n",
    "head(plane_long)"
   ]
  },
  {
   "cell_type": "markdown",
   "id": "d4cacd08",
   "metadata": {},
   "source": [
    "## Distance Measures\n",
    "\n",
    "Three different distances measures are used. First one is the Euclidean Distance. Remaining ones are Dynamic Time Warping (DTW), Longest Common Subsequence (LCSS) and Edit Distance with Real Penalties (ERP).\n",
    "\n",
    "### Euclidean Distance"
   ]
  },
  {
   "cell_type": "code",
   "execution_count": 31,
   "id": "b87dab96",
   "metadata": {},
   "outputs": [],
   "source": [
    "#plane_matrix <- as.matrix(plane[,c(-1,-2)]) #ncol = 144, nrow = 105, byrow = TRUE )\n",
    "plane_euclidean_raw <- as.matrix(dist(plane_matrix))\n",
    "\n",
    "plane_SAX_q12_matrix <- dcast(plane_long, ID + Class ~ variable, value.var = \"SAX_q12_fit_value\")\n",
    "plane_SAX_q6_matrix <- dcast(plane_long, ID + Class ~ variable, value.var = \"SAX_q6_fit_value\")\n",
    "plane_RegTree_d3_matrix <- dcast(plane_long, ID + Class ~ variable, value.var = \"Tree_fit_d3\")\n",
    "plane_RegTree_d4_matrix <- dcast(plane_long, ID + Class ~ variable, value.var = \"Tree_fit_d4\")\n",
    "\n",
    "plane_euclidean_sax_q12 <- as.matrix(dist(as.matrix(plane_SAX_q12_matrix[,c(-1,-2)])))\n",
    "plane_euclidean_sax_q6 <- as.matrix(dist(as.matrix(plane_SAX_q6_matrix[,c(-1,-2)])))\n",
    "plane_euclidean_RegTree_d3 <- as.matrix(dist(as.matrix(plane_RegTree_d3_matrix[,c(-1,-2)])))\n",
    "plane_euclidean_RegTree_d4 <- as.matrix(dist(as.matrix(plane_RegTree_d4_matrix[,c(-1,-2)])))"
   ]
  },
  {
   "cell_type": "markdown",
   "id": "4798a3be",
   "metadata": {},
   "source": [
    "### Dynamic Time Warping"
   ]
  },
  {
   "cell_type": "code",
   "execution_count": 32,
   "id": "0b06ef91",
   "metadata": {},
   "outputs": [],
   "source": [
    "plane_dtw_sax_q12 <- as.matrix(TSDatabaseDistances(X = plane_SAX_q12_matrix[,c(-1,-2)], distance = 'dtw'))\n",
    "plane_dtw_sax_q6 <- as.matrix(TSDatabaseDistances(X = plane_SAX_q6_matrix[,c(-1,-2)], distance = 'dtw'))\n",
    "plane_dtw_RegTree_d3 <- as.matrix(TSDatabaseDistances(X = plane_RegTree_d3_matrix[,c(-1,-2)], distance = 'dtw'))\n",
    "plane_dtw_RegTree_d4 <- as.matrix(TSDatabaseDistances(X = plane_RegTree_d4_matrix[,c(-1,-2)], distance = 'dtw'))\n",
    "plane_dtw_raw <- as.matrix(TSDatabaseDistances(X = plane_matrix, distance = 'dtw'))"
   ]
  },
  {
   "cell_type": "markdown",
   "id": "d389cc18",
   "metadata": {},
   "source": [
    "### LCSS"
   ]
  },
  {
   "cell_type": "code",
   "execution_count": 33,
   "id": "f82b0410",
   "metadata": {},
   "outputs": [],
   "source": [
    "plane_lcss_raw <- as.matrix(TSDatabaseDistances(X = plane_matrix, distance = 'lcss', epsilon = 0.1))\n",
    "plane_lcss_sax_q12 <- as.matrix(TSDatabaseDistances(X = plane_SAX_q12_matrix[,c(-1,-2)], distance = 'lcss', epsilon = 0.1))\n",
    "plane_lcss_sax_q6 <- as.matrix(TSDatabaseDistances(X = plane_SAX_q6_matrix[,c(-1,-2)], distance = 'lcss', epsilon = 0.1))\n",
    "plane_lcss_RegTree_d3 <- as.matrix(TSDatabaseDistances(X = plane_RegTree_d3_matrix[,c(-1,-2)], distance = 'lcss', epsilon = 0.1))\n",
    "plane_lcss_RegTree_d4 <- as.matrix(TSDatabaseDistances(X = plane_RegTree_d4_matrix[,c(-1,-2)], distance = 'lcss', epsilon = 0.1))"
   ]
  },
  {
   "cell_type": "markdown",
   "id": "dd4de499",
   "metadata": {},
   "source": [
    "### ERP"
   ]
  },
  {
   "cell_type": "code",
   "execution_count": 34,
   "id": "9a86d226",
   "metadata": {},
   "outputs": [],
   "source": [
    "plane_erp_raw <- as.matrix(TSDatabaseDistances(X = plane_matrix, distance = 'erp', g = 0))\n",
    "plane_erp_sax_q12 <- as.matrix(TSDatabaseDistances(X = plane_SAX_q12_matrix[,c(-1,-2)], distance = 'erp', g = 0))\n",
    "plane_erp_sax_q6 <- as.matrix(TSDatabaseDistances(X = plane_SAX_q6_matrix[,c(-1,-2)], distance = 'erp', g = 0))\n",
    "plane_erp_RegTree_d3 <- as.matrix(TSDatabaseDistances(X = plane_RegTree_d3_matrix[,c(-1,-2)], distance = 'erp', g = 0))\n",
    "plane_erp_RegTree_d4 <- as.matrix(TSDatabaseDistances(X = plane_RegTree_d4_matrix[,c(-1,-2)], distance = 'erp', g = 0))"
   ]
  },
  {
   "cell_type": "markdown",
   "id": "e866b00d",
   "metadata": {},
   "source": [
    "## Generating Runs\n",
    "\n",
    "After building the distance matrices, each model's performance is measured using the 10-fold stratified cross validation with 5 repeats.\n",
    "\n",
    "### Cross-Validation Runs"
   ]
  },
  {
   "cell_type": "code",
   "execution_count": 35,
   "id": "7e513af7",
   "metadata": {
    "scrolled": true
   },
   "outputs": [
    {
     "name": "stdout",
     "output_type": "stream",
     "text": [
      "List of 5\n",
      " $ Run  1:List of 10\n",
      "  ..$ Fold  1 : int [1:11] 39 84 19 60 13 67 25 62 24 92 ...\n",
      "  ..$ Fold  2 : int [1:11] 95 27 40 11 100 63 93 5 51 57 ...\n",
      "  ..$ Fold  3 : int [1:11] 42 48 68 29 75 54 9 41 98 102 ...\n",
      "  ..$ Fold  4 : int [1:11] 1 101 88 73 65 46 89 79 32 36 ...\n",
      "  ..$ Fold  5 : int [1:11] 83 17 44 3 21 86 78 104 66 69 ...\n",
      "  ..$ Fold  6 : int [1:10] 38 105 26 10 22 45 28 37 53 12\n",
      "  ..$ Fold  7 : int [1:10] 56 47 2 99 7 91 61 50 74 64\n",
      "  ..$ Fold  8 : int [1:10] 72 103 15 16 35 4 87 49 14 59\n",
      "  ..$ Fold  9 : int [1:10] 33 90 58 81 94 85 97 23 20 55\n",
      "  ..$ Fold  10: int [1:10] 8 18 80 6 77 43 34 82 30 70\n",
      " $ Run  2:List of 10\n",
      "  ..$ Fold  1 : int [1:11] 95 39 15 58 35 46 43 87 24 51 ...\n",
      "  ..$ Fold  2 : int [1:11] 33 17 88 6 13 4 67 61 98 14 ...\n",
      "  ..$ Fold  3 : int [1:11] 1 101 103 22 100 54 5 97 102 32 ...\n",
      "  ..$ Fold  4 : int [1:11] 84 42 18 75 81 85 78 41 12 36 ...\n",
      "  ..$ Fold  5 : int [1:11] 8 83 105 94 7 77 9 28 49 50 ...\n",
      "  ..$ Fold  6 : int [1:10] 27 60 80 73 99 93 79 62 92 66\n",
      "  ..$ Fold  7 : int [1:10] 48 2 90 3 65 45 89 23 82 76\n",
      "  ..$ Fold  8 : int [1:10] 56 19 40 29 21 25 34 20 57 31\n",
      "  ..$ Fold  9 : int [1:10] 38 26 47 11 10 91 37 30 74 52\n",
      "  ..$ Fold  10: int [1:10] 72 68 44 16 86 63 104 53 69 70\n",
      " $ Run  3:List of 10\n",
      "  ..$ Fold  1 : int [1:11] 33 72 44 80 75 46 85 41 30 102 ...\n",
      "  ..$ Fold  2 : int [1:11] 48 56 47 7 16 43 63 34 24 50 ...\n",
      "  ..$ Fold  3 : int [1:11] 1 39 88 22 81 4 97 28 32 36 ...\n",
      "  ..$ Fold  4 : int [1:11] 17 42 40 6 73 45 89 87 14 20 ...\n",
      "  ..$ Fold  5 : int [1:11] 27 95 15 29 21 54 9 5 23 53 ...\n",
      "  ..$ Fold  6 : int [1:10] 101 26 68 100 99 67 37 79 69 74\n",
      "  ..$ Fold  7 : int [1:10] 83 19 18 10 13 77 78 82 92 76\n",
      "  ..$ Fold  8 : int [1:10] 38 60 2 35 94 91 62 49 57 59\n",
      "  ..$ Fold  9 : int [1:10] 84 103 58 65 3 86 61 66 51 31\n",
      "  ..$ Fold  10: int [1:10] 8 90 105 11 93 25 104 12 98 64\n",
      " $ Run  4:List of 10\n",
      "  ..$ Fold  1 : int [1:11] 84 95 40 2 29 4 67 34 53 57 ...\n",
      "  ..$ Fold  2 : int [1:11] 17 39 80 10 99 85 77 89 74 51 ...\n",
      "  ..$ Fold  3 : int [1:11] 72 48 105 35 13 45 87 97 98 49 ...\n",
      "  ..$ Fold  4 : int [1:11] 8 38 58 11 75 86 9 28 102 82 ...\n",
      "  ..$ Fold  5 : int [1:11] 101 56 103 21 65 25 78 79 23 24 ...\n",
      "  ..$ Fold  6 : int [1:10] 1 90 88 94 81 46 62 41 20 12\n",
      "  ..$ Fold  7 : int [1:10] 42 47 44 22 100 54 61 14 66 52\n",
      "  ..$ Fold  8 : int [1:10] 33 60 18 16 3 63 37 92 32 59\n",
      "  ..$ Fold  9 : int [1:10] 27 19 68 6 73 93 104 30 50 96\n",
      "  ..$ Fold  10: int [1:10] 83 26 15 7 91 43 5 36 69 70\n",
      " $ Run  5:List of 10\n",
      "  ..$ Fold  1 : int [1:11] 83 33 58 15 35 54 91 9 49 30 ...\n",
      "  ..$ Fold  2 : int [1:11] 1 84 105 11 7 85 63 79 51 57 ...\n",
      "  ..$ Fold  3 : int [1:11] 95 72 18 21 81 43 5 104 23 14 ...\n",
      "  ..$ Fold  4 : int [1:11] 17 56 90 16 99 45 37 78 24 66 ...\n",
      "  ..$ Fold  5 : int [1:11] 27 39 44 29 75 46 89 87 74 82 ...\n",
      "  ..$ Fold  6 : int [1:10] 8 60 80 3 100 25 41 61 20 12\n",
      "  ..$ Fold  7 : int [1:10] 42 88 19 73 6 77 34 36 92 31\n",
      "  ..$ Fold  8 : int [1:10] 48 26 103 22 65 93 97 69 32 59\n",
      "  ..$ Fold  9 : int [1:10] 38 47 68 13 10 4 28 50 98 64\n",
      "  ..$ Fold  10: int [1:10] 101 40 2 94 86 67 62 102 53 71\n"
     ]
    }
   ],
   "source": [
    "set.seed(12435)\n",
    "cv_indices = generateCVRuns(plane_class, ntimes = 5, nfold = 10, \n",
    "                            leaveOneOut = FALSE, stratified = TRUE)\n",
    "str(cv_indices)"
   ]
  },
  {
   "cell_type": "markdown",
   "id": "85a86fbf",
   "metadata": {},
   "source": [
    "### k-NN Classifier"
   ]
  },
  {
   "cell_type": "code",
   "execution_count": 36,
   "id": "fac95c0d",
   "metadata": {},
   "outputs": [],
   "source": [
    "nn_classify_cv=function(dist_matrix,train_class,test_indices,k=1){\n",
    "    \n",
    "    test_distances_to_train=dist_matrix[test_indices,]\n",
    "    test_distances_to_train=test_distances_to_train[,-test_indices]\n",
    "    train_class=train_class[-test_indices]\n",
    "    ordered_indices=apply(test_distances_to_train,1,order)\n",
    "    \n",
    "    if(k==1){\n",
    "        nearest_class=as.numeric(train_class[as.numeric(ordered_indices[1,])])\n",
    "        nearest_class=data.table(id=test_indices,nearest_class)\n",
    "    } else {\n",
    "        nearest_class=apply(ordered_indices[1:k,],2,function(x) {train_class[x]})\n",
    "        nearest_class=data.table(id=test_indices,t(nearest_class))\n",
    "    }\n",
    "    \n",
    "    long_nn_class=melt(nearest_class,'id')\n",
    "\n",
    "    class_counts=long_nn_class[,.N,list(id,value)]\n",
    "    class_counts[,predicted_prob:=N/k]\n",
    "    wide_class_prob_predictions=dcast(class_counts,id~value,value.var='predicted_prob')\n",
    "    wide_class_prob_predictions[is.na(wide_class_prob_predictions)]=0\n",
    "    class_predictions=class_counts[,list(predicted=value[which.max(N)]),by=list(id)]\n",
    "    \n",
    "    \n",
    "    return(list(prediction=class_predictions,prob_estimates=wide_class_prob_predictions))\n",
    "    \n",
    "}"
   ]
  },
  {
   "cell_type": "markdown",
   "id": "3659f5b7",
   "metadata": {},
   "source": [
    "### Testing the Models"
   ]
  },
  {
   "cell_type": "code",
   "execution_count": 37,
   "id": "34e359fc",
   "metadata": {},
   "outputs": [],
   "source": [
    "#approach_file=list.files(dist_folder)\n",
    "dist = list(plane_euclidean_raw,\n",
    "            plane_euclidean_sax_q12,\n",
    "            plane_euclidean_sax_q6,\n",
    "            plane_euclidean_RegTree_d3,\n",
    "            plane_euclidean_RegTree_d4,\n",
    "            plane_dtw_raw,\n",
    "            plane_dtw_sax_q12,\n",
    "            plane_dtw_sax_q6,\n",
    "            plane_dtw_RegTree_d3,\n",
    "            plane_dtw_RegTree_d4,\n",
    "            plane_lcss_raw,\n",
    "            plane_lcss_sax_q6,\n",
    "            plane_lcss_sax_q12,\n",
    "            plane_lcss_RegTree_d3,\n",
    "            plane_lcss_RegTree_d4,\n",
    "            plane_erp_raw,\n",
    "            plane_erp_sax_q6,\n",
    "            plane_erp_sax_q12,\n",
    "            plane_erp_RegTree_d3,\n",
    "            plane_erp_RegTree_d4)\n",
    "\n",
    "n_dist = 15\n",
    "nof_rep = 5\n",
    "n_fold = 10\n",
    "k_levels=c(1,5,10)\n",
    "result = vector('list',n_dist*nof_rep*n_fold*length(k_levels))\n",
    "iter = 1\n",
    "names = c(\"plane_euclidean_raw\",\"plane_euclidean_sax_q12\",\"plane_euclidean_sax_q6\",\n",
    "         \"plane_euclidean_RegTree_d3\",\"plane_euclidean_RegTree_d4\",\n",
    "         \"plane_dtw_raw\",\"plane_dtw_sax_q12\",\"plane_dtw_sax_q6\",\"plane_dtw_RegTree_d3\",\n",
    "         \"plane_dtw_RegTree_d4\",\"plane_lcss_raw\",\"plane_lcss_sax_q6\",\"plane_lcss_sax_q12\",\n",
    "         \"plane_lcss_RegTree_d3\",\"plane_lcss_RegTree_d4\",\"plane_erp_raw\",\"plane_erp_sax_q6\",\n",
    "         \"plane_erp_sax_q12\",\"plane_erp_RegTree_d3\",\"plane_erp_RegTree_d4\")"
   ]
  },
  {
   "cell_type": "code",
   "execution_count": 38,
   "id": "1467b7d8",
   "metadata": {},
   "outputs": [],
   "source": [
    "CrossValidationTrain <- function(dist,cv_index, train_class){\n",
    "    n_dist = 20\n",
    "    nof_rep = 5\n",
    "    n_fold = 10\n",
    "    k_levels=c(1,3,5)\n",
    "\n",
    "    for(m in 1:n_dist){ #\n",
    "        current_dist = dist[[m]]\n",
    "        for(i in 1:nof_rep){\n",
    "            this_fold=cv_index[[i]]\n",
    "            for(j in 1:n_fold){\n",
    "                test_indices=this_fold[[j]]\n",
    "                for(k in 1:length(k_levels)){\n",
    "                    current_k=k_levels[k]\n",
    "                    current_fold=nn_classify_cv(current_dist,train_class,test_indices,k=current_k)\n",
    "                    accuracy=sum(train_class[test_indices]==current_fold$prediction$predicted)/length(test_indices)\n",
    "                    tmp=data.table(approach=names[[m]],repid=i,foldid=j,\n",
    "                                   k=current_k,acc=accuracy)\n",
    "                    \n",
    "                    result[[iter]]=tmp\n",
    "                    iter=iter+1\n",
    "                }\n",
    "            }\n",
    "        }   \n",
    "    }\n",
    "    return(result)\n",
    "}"
   ]
  },
  {
   "cell_type": "markdown",
   "id": "755be28c",
   "metadata": {},
   "source": [
    "Mean and standart deviation of each model is reported below. There are several best performing models. DTW on the raw series has 100% accuracy (regardless of the k parameter) and ERP on the raw series also has 100% accuracy for k=5. For the final testing the DTW with k=1 wil be used."
   ]
  },
  {
   "cell_type": "code",
   "execution_count": 19,
   "id": "a199220d",
   "metadata": {
    "scrolled": false
   },
   "outputs": [
    {
     "data": {
      "text/html": [
       "<table class=\"dataframe\">\n",
       "<caption>A data.table: 60 × 4</caption>\n",
       "<thead>\n",
       "\t<tr><th scope=col>approach</th><th scope=col>k</th><th scope=col>Mean</th><th scope=col>SD</th></tr>\n",
       "\t<tr><th scope=col>&lt;chr&gt;</th><th scope=col>&lt;dbl&gt;</th><th scope=col>&lt;dbl&gt;</th><th scope=col>&lt;dbl&gt;</th></tr>\n",
       "</thead>\n",
       "<tbody>\n",
       "\t<tr><td>plane_dtw_raw             </td><td>1</td><td>1.000000000</td><td>0.00000000</td></tr>\n",
       "\t<tr><td>plane_dtw_raw             </td><td>3</td><td>1.000000000</td><td>0.00000000</td></tr>\n",
       "\t<tr><td>plane_dtw_raw             </td><td>5</td><td>1.000000000</td><td>0.00000000</td></tr>\n",
       "\t<tr><td>plane_erp_raw             </td><td>5</td><td>1.000000000</td><td>0.00000000</td></tr>\n",
       "\t<tr><td>plane_erp_raw             </td><td>3</td><td>0.992545455</td><td>0.02556100</td></tr>\n",
       "\t<tr><td>plane_erp_raw             </td><td>1</td><td>0.990727273</td><td>0.02812461</td></tr>\n",
       "\t<tr><td>plane_euclidean_raw       </td><td>3</td><td>0.990545455</td><td>0.02868690</td></tr>\n",
       "\t<tr><td>plane_dtw_sax_q6          </td><td>3</td><td>0.985090909</td><td>0.03454448</td></tr>\n",
       "\t<tr><td>plane_erp_sax_q6          </td><td>1</td><td>0.980909091</td><td>0.03862408</td></tr>\n",
       "\t<tr><td>plane_erp_sax_q6          </td><td>5</td><td>0.979636364</td><td>0.04289884</td></tr>\n",
       "\t<tr><td>plane_dtw_sax_q6          </td><td>5</td><td>0.977818182</td><td>0.04393221</td></tr>\n",
       "\t<tr><td>plane_euclidean_raw       </td><td>5</td><td>0.975818182</td><td>0.05209751</td></tr>\n",
       "\t<tr><td>plane_erp_sax_q6          </td><td>3</td><td>0.972000000</td><td>0.05369906</td></tr>\n",
       "\t<tr><td>plane_euclidean_raw       </td><td>1</td><td>0.971454545</td><td>0.05119618</td></tr>\n",
       "\t<tr><td>plane_dtw_sax_q6          </td><td>1</td><td>0.962363636</td><td>0.05338942</td></tr>\n",
       "\t<tr><td>plane_euclidean_sax_q6    </td><td>1</td><td>0.962181818</td><td>0.06232034</td></tr>\n",
       "\t<tr><td>plane_erp_sax_q12         </td><td>5</td><td>0.955090909</td><td>0.05989280</td></tr>\n",
       "\t<tr><td>plane_erp_sax_q12         </td><td>1</td><td>0.953272727</td><td>0.06263484</td></tr>\n",
       "\t<tr><td>plane_erp_sax_q12         </td><td>3</td><td>0.953272727</td><td>0.06263484</td></tr>\n",
       "\t<tr><td>plane_euclidean_sax_q12   </td><td>1</td><td>0.953090909</td><td>0.06003204</td></tr>\n",
       "\t<tr><td>plane_euclidean_sax_q6    </td><td>3</td><td>0.950727273</td><td>0.06627424</td></tr>\n",
       "\t<tr><td>plane_euclidean_sax_q12   </td><td>3</td><td>0.949454545</td><td>0.06522429</td></tr>\n",
       "\t<tr><td>plane_erp_RegTree_d4      </td><td>3</td><td>0.947090909</td><td>0.06120976</td></tr>\n",
       "\t<tr><td>plane_euclidean_sax_q6    </td><td>5</td><td>0.943272727</td><td>0.07334064</td></tr>\n",
       "\t<tr><td>plane_erp_RegTree_d4      </td><td>5</td><td>0.943272727</td><td>0.06858717</td></tr>\n",
       "\t<tr><td>plane_euclidean_RegTree_d4</td><td>1</td><td>0.939272727</td><td>0.06076035</td></tr>\n",
       "\t<tr><td>plane_euclidean_sax_q12   </td><td>5</td><td>0.934181818</td><td>0.07808554</td></tr>\n",
       "\t<tr><td>plane_dtw_sax_q12         </td><td>5</td><td>0.934181818</td><td>0.07763062</td></tr>\n",
       "\t<tr><td>plane_dtw_sax_q12         </td><td>1</td><td>0.930181818</td><td>0.08780297</td></tr>\n",
       "\t<tr><td>plane_dtw_sax_q12         </td><td>3</td><td>0.930181818</td><td>0.07930462</td></tr>\n",
       "\t<tr><td>plane_erp_RegTree_d4      </td><td>1</td><td>0.926000000</td><td>0.07195813</td></tr>\n",
       "\t<tr><td>plane_dtw_RegTree_d4      </td><td>1</td><td>0.924000000</td><td>0.07629823</td></tr>\n",
       "\t<tr><td>plane_dtw_RegTree_d4      </td><td>3</td><td>0.920363636</td><td>0.08367427</td></tr>\n",
       "\t<tr><td>plane_dtw_RegTree_d4      </td><td>5</td><td>0.920181818</td><td>0.08693134</td></tr>\n",
       "\t<tr><td>plane_euclidean_RegTree_d3</td><td>1</td><td>0.907636364</td><td>0.08094483</td></tr>\n",
       "\t<tr><td>plane_erp_RegTree_d3      </td><td>3</td><td>0.902000000</td><td>0.08613220</td></tr>\n",
       "\t<tr><td>plane_euclidean_RegTree_d4</td><td>3</td><td>0.895454545</td><td>0.06703740</td></tr>\n",
       "\t<tr><td>plane_erp_RegTree_d3      </td><td>1</td><td>0.892181818</td><td>0.08929948</td></tr>\n",
       "\t<tr><td>plane_erp_RegTree_d3      </td><td>5</td><td>0.890181818</td><td>0.08024335</td></tr>\n",
       "\t<tr><td>plane_dtw_RegTree_d3      </td><td>3</td><td>0.883090909</td><td>0.08678998</td></tr>\n",
       "\t<tr><td>plane_dtw_RegTree_d3      </td><td>1</td><td>0.881090909</td><td>0.09742580</td></tr>\n",
       "\t<tr><td>plane_euclidean_RegTree_d4</td><td>5</td><td>0.878363636</td><td>0.07291002</td></tr>\n",
       "\t<tr><td>plane_euclidean_RegTree_d3</td><td>3</td><td>0.876363636</td><td>0.07856875</td></tr>\n",
       "\t<tr><td>plane_euclidean_RegTree_d3</td><td>5</td><td>0.867818182</td><td>0.09159684</td></tr>\n",
       "\t<tr><td>plane_dtw_RegTree_d3      </td><td>5</td><td>0.860181818</td><td>0.09107388</td></tr>\n",
       "\t<tr><td>plane_lcss_RegTree_d3     </td><td>1</td><td>0.011454545</td><td>0.03137432</td></tr>\n",
       "\t<tr><td>plane_lcss_RegTree_d3     </td><td>3</td><td>0.007636364</td><td>0.02619130</td></tr>\n",
       "\t<tr><td>plane_lcss_RegTree_d3     </td><td>5</td><td>0.007636364</td><td>0.02619130</td></tr>\n",
       "\t<tr><td>plane_lcss_sax_q6         </td><td>1</td><td>0.003818182</td><td>0.01891740</td></tr>\n",
       "\t<tr><td>plane_lcss_sax_q12        </td><td>1</td><td>0.003636364</td><td>0.01799533</td></tr>\n",
       "\t<tr><td>plane_lcss_sax_q6         </td><td>3</td><td>0.001818182</td><td>0.01285649</td></tr>\n",
       "\t<tr><td>plane_lcss_sax_q12        </td><td>5</td><td>0.001818182</td><td>0.01285649</td></tr>\n",
       "\t<tr><td>plane_lcss_raw            </td><td>1</td><td>0.000000000</td><td>0.00000000</td></tr>\n",
       "\t<tr><td>plane_lcss_raw            </td><td>3</td><td>0.000000000</td><td>0.00000000</td></tr>\n",
       "\t<tr><td>plane_lcss_raw            </td><td>5</td><td>0.000000000</td><td>0.00000000</td></tr>\n",
       "\t<tr><td>plane_lcss_sax_q6         </td><td>5</td><td>0.000000000</td><td>0.00000000</td></tr>\n",
       "\t<tr><td>plane_lcss_sax_q12        </td><td>3</td><td>0.000000000</td><td>0.00000000</td></tr>\n",
       "\t<tr><td>plane_lcss_RegTree_d4     </td><td>1</td><td>0.000000000</td><td>0.00000000</td></tr>\n",
       "\t<tr><td>plane_lcss_RegTree_d4     </td><td>3</td><td>0.000000000</td><td>0.00000000</td></tr>\n",
       "\t<tr><td>plane_lcss_RegTree_d4     </td><td>5</td><td>0.000000000</td><td>0.00000000</td></tr>\n",
       "</tbody>\n",
       "</table>\n"
      ],
      "text/latex": [
       "A data.table: 60 × 4\n",
       "\\begin{tabular}{llll}\n",
       " approach & k & Mean & SD\\\\\n",
       " <chr> & <dbl> & <dbl> & <dbl>\\\\\n",
       "\\hline\n",
       "\t plane\\_dtw\\_raw              & 1 & 1.000000000 & 0.00000000\\\\\n",
       "\t plane\\_dtw\\_raw              & 3 & 1.000000000 & 0.00000000\\\\\n",
       "\t plane\\_dtw\\_raw              & 5 & 1.000000000 & 0.00000000\\\\\n",
       "\t plane\\_erp\\_raw              & 5 & 1.000000000 & 0.00000000\\\\\n",
       "\t plane\\_erp\\_raw              & 3 & 0.992545455 & 0.02556100\\\\\n",
       "\t plane\\_erp\\_raw              & 1 & 0.990727273 & 0.02812461\\\\\n",
       "\t plane\\_euclidean\\_raw        & 3 & 0.990545455 & 0.02868690\\\\\n",
       "\t plane\\_dtw\\_sax\\_q6           & 3 & 0.985090909 & 0.03454448\\\\\n",
       "\t plane\\_erp\\_sax\\_q6           & 1 & 0.980909091 & 0.03862408\\\\\n",
       "\t plane\\_erp\\_sax\\_q6           & 5 & 0.979636364 & 0.04289884\\\\\n",
       "\t plane\\_dtw\\_sax\\_q6           & 5 & 0.977818182 & 0.04393221\\\\\n",
       "\t plane\\_euclidean\\_raw        & 5 & 0.975818182 & 0.05209751\\\\\n",
       "\t plane\\_erp\\_sax\\_q6           & 3 & 0.972000000 & 0.05369906\\\\\n",
       "\t plane\\_euclidean\\_raw        & 1 & 0.971454545 & 0.05119618\\\\\n",
       "\t plane\\_dtw\\_sax\\_q6           & 1 & 0.962363636 & 0.05338942\\\\\n",
       "\t plane\\_euclidean\\_sax\\_q6     & 1 & 0.962181818 & 0.06232034\\\\\n",
       "\t plane\\_erp\\_sax\\_q12          & 5 & 0.955090909 & 0.05989280\\\\\n",
       "\t plane\\_erp\\_sax\\_q12          & 1 & 0.953272727 & 0.06263484\\\\\n",
       "\t plane\\_erp\\_sax\\_q12          & 3 & 0.953272727 & 0.06263484\\\\\n",
       "\t plane\\_euclidean\\_sax\\_q12    & 1 & 0.953090909 & 0.06003204\\\\\n",
       "\t plane\\_euclidean\\_sax\\_q6     & 3 & 0.950727273 & 0.06627424\\\\\n",
       "\t plane\\_euclidean\\_sax\\_q12    & 3 & 0.949454545 & 0.06522429\\\\\n",
       "\t plane\\_erp\\_RegTree\\_d4       & 3 & 0.947090909 & 0.06120976\\\\\n",
       "\t plane\\_euclidean\\_sax\\_q6     & 5 & 0.943272727 & 0.07334064\\\\\n",
       "\t plane\\_erp\\_RegTree\\_d4       & 5 & 0.943272727 & 0.06858717\\\\\n",
       "\t plane\\_euclidean\\_RegTree\\_d4 & 1 & 0.939272727 & 0.06076035\\\\\n",
       "\t plane\\_euclidean\\_sax\\_q12    & 5 & 0.934181818 & 0.07808554\\\\\n",
       "\t plane\\_dtw\\_sax\\_q12          & 5 & 0.934181818 & 0.07763062\\\\\n",
       "\t plane\\_dtw\\_sax\\_q12          & 1 & 0.930181818 & 0.08780297\\\\\n",
       "\t plane\\_dtw\\_sax\\_q12          & 3 & 0.930181818 & 0.07930462\\\\\n",
       "\t plane\\_erp\\_RegTree\\_d4       & 1 & 0.926000000 & 0.07195813\\\\\n",
       "\t plane\\_dtw\\_RegTree\\_d4       & 1 & 0.924000000 & 0.07629823\\\\\n",
       "\t plane\\_dtw\\_RegTree\\_d4       & 3 & 0.920363636 & 0.08367427\\\\\n",
       "\t plane\\_dtw\\_RegTree\\_d4       & 5 & 0.920181818 & 0.08693134\\\\\n",
       "\t plane\\_euclidean\\_RegTree\\_d3 & 1 & 0.907636364 & 0.08094483\\\\\n",
       "\t plane\\_erp\\_RegTree\\_d3       & 3 & 0.902000000 & 0.08613220\\\\\n",
       "\t plane\\_euclidean\\_RegTree\\_d4 & 3 & 0.895454545 & 0.06703740\\\\\n",
       "\t plane\\_erp\\_RegTree\\_d3       & 1 & 0.892181818 & 0.08929948\\\\\n",
       "\t plane\\_erp\\_RegTree\\_d3       & 5 & 0.890181818 & 0.08024335\\\\\n",
       "\t plane\\_dtw\\_RegTree\\_d3       & 3 & 0.883090909 & 0.08678998\\\\\n",
       "\t plane\\_dtw\\_RegTree\\_d3       & 1 & 0.881090909 & 0.09742580\\\\\n",
       "\t plane\\_euclidean\\_RegTree\\_d4 & 5 & 0.878363636 & 0.07291002\\\\\n",
       "\t plane\\_euclidean\\_RegTree\\_d3 & 3 & 0.876363636 & 0.07856875\\\\\n",
       "\t plane\\_euclidean\\_RegTree\\_d3 & 5 & 0.867818182 & 0.09159684\\\\\n",
       "\t plane\\_dtw\\_RegTree\\_d3       & 5 & 0.860181818 & 0.09107388\\\\\n",
       "\t plane\\_lcss\\_RegTree\\_d3      & 1 & 0.011454545 & 0.03137432\\\\\n",
       "\t plane\\_lcss\\_RegTree\\_d3      & 3 & 0.007636364 & 0.02619130\\\\\n",
       "\t plane\\_lcss\\_RegTree\\_d3      & 5 & 0.007636364 & 0.02619130\\\\\n",
       "\t plane\\_lcss\\_sax\\_q6          & 1 & 0.003818182 & 0.01891740\\\\\n",
       "\t plane\\_lcss\\_sax\\_q12         & 1 & 0.003636364 & 0.01799533\\\\\n",
       "\t plane\\_lcss\\_sax\\_q6          & 3 & 0.001818182 & 0.01285649\\\\\n",
       "\t plane\\_lcss\\_sax\\_q12         & 5 & 0.001818182 & 0.01285649\\\\\n",
       "\t plane\\_lcss\\_raw             & 1 & 0.000000000 & 0.00000000\\\\\n",
       "\t plane\\_lcss\\_raw             & 3 & 0.000000000 & 0.00000000\\\\\n",
       "\t plane\\_lcss\\_raw             & 5 & 0.000000000 & 0.00000000\\\\\n",
       "\t plane\\_lcss\\_sax\\_q6          & 5 & 0.000000000 & 0.00000000\\\\\n",
       "\t plane\\_lcss\\_sax\\_q12         & 3 & 0.000000000 & 0.00000000\\\\\n",
       "\t plane\\_lcss\\_RegTree\\_d4      & 1 & 0.000000000 & 0.00000000\\\\\n",
       "\t plane\\_lcss\\_RegTree\\_d4      & 3 & 0.000000000 & 0.00000000\\\\\n",
       "\t plane\\_lcss\\_RegTree\\_d4      & 5 & 0.000000000 & 0.00000000\\\\\n",
       "\\end{tabular}\n"
      ],
      "text/markdown": [
       "\n",
       "A data.table: 60 × 4\n",
       "\n",
       "| approach &lt;chr&gt; | k &lt;dbl&gt; | Mean &lt;dbl&gt; | SD &lt;dbl&gt; |\n",
       "|---|---|---|---|\n",
       "| plane_dtw_raw              | 1 | 1.000000000 | 0.00000000 |\n",
       "| plane_dtw_raw              | 3 | 1.000000000 | 0.00000000 |\n",
       "| plane_dtw_raw              | 5 | 1.000000000 | 0.00000000 |\n",
       "| plane_erp_raw              | 5 | 1.000000000 | 0.00000000 |\n",
       "| plane_erp_raw              | 3 | 0.992545455 | 0.02556100 |\n",
       "| plane_erp_raw              | 1 | 0.990727273 | 0.02812461 |\n",
       "| plane_euclidean_raw        | 3 | 0.990545455 | 0.02868690 |\n",
       "| plane_dtw_sax_q6           | 3 | 0.985090909 | 0.03454448 |\n",
       "| plane_erp_sax_q6           | 1 | 0.980909091 | 0.03862408 |\n",
       "| plane_erp_sax_q6           | 5 | 0.979636364 | 0.04289884 |\n",
       "| plane_dtw_sax_q6           | 5 | 0.977818182 | 0.04393221 |\n",
       "| plane_euclidean_raw        | 5 | 0.975818182 | 0.05209751 |\n",
       "| plane_erp_sax_q6           | 3 | 0.972000000 | 0.05369906 |\n",
       "| plane_euclidean_raw        | 1 | 0.971454545 | 0.05119618 |\n",
       "| plane_dtw_sax_q6           | 1 | 0.962363636 | 0.05338942 |\n",
       "| plane_euclidean_sax_q6     | 1 | 0.962181818 | 0.06232034 |\n",
       "| plane_erp_sax_q12          | 5 | 0.955090909 | 0.05989280 |\n",
       "| plane_erp_sax_q12          | 1 | 0.953272727 | 0.06263484 |\n",
       "| plane_erp_sax_q12          | 3 | 0.953272727 | 0.06263484 |\n",
       "| plane_euclidean_sax_q12    | 1 | 0.953090909 | 0.06003204 |\n",
       "| plane_euclidean_sax_q6     | 3 | 0.950727273 | 0.06627424 |\n",
       "| plane_euclidean_sax_q12    | 3 | 0.949454545 | 0.06522429 |\n",
       "| plane_erp_RegTree_d4       | 3 | 0.947090909 | 0.06120976 |\n",
       "| plane_euclidean_sax_q6     | 5 | 0.943272727 | 0.07334064 |\n",
       "| plane_erp_RegTree_d4       | 5 | 0.943272727 | 0.06858717 |\n",
       "| plane_euclidean_RegTree_d4 | 1 | 0.939272727 | 0.06076035 |\n",
       "| plane_euclidean_sax_q12    | 5 | 0.934181818 | 0.07808554 |\n",
       "| plane_dtw_sax_q12          | 5 | 0.934181818 | 0.07763062 |\n",
       "| plane_dtw_sax_q12          | 1 | 0.930181818 | 0.08780297 |\n",
       "| plane_dtw_sax_q12          | 3 | 0.930181818 | 0.07930462 |\n",
       "| plane_erp_RegTree_d4       | 1 | 0.926000000 | 0.07195813 |\n",
       "| plane_dtw_RegTree_d4       | 1 | 0.924000000 | 0.07629823 |\n",
       "| plane_dtw_RegTree_d4       | 3 | 0.920363636 | 0.08367427 |\n",
       "| plane_dtw_RegTree_d4       | 5 | 0.920181818 | 0.08693134 |\n",
       "| plane_euclidean_RegTree_d3 | 1 | 0.907636364 | 0.08094483 |\n",
       "| plane_erp_RegTree_d3       | 3 | 0.902000000 | 0.08613220 |\n",
       "| plane_euclidean_RegTree_d4 | 3 | 0.895454545 | 0.06703740 |\n",
       "| plane_erp_RegTree_d3       | 1 | 0.892181818 | 0.08929948 |\n",
       "| plane_erp_RegTree_d3       | 5 | 0.890181818 | 0.08024335 |\n",
       "| plane_dtw_RegTree_d3       | 3 | 0.883090909 | 0.08678998 |\n",
       "| plane_dtw_RegTree_d3       | 1 | 0.881090909 | 0.09742580 |\n",
       "| plane_euclidean_RegTree_d4 | 5 | 0.878363636 | 0.07291002 |\n",
       "| plane_euclidean_RegTree_d3 | 3 | 0.876363636 | 0.07856875 |\n",
       "| plane_euclidean_RegTree_d3 | 5 | 0.867818182 | 0.09159684 |\n",
       "| plane_dtw_RegTree_d3       | 5 | 0.860181818 | 0.09107388 |\n",
       "| plane_lcss_RegTree_d3      | 1 | 0.011454545 | 0.03137432 |\n",
       "| plane_lcss_RegTree_d3      | 3 | 0.007636364 | 0.02619130 |\n",
       "| plane_lcss_RegTree_d3      | 5 | 0.007636364 | 0.02619130 |\n",
       "| plane_lcss_sax_q6          | 1 | 0.003818182 | 0.01891740 |\n",
       "| plane_lcss_sax_q12         | 1 | 0.003636364 | 0.01799533 |\n",
       "| plane_lcss_sax_q6          | 3 | 0.001818182 | 0.01285649 |\n",
       "| plane_lcss_sax_q12         | 5 | 0.001818182 | 0.01285649 |\n",
       "| plane_lcss_raw             | 1 | 0.000000000 | 0.00000000 |\n",
       "| plane_lcss_raw             | 3 | 0.000000000 | 0.00000000 |\n",
       "| plane_lcss_raw             | 5 | 0.000000000 | 0.00000000 |\n",
       "| plane_lcss_sax_q6          | 5 | 0.000000000 | 0.00000000 |\n",
       "| plane_lcss_sax_q12         | 3 | 0.000000000 | 0.00000000 |\n",
       "| plane_lcss_RegTree_d4      | 1 | 0.000000000 | 0.00000000 |\n",
       "| plane_lcss_RegTree_d4      | 3 | 0.000000000 | 0.00000000 |\n",
       "| plane_lcss_RegTree_d4      | 5 | 0.000000000 | 0.00000000 |\n",
       "\n"
      ],
      "text/plain": [
       "   approach                   k Mean        SD        \n",
       "1  plane_dtw_raw              1 1.000000000 0.00000000\n",
       "2  plane_dtw_raw              3 1.000000000 0.00000000\n",
       "3  plane_dtw_raw              5 1.000000000 0.00000000\n",
       "4  plane_erp_raw              5 1.000000000 0.00000000\n",
       "5  plane_erp_raw              3 0.992545455 0.02556100\n",
       "6  plane_erp_raw              1 0.990727273 0.02812461\n",
       "7  plane_euclidean_raw        3 0.990545455 0.02868690\n",
       "8  plane_dtw_sax_q6           3 0.985090909 0.03454448\n",
       "9  plane_erp_sax_q6           1 0.980909091 0.03862408\n",
       "10 plane_erp_sax_q6           5 0.979636364 0.04289884\n",
       "11 plane_dtw_sax_q6           5 0.977818182 0.04393221\n",
       "12 plane_euclidean_raw        5 0.975818182 0.05209751\n",
       "13 plane_erp_sax_q6           3 0.972000000 0.05369906\n",
       "14 plane_euclidean_raw        1 0.971454545 0.05119618\n",
       "15 plane_dtw_sax_q6           1 0.962363636 0.05338942\n",
       "16 plane_euclidean_sax_q6     1 0.962181818 0.06232034\n",
       "17 plane_erp_sax_q12          5 0.955090909 0.05989280\n",
       "18 plane_erp_sax_q12          1 0.953272727 0.06263484\n",
       "19 plane_erp_sax_q12          3 0.953272727 0.06263484\n",
       "20 plane_euclidean_sax_q12    1 0.953090909 0.06003204\n",
       "21 plane_euclidean_sax_q6     3 0.950727273 0.06627424\n",
       "22 plane_euclidean_sax_q12    3 0.949454545 0.06522429\n",
       "23 plane_erp_RegTree_d4       3 0.947090909 0.06120976\n",
       "24 plane_euclidean_sax_q6     5 0.943272727 0.07334064\n",
       "25 plane_erp_RegTree_d4       5 0.943272727 0.06858717\n",
       "26 plane_euclidean_RegTree_d4 1 0.939272727 0.06076035\n",
       "27 plane_euclidean_sax_q12    5 0.934181818 0.07808554\n",
       "28 plane_dtw_sax_q12          5 0.934181818 0.07763062\n",
       "29 plane_dtw_sax_q12          1 0.930181818 0.08780297\n",
       "30 plane_dtw_sax_q12          3 0.930181818 0.07930462\n",
       "31 plane_erp_RegTree_d4       1 0.926000000 0.07195813\n",
       "32 plane_dtw_RegTree_d4       1 0.924000000 0.07629823\n",
       "33 plane_dtw_RegTree_d4       3 0.920363636 0.08367427\n",
       "34 plane_dtw_RegTree_d4       5 0.920181818 0.08693134\n",
       "35 plane_euclidean_RegTree_d3 1 0.907636364 0.08094483\n",
       "36 plane_erp_RegTree_d3       3 0.902000000 0.08613220\n",
       "37 plane_euclidean_RegTree_d4 3 0.895454545 0.06703740\n",
       "38 plane_erp_RegTree_d3       1 0.892181818 0.08929948\n",
       "39 plane_erp_RegTree_d3       5 0.890181818 0.08024335\n",
       "40 plane_dtw_RegTree_d3       3 0.883090909 0.08678998\n",
       "41 plane_dtw_RegTree_d3       1 0.881090909 0.09742580\n",
       "42 plane_euclidean_RegTree_d4 5 0.878363636 0.07291002\n",
       "43 plane_euclidean_RegTree_d3 3 0.876363636 0.07856875\n",
       "44 plane_euclidean_RegTree_d3 5 0.867818182 0.09159684\n",
       "45 plane_dtw_RegTree_d3       5 0.860181818 0.09107388\n",
       "46 plane_lcss_RegTree_d3      1 0.011454545 0.03137432\n",
       "47 plane_lcss_RegTree_d3      3 0.007636364 0.02619130\n",
       "48 plane_lcss_RegTree_d3      5 0.007636364 0.02619130\n",
       "49 plane_lcss_sax_q6          1 0.003818182 0.01891740\n",
       "50 plane_lcss_sax_q12         1 0.003636364 0.01799533\n",
       "51 plane_lcss_sax_q6          3 0.001818182 0.01285649\n",
       "52 plane_lcss_sax_q12         5 0.001818182 0.01285649\n",
       "53 plane_lcss_raw             1 0.000000000 0.00000000\n",
       "54 plane_lcss_raw             3 0.000000000 0.00000000\n",
       "55 plane_lcss_raw             5 0.000000000 0.00000000\n",
       "56 plane_lcss_sax_q6          5 0.000000000 0.00000000\n",
       "57 plane_lcss_sax_q12         3 0.000000000 0.00000000\n",
       "58 plane_lcss_RegTree_d4      1 0.000000000 0.00000000\n",
       "59 plane_lcss_RegTree_d4      3 0.000000000 0.00000000\n",
       "60 plane_lcss_RegTree_d4      5 0.000000000 0.00000000"
      ]
     },
     "metadata": {},
     "output_type": "display_data"
    }
   ],
   "source": [
    "result_plane = CrossValidationTrain(dist,cv_indices, plane_class)\n",
    "\n",
    "result_plane = rbindlist(result_plane)\n",
    "\n",
    "results_summary <- result_plane[,.(Mean = mean(acc),SD = sd(acc)),.(approach,k)]\n",
    "results_summary[order(-Mean)]"
   ]
  },
  {
   "cell_type": "markdown",
   "id": "8756a144",
   "metadata": {},
   "source": [
    "## Testing"
   ]
  },
  {
   "cell_type": "code",
   "execution_count": 21,
   "id": "eed4556e",
   "metadata": {},
   "outputs": [],
   "source": [
    "test_data_path=sprintf('%s/%s/%s_TEST.txt',getwd(),dataset,dataset)\n",
    "\n",
    "plane_train = fread(train_data_path)\n",
    "plane_test = fread(test_data_path)\n",
    "\n",
    "plane_test <- setnames(plane_test, \"V1\", \"Class\")\n",
    "plane_train <- setnames(plane_train, \"V1\", \"Class\")\n",
    "\n",
    "plane_test <- data.table(plane_test)\n",
    "plane_train <- data.table(plane_train)\n",
    "\n",
    "plane_test[, \"ID\" := (1:.N)+105]\n",
    "plane_test[, \"Class\" := as.factor(Class)]\n",
    "plane_train[, \"ID\" := (1:.N)]\n",
    "plane_train[, \"Class\" := as.factor(Class)]\n",
    "\n",
    "plane_comb <- rbindlist(list(plane_train,plane_test),use.names = TRUE)\n",
    "\n",
    "setcolorder(plane_comb, c(\"ID\", \"Class\"))\n",
    "colnames(plane_comb) <- c(\"ID\", \"Class\",seq(1:144))\n",
    "plane_comb_matrix <- as.matrix(plane_comb[,c(-1,-2)])\n",
    "plane_comb_long <- melt(plane_comb,id.vars = c(\"ID\",\"Class\"))\n",
    "plane_comb_long[,variable := as.numeric(variable)]\n",
    "plane_comb_class <- plane_comb$Class\n",
    "\n",
    "test_index_final = seq(106,210)\n",
    "\n",
    "plane_comb_dtw_raw <- as.matrix(TSDatabaseDistances(X = plane_comb_matrix, distance = 'dtw'))\n",
    "\n",
    "overall_result <- nn_classify_cv(plane_comb_dtw_raw,plane_comb_class,test_index_final,k=1)"
   ]
  },
  {
   "cell_type": "code",
   "execution_count": 23,
   "id": "7aa35370",
   "metadata": {},
   "outputs": [
    {
     "data": {
      "text/html": [
       "1"
      ],
      "text/latex": [
       "1"
      ],
      "text/markdown": [
       "1"
      ],
      "text/plain": [
       "[1] 1"
      ]
     },
     "metadata": {},
     "output_type": "display_data"
    }
   ],
   "source": [
    "Test_Accuracy <- sum(plane_comb_class[test_index_final]==overall_result$prediction$predicted)/length(test_index_final)\n",
    "Test_Accuracy"
   ]
  },
  {
   "cell_type": "markdown",
   "id": "89c1271c",
   "metadata": {},
   "source": [
    "Finally, the best performing model is used to classify the test data and its test accuracy is 100%\n",
    "\n",
    "Summary of the best performing model is as follows:"
   ]
  },
  {
   "cell_type": "code",
   "execution_count": 24,
   "id": "3b1f3901",
   "metadata": {},
   "outputs": [
    {
     "data": {
      "text/html": [
       "<table class=\"dataframe\">\n",
       "<caption>A data.frame: 1 × 6</caption>\n",
       "<thead>\n",
       "\t<tr><th scope=col>Dataset</th><th scope=col>Cross_Validation_Mean_Accuracy</th><th scope=col>Test_Accuracy</th><th scope=col>Distance</th><th scope=col>Representation</th><th scope=col>K</th></tr>\n",
       "\t<tr><th scope=col>&lt;chr&gt;</th><th scope=col>&lt;dbl&gt;</th><th scope=col>&lt;dbl&gt;</th><th scope=col>&lt;chr&gt;</th><th scope=col>&lt;chr&gt;</th><th scope=col>&lt;chr&gt;</th></tr>\n",
       "</thead>\n",
       "<tbody>\n",
       "\t<tr><td>Plane</td><td>1</td><td>1</td><td>DTW</td><td>Raw</td><td>1</td></tr>\n",
       "</tbody>\n",
       "</table>\n"
      ],
      "text/latex": [
       "A data.frame: 1 × 6\n",
       "\\begin{tabular}{llllll}\n",
       " Dataset & Cross\\_Validation\\_Mean\\_Accuracy & Test\\_Accuracy & Distance & Representation & K\\\\\n",
       " <chr> & <dbl> & <dbl> & <chr> & <chr> & <chr>\\\\\n",
       "\\hline\n",
       "\t Plane & 1 & 1 & DTW & Raw & 1\\\\\n",
       "\\end{tabular}\n"
      ],
      "text/markdown": [
       "\n",
       "A data.frame: 1 × 6\n",
       "\n",
       "| Dataset &lt;chr&gt; | Cross_Validation_Mean_Accuracy &lt;dbl&gt; | Test_Accuracy &lt;dbl&gt; | Distance &lt;chr&gt; | Representation &lt;chr&gt; | K &lt;chr&gt; |\n",
       "|---|---|---|---|---|---|\n",
       "| Plane | 1 | 1 | DTW | Raw | 1 |\n",
       "\n"
      ],
      "text/plain": [
       "  Dataset Cross_Validation_Mean_Accuracy Test_Accuracy Distance Representation\n",
       "1 Plane   1                              1             DTW      Raw           \n",
       "  K\n",
       "1 1"
      ]
     },
     "metadata": {},
     "output_type": "display_data"
    }
   ],
   "source": [
    "Dataset <- \"Plane\"\n",
    "Cross_Validation_Mean_Accuracy <- max(results_summary$Mean)\n",
    "Distance = 'DTW'\n",
    "Representation = 'Raw'\n",
    "K = '1'\n",
    "df <- data.frame(Dataset,Cross_Validation_Mean_Accuracy,Test_Accuracy,Distance,Representation,K)\n",
    "df"
   ]
  }
 ],
 "metadata": {
  "kernelspec": {
   "display_name": "R",
   "language": "R",
   "name": "ir"
  },
  "language_info": {
   "codemirror_mode": "r",
   "file_extension": ".r",
   "mimetype": "text/x-r-source",
   "name": "R",
   "pygments_lexer": "r",
   "version": "4.1.2"
  }
 },
 "nbformat": 4,
 "nbformat_minor": 5
}
