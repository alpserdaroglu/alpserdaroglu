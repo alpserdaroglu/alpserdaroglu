{
 "cells": [
  {
   "cell_type": "markdown",
   "id": "315edc2d",
   "metadata": {},
   "source": [
    "# Assignment 3\n",
    "\n",
    "In this analysis five different datasets are selected from http://www.timeseriesclassification.com/. Several models are trained for each dataset. Two different representations each with two different parameter sets are used to build the model. Then, distances between the time series are calculated using 4 different distance measures. In the classification step, 3 different k values are used in the K-NN algorithm. Accuracy of each model is calculated to determine the best performing model. Finally, the best performing model is tested on a seperate test set."
   ]
  },
  {
   "cell_type": "code",
   "execution_count": null,
   "id": "6c7b6082",
   "metadata": {
    "scrolled": true
   },
   "outputs": [],
   "source": [
    "library(data.table)\n",
    "library(ggplot2)\n",
    "library(TSrepr)\n",
    "library(caret)\n",
    "library(TSdist)\n",
    "library(dtw)\n",
    "library(zoo)\n",
    "library(rpart)\n",
    "library(rattle)\n",
    "require(TunePareto)\n",
    "\n",
    "setwd(\"C:/Users/alpsr/Desktop/Assignment 3\")"
   ]
  },
  {
   "cell_type": "markdown",
   "id": "724534f1",
   "metadata": {},
   "source": [
    "## Dataset 3: ECG200\n",
    "\n",
    "In this notebook, Plane dataset is evaluated. This dataset contains 105 training time series and 105 test time series. There are 7 different classes. First six time series in the training dataset are as follows."
   ]
  },
  {
   "cell_type": "code",
   "execution_count": 2,
   "id": "5edfa319",
   "metadata": {},
   "outputs": [],
   "source": [
    "dataset = 'ECG200'\n",
    "train_data_path=sprintf('%s/%s/%s_TRAIN.txt',getwd(),dataset,dataset)"
   ]
  },
  {
   "cell_type": "code",
   "execution_count": 3,
   "id": "837a0d9b",
   "metadata": {
    "scrolled": true
   },
   "outputs": [
    {
     "data": {
      "text/html": [
       "<table class=\"dataframe\">\n",
       "<caption>A data.table: 6 × 98</caption>\n",
       "<thead>\n",
       "\t<tr><th scope=col>ID</th><th scope=col>Class</th><th scope=col>1</th><th scope=col>2</th><th scope=col>3</th><th scope=col>4</th><th scope=col>5</th><th scope=col>6</th><th scope=col>7</th><th scope=col>8</th><th scope=col>...</th><th scope=col>87</th><th scope=col>88</th><th scope=col>89</th><th scope=col>90</th><th scope=col>91</th><th scope=col>92</th><th scope=col>93</th><th scope=col>94</th><th scope=col>95</th><th scope=col>96</th></tr>\n",
       "\t<tr><th scope=col>&lt;int&gt;</th><th scope=col>&lt;fct&gt;</th><th scope=col>&lt;dbl&gt;</th><th scope=col>&lt;dbl&gt;</th><th scope=col>&lt;dbl&gt;</th><th scope=col>&lt;dbl&gt;</th><th scope=col>&lt;dbl&gt;</th><th scope=col>&lt;dbl&gt;</th><th scope=col>&lt;dbl&gt;</th><th scope=col>&lt;dbl&gt;</th><th scope=col>...</th><th scope=col>&lt;dbl&gt;</th><th scope=col>&lt;dbl&gt;</th><th scope=col>&lt;dbl&gt;</th><th scope=col>&lt;dbl&gt;</th><th scope=col>&lt;dbl&gt;</th><th scope=col>&lt;dbl&gt;</th><th scope=col>&lt;dbl&gt;</th><th scope=col>&lt;dbl&gt;</th><th scope=col>&lt;dbl&gt;</th><th scope=col>&lt;dbl&gt;</th></tr>\n",
       "</thead>\n",
       "<tbody>\n",
       "\t<tr><td>1</td><td>-1</td><td>0.5020555</td><td>0.5421626</td><td>0.7223835</td><td>1.4288852</td><td>2.13651580</td><td> 2.2811490</td><td> 1.93627370</td><td> 1.4688900</td><td>...</td><td> 0.93104294</td><td> 0.6102984</td><td> 0.6388943</td><td> 0.68467857</td><td> 0.58323764</td><td> 0.6405217</td><td> 0.70858515</td><td> 0.70501088</td><td> 0.7138155</td><td> 0.4337646</td></tr>\n",
       "\t<tr><td>2</td><td>1 </td><td>0.1476469</td><td>0.8046684</td><td>0.3677715</td><td>0.2438937</td><td>0.02661388</td><td>-0.2744021</td><td> 0.09673058</td><td>-0.7477306</td><td>...</td><td>-0.53350348</td><td>-0.4002281</td><td> 0.1760841</td><td> 1.11176800</td><td> 2.43842820</td><td> 2.7348886</td><td> 1.73605440</td><td> 0.03685655</td><td>-1.2650744</td><td>-0.2080244</td></tr>\n",
       "\t<tr><td>3</td><td>-1</td><td>0.3166462</td><td>0.2431991</td><td>0.3704714</td><td>1.0637381</td><td>1.67818710</td><td> 1.7595575</td><td> 1.69771720</td><td> 1.6121590</td><td>...</td><td> 0.76422904</td><td> 0.6106215</td><td> 0.5529003</td><td> 0.56678608</td><td> 0.60400236</td><td> 0.7770678</td><td> 0.81234542</td><td> 0.74884814</td><td> 0.8180420</td><td> 0.5393470</td></tr>\n",
       "\t<tr><td>4</td><td>-1</td><td>1.1688741</td><td>2.0759008</td><td>1.7601405</td><td>1.6064459</td><td>1.94904560</td><td> 1.3028421</td><td> 0.45933154</td><td> 0.5164121</td><td>...</td><td> 0.41900645</td><td> 0.7238876</td><td> 1.3239469</td><td> 2.13648760</td><td> 1.74659650</td><td> 1.4702205</td><td> 1.89351230</td><td> 1.25694930</td><td> 0.8004066</td><td> 0.7315398</td></tr>\n",
       "\t<tr><td>5</td><td>1 </td><td>0.6486575</td><td>0.7520260</td><td>2.6362312</td><td>3.4557156</td><td>2.11815740</td><td> 0.5206202</td><td>-0.18862656</td><td> 0.7808184</td><td>...</td><td>-0.09786878</td><td>-0.1367870</td><td>-0.3402367</td><td>-0.08944143</td><td>-0.08029728</td><td>-0.1925844</td><td>-0.30470444</td><td>-0.45455625</td><td> 0.3145900</td><td> 0.5821895</td></tr>\n",
       "\t<tr><td>6</td><td>1 </td><td>0.4047327</td><td>1.2808587</td><td>2.5151479</td><td>1.2995187</td><td>1.45343230</td><td> 0.4742751</td><td>-1.39656190</td><td>-0.6470808</td><td>...</td><td> 0.37646912</td><td> 0.2778111</td><td> 0.2256758</td><td> 0.15909081</td><td> 0.40835397</td><td> 0.5400152</td><td>-0.02779116</td><td> 0.20347623</td><td> 0.3469639</td><td> 0.3391847</td></tr>\n",
       "</tbody>\n",
       "</table>\n"
      ],
      "text/latex": [
       "A data.table: 6 × 98\n",
       "\\begin{tabular}{lllllllllllllllllllll}\n",
       " ID & Class & 1 & 2 & 3 & 4 & 5 & 6 & 7 & 8 & ... & 87 & 88 & 89 & 90 & 91 & 92 & 93 & 94 & 95 & 96\\\\\n",
       " <int> & <fct> & <dbl> & <dbl> & <dbl> & <dbl> & <dbl> & <dbl> & <dbl> & <dbl> & ... & <dbl> & <dbl> & <dbl> & <dbl> & <dbl> & <dbl> & <dbl> & <dbl> & <dbl> & <dbl>\\\\\n",
       "\\hline\n",
       "\t 1 & -1 & 0.5020555 & 0.5421626 & 0.7223835 & 1.4288852 & 2.13651580 &  2.2811490 &  1.93627370 &  1.4688900 & ... &  0.93104294 &  0.6102984 &  0.6388943 &  0.68467857 &  0.58323764 &  0.6405217 &  0.70858515 &  0.70501088 &  0.7138155 &  0.4337646\\\\\n",
       "\t 2 & 1  & 0.1476469 & 0.8046684 & 0.3677715 & 0.2438937 & 0.02661388 & -0.2744021 &  0.09673058 & -0.7477306 & ... & -0.53350348 & -0.4002281 &  0.1760841 &  1.11176800 &  2.43842820 &  2.7348886 &  1.73605440 &  0.03685655 & -1.2650744 & -0.2080244\\\\\n",
       "\t 3 & -1 & 0.3166462 & 0.2431991 & 0.3704714 & 1.0637381 & 1.67818710 &  1.7595575 &  1.69771720 &  1.6121590 & ... &  0.76422904 &  0.6106215 &  0.5529003 &  0.56678608 &  0.60400236 &  0.7770678 &  0.81234542 &  0.74884814 &  0.8180420 &  0.5393470\\\\\n",
       "\t 4 & -1 & 1.1688741 & 2.0759008 & 1.7601405 & 1.6064459 & 1.94904560 &  1.3028421 &  0.45933154 &  0.5164121 & ... &  0.41900645 &  0.7238876 &  1.3239469 &  2.13648760 &  1.74659650 &  1.4702205 &  1.89351230 &  1.25694930 &  0.8004066 &  0.7315398\\\\\n",
       "\t 5 & 1  & 0.6486575 & 0.7520260 & 2.6362312 & 3.4557156 & 2.11815740 &  0.5206202 & -0.18862656 &  0.7808184 & ... & -0.09786878 & -0.1367870 & -0.3402367 & -0.08944143 & -0.08029728 & -0.1925844 & -0.30470444 & -0.45455625 &  0.3145900 &  0.5821895\\\\\n",
       "\t 6 & 1  & 0.4047327 & 1.2808587 & 2.5151479 & 1.2995187 & 1.45343230 &  0.4742751 & -1.39656190 & -0.6470808 & ... &  0.37646912 &  0.2778111 &  0.2256758 &  0.15909081 &  0.40835397 &  0.5400152 & -0.02779116 &  0.20347623 &  0.3469639 &  0.3391847\\\\\n",
       "\\end{tabular}\n"
      ],
      "text/markdown": [
       "\n",
       "A data.table: 6 × 98\n",
       "\n",
       "| ID &lt;int&gt; | Class &lt;fct&gt; | 1 &lt;dbl&gt; | 2 &lt;dbl&gt; | 3 &lt;dbl&gt; | 4 &lt;dbl&gt; | 5 &lt;dbl&gt; | 6 &lt;dbl&gt; | 7 &lt;dbl&gt; | 8 &lt;dbl&gt; | ... ... | 87 &lt;dbl&gt; | 88 &lt;dbl&gt; | 89 &lt;dbl&gt; | 90 &lt;dbl&gt; | 91 &lt;dbl&gt; | 92 &lt;dbl&gt; | 93 &lt;dbl&gt; | 94 &lt;dbl&gt; | 95 &lt;dbl&gt; | 96 &lt;dbl&gt; |\n",
       "|---|---|---|---|---|---|---|---|---|---|---|---|---|---|---|---|---|---|---|---|---|\n",
       "| 1 | -1 | 0.5020555 | 0.5421626 | 0.7223835 | 1.4288852 | 2.13651580 |  2.2811490 |  1.93627370 |  1.4688900 | ... |  0.93104294 |  0.6102984 |  0.6388943 |  0.68467857 |  0.58323764 |  0.6405217 |  0.70858515 |  0.70501088 |  0.7138155 |  0.4337646 |\n",
       "| 2 | 1  | 0.1476469 | 0.8046684 | 0.3677715 | 0.2438937 | 0.02661388 | -0.2744021 |  0.09673058 | -0.7477306 | ... | -0.53350348 | -0.4002281 |  0.1760841 |  1.11176800 |  2.43842820 |  2.7348886 |  1.73605440 |  0.03685655 | -1.2650744 | -0.2080244 |\n",
       "| 3 | -1 | 0.3166462 | 0.2431991 | 0.3704714 | 1.0637381 | 1.67818710 |  1.7595575 |  1.69771720 |  1.6121590 | ... |  0.76422904 |  0.6106215 |  0.5529003 |  0.56678608 |  0.60400236 |  0.7770678 |  0.81234542 |  0.74884814 |  0.8180420 |  0.5393470 |\n",
       "| 4 | -1 | 1.1688741 | 2.0759008 | 1.7601405 | 1.6064459 | 1.94904560 |  1.3028421 |  0.45933154 |  0.5164121 | ... |  0.41900645 |  0.7238876 |  1.3239469 |  2.13648760 |  1.74659650 |  1.4702205 |  1.89351230 |  1.25694930 |  0.8004066 |  0.7315398 |\n",
       "| 5 | 1  | 0.6486575 | 0.7520260 | 2.6362312 | 3.4557156 | 2.11815740 |  0.5206202 | -0.18862656 |  0.7808184 | ... | -0.09786878 | -0.1367870 | -0.3402367 | -0.08944143 | -0.08029728 | -0.1925844 | -0.30470444 | -0.45455625 |  0.3145900 |  0.5821895 |\n",
       "| 6 | 1  | 0.4047327 | 1.2808587 | 2.5151479 | 1.2995187 | 1.45343230 |  0.4742751 | -1.39656190 | -0.6470808 | ... |  0.37646912 |  0.2778111 |  0.2256758 |  0.15909081 |  0.40835397 |  0.5400152 | -0.02779116 |  0.20347623 |  0.3469639 |  0.3391847 |\n",
       "\n"
      ],
      "text/plain": [
       "  ID Class 1         2         3         4         5          6         \n",
       "1 1  -1    0.5020555 0.5421626 0.7223835 1.4288852 2.13651580  2.2811490\n",
       "2 2  1     0.1476469 0.8046684 0.3677715 0.2438937 0.02661388 -0.2744021\n",
       "3 3  -1    0.3166462 0.2431991 0.3704714 1.0637381 1.67818710  1.7595575\n",
       "4 4  -1    1.1688741 2.0759008 1.7601405 1.6064459 1.94904560  1.3028421\n",
       "5 5  1     0.6486575 0.7520260 2.6362312 3.4557156 2.11815740  0.5206202\n",
       "6 6  1     0.4047327 1.2808587 2.5151479 1.2995187 1.45343230  0.4742751\n",
       "  7           8          ... 87          88         89         90         \n",
       "1  1.93627370  1.4688900 ...  0.93104294  0.6102984  0.6388943  0.68467857\n",
       "2  0.09673058 -0.7477306 ... -0.53350348 -0.4002281  0.1760841  1.11176800\n",
       "3  1.69771720  1.6121590 ...  0.76422904  0.6106215  0.5529003  0.56678608\n",
       "4  0.45933154  0.5164121 ...  0.41900645  0.7238876  1.3239469  2.13648760\n",
       "5 -0.18862656  0.7808184 ... -0.09786878 -0.1367870 -0.3402367 -0.08944143\n",
       "6 -1.39656190 -0.6470808 ...  0.37646912  0.2778111  0.2256758  0.15909081\n",
       "  91          92         93          94          95         96        \n",
       "1  0.58323764  0.6405217  0.70858515  0.70501088  0.7138155  0.4337646\n",
       "2  2.43842820  2.7348886  1.73605440  0.03685655 -1.2650744 -0.2080244\n",
       "3  0.60400236  0.7770678  0.81234542  0.74884814  0.8180420  0.5393470\n",
       "4  1.74659650  1.4702205  1.89351230  1.25694930  0.8004066  0.7315398\n",
       "5 -0.08029728 -0.1925844 -0.30470444 -0.45455625  0.3145900  0.5821895\n",
       "6  0.40835397  0.5400152 -0.02779116  0.20347623  0.3469639  0.3391847"
      ]
     },
     "metadata": {},
     "output_type": "display_data"
    }
   ],
   "source": [
    "ecg = fread(train_data_path)\n",
    "ecg <- setnames(ecg, \"V1\", \"Class\")\n",
    "ecg <- data.table(ecg)\n",
    "ecg[, \"ID\" := 1:.N]\n",
    "ecg[, \"Class\" := as.factor(Class)]\n",
    "setcolorder(ecg, c(\"ID\", \"Class\"))\n",
    "colnames(ecg) <- c(\"ID\", \"Class\",seq(1:96))\n",
    "ecg_matrix <- as.matrix(ecg[,c(-1,-2)])\n",
    "ecg_long <- melt(ecg,id.vars = c(\"ID\",\"Class\"))\n",
    "ecg_long[,variable := as.numeric(variable)]\n",
    "ecg_class <- ecg$Class\n",
    "head(ecg)"
   ]
  },
  {
   "cell_type": "markdown",
   "id": "95409921",
   "metadata": {},
   "source": [
    "## Classes\n",
    "\n",
    "Two classes from the dataset are as follows."
   ]
  },
  {
   "cell_type": "code",
   "execution_count": 4,
   "id": "34bf2ad5",
   "metadata": {},
   "outputs": [
    {
     "data": {
      "image/png": "[encoded data removed]",
      "text/plain": [
       "plot without title"
      ]
     },
     "metadata": {
      "image/png": {
       "height": 420,
       "width": 420
      }
     },
     "output_type": "display_data"
    }
   ],
   "source": [
    "ecg_class_1 <- melt(ecg[,head(.SD, 1), Class],id.vars = c(\"ID\",\"Class\"))\n",
    "\n",
    "ggplot(ecg_class_1, aes(x = variable, y = value, group = Class)) +\n",
    "geom_line(aes(color = Class))"
   ]
  },
  {
   "cell_type": "code",
   "execution_count": 5,
   "id": "d09d5477",
   "metadata": {},
   "outputs": [
    {
     "data": {
      "image/png": "[encoded data removed]",
      "text/plain": [
       "plot without title"
      ]
     },
     "metadata": {
      "image/png": {
       "height": 420,
       "width": 420
      }
     },
     "output_type": "display_data"
    },
    {
     "data": {
      "image/png": "[encoded data removed]",
      "text/plain": [
       "plot without title"
      ]
     },
     "metadata": {
      "image/png": {
       "height": 420,
       "width": 420
      }
     },
     "output_type": "display_data"
    }
   ],
   "source": [
    "ggplot(ecg_long[Class == 1,], aes(x = variable, y = value, color = as.factor(ID))) +\n",
    "geom_line()\n",
    "\n",
    "ggplot(ecg_long[Class == -1,], aes(x = variable, y = value, color = as.factor(ID))) +\n",
    "geom_line()"
   ]
  },
  {
   "cell_type": "markdown",
   "id": "c10bfad9",
   "metadata": {},
   "source": [
    "## Representations\n",
    "\n",
    "Two different representations are used in this analysis. First one is SAX (symbolic aggregate approximation) and second is the APCA (Adaptive Piecewise Constant Approximation) using regression trees.\n",
    "\n",
    "### Symbolic Aggregate Approximation"
   ]
  },
  {
   "cell_type": "code",
   "execution_count": 6,
   "id": "d6e2d9d4",
   "metadata": {},
   "outputs": [],
   "source": [
    "ecg_sax_q12 <- repr_matrix(ecg_matrix,repr_sax,args = list(q = 12, a = 5))\n",
    "ecg_sax_q6 <- repr_matrix(ecg_matrix,repr_sax,args = list(q = 6, a = 5))\n",
    "\n",
    "index1 = seq(1,95, by = 12)\n",
    "for(i in seq(1,100)){\n",
    "    ecg_long[(variable %in% index1) & (ID == i), SAX_q12 := ecg_sax_q12[i,]]\n",
    "    ecg_long[ID == i, SAX_q12_fit := ecg_long[ID == i, na.locf(SAX_q12)]]\n",
    "}\n",
    "\n",
    "index2 = seq(1,95, by = 6)\n",
    "for(i in seq(1,100)){\n",
    "    ecg_long[(variable %in% index2) & (ID == i), SAX_q6 := ecg_sax_q6[i,]]\n",
    "    ecg_long[ID == i, SAX_q6_fit := ecg_long[ID == i, na.locf(SAX_q6)]]\n",
    "}\n",
    "\n",
    "ecg_long[, SAX_q12_fit_value := mean(value), by = .(SAX_q12_fit,ID)]\n",
    "ecg_long[, SAX_q6_fit_value := mean(value), by = .(SAX_q6_fit,ID)]"
   ]
  },
  {
   "cell_type": "markdown",
   "id": "11fcaa55",
   "metadata": {},
   "source": [
    "### Regression Trees"
   ]
  },
  {
   "cell_type": "code",
   "execution_count": 7,
   "id": "aac9ab55",
   "metadata": {},
   "outputs": [
    {
     "data": {
      "text/html": [
       "<table class=\"dataframe\">\n",
       "<caption>A data.table: 6 × 12</caption>\n",
       "<thead>\n",
       "\t<tr><th scope=col>ID</th><th scope=col>Class</th><th scope=col>variable</th><th scope=col>value</th><th scope=col>SAX_q12</th><th scope=col>SAX_q12_fit</th><th scope=col>SAX_q6</th><th scope=col>SAX_q6_fit</th><th scope=col>SAX_q12_fit_value</th><th scope=col>SAX_q6_fit_value</th><th scope=col>Tree_fit_d3</th><th scope=col>Tree_fit_d4</th></tr>\n",
       "\t<tr><th scope=col>&lt;int&gt;</th><th scope=col>&lt;fct&gt;</th><th scope=col>&lt;dbl&gt;</th><th scope=col>&lt;dbl&gt;</th><th scope=col>&lt;chr&gt;</th><th scope=col>&lt;chr&gt;</th><th scope=col>&lt;chr&gt;</th><th scope=col>&lt;chr&gt;</th><th scope=col>&lt;dbl&gt;</th><th scope=col>&lt;dbl&gt;</th><th scope=col>&lt;dbl&gt;</th><th scope=col>&lt;dbl&gt;</th></tr>\n",
       "</thead>\n",
       "<tbody>\n",
       "\t<tr><td>1</td><td>-1</td><td>1</td><td>0.5020555</td><td>e</td><td>e</td><td>e</td><td>e</td><td> 0.9663945</td><td>1.26885860</td><td> 1.2407443</td><td> 1.2407443</td></tr>\n",
       "\t<tr><td>2</td><td>1 </td><td>1</td><td>0.1476469</td><td>b</td><td>b</td><td>c</td><td>c</td><td>-0.4104650</td><td>0.03658984</td><td>-0.2124178</td><td>-0.2124178</td></tr>\n",
       "\t<tr><td>3</td><td>-1</td><td>1</td><td>0.3166462</td><td>e</td><td>e</td><td>e</td><td>e</td><td> 0.8460116</td><td>0.90529990</td><td> 0.7116314</td><td> 0.7116314</td></tr>\n",
       "\t<tr><td>4</td><td>-1</td><td>1</td><td>1.1688741</td><td>e</td><td>e</td><td>e</td><td>e</td><td> 1.1237407</td><td>1.48020617</td><td> 1.1195829</td><td> 1.1195829</td></tr>\n",
       "\t<tr><td>5</td><td>1 </td><td>1</td><td>0.6486575</td><td>e</td><td>e</td><td>e</td><td>e</td><td> 1.1467244</td><td>1.34300090</td><td> 1.1467244</td><td> 1.1467244</td></tr>\n",
       "\t<tr><td>6</td><td>1 </td><td>1</td><td>0.4047327</td><td>d</td><td>d</td><td>e</td><td>e</td><td> 0.4907039</td><td>1.06221561</td><td> 0.4347167</td><td> 0.4347167</td></tr>\n",
       "</tbody>\n",
       "</table>\n"
      ],
      "text/latex": [
       "A data.table: 6 × 12\n",
       "\\begin{tabular}{llllllllllll}\n",
       " ID & Class & variable & value & SAX\\_q12 & SAX\\_q12\\_fit & SAX\\_q6 & SAX\\_q6\\_fit & SAX\\_q12\\_fit\\_value & SAX\\_q6\\_fit\\_value & Tree\\_fit\\_d3 & Tree\\_fit\\_d4\\\\\n",
       " <int> & <fct> & <dbl> & <dbl> & <chr> & <chr> & <chr> & <chr> & <dbl> & <dbl> & <dbl> & <dbl>\\\\\n",
       "\\hline\n",
       "\t 1 & -1 & 1 & 0.5020555 & e & e & e & e &  0.9663945 & 1.26885860 &  1.2407443 &  1.2407443\\\\\n",
       "\t 2 & 1  & 1 & 0.1476469 & b & b & c & c & -0.4104650 & 0.03658984 & -0.2124178 & -0.2124178\\\\\n",
       "\t 3 & -1 & 1 & 0.3166462 & e & e & e & e &  0.8460116 & 0.90529990 &  0.7116314 &  0.7116314\\\\\n",
       "\t 4 & -1 & 1 & 1.1688741 & e & e & e & e &  1.1237407 & 1.48020617 &  1.1195829 &  1.1195829\\\\\n",
       "\t 5 & 1  & 1 & 0.6486575 & e & e & e & e &  1.1467244 & 1.34300090 &  1.1467244 &  1.1467244\\\\\n",
       "\t 6 & 1  & 1 & 0.4047327 & d & d & e & e &  0.4907039 & 1.06221561 &  0.4347167 &  0.4347167\\\\\n",
       "\\end{tabular}\n"
      ],
      "text/markdown": [
       "\n",
       "A data.table: 6 × 12\n",
       "\n",
       "| ID &lt;int&gt; | Class &lt;fct&gt; | variable &lt;dbl&gt; | value &lt;dbl&gt; | SAX_q12 &lt;chr&gt; | SAX_q12_fit &lt;chr&gt; | SAX_q6 &lt;chr&gt; | SAX_q6_fit &lt;chr&gt; | SAX_q12_fit_value &lt;dbl&gt; | SAX_q6_fit_value &lt;dbl&gt; | Tree_fit_d3 &lt;dbl&gt; | Tree_fit_d4 &lt;dbl&gt; |\n",
       "|---|---|---|---|---|---|---|---|---|---|---|---|\n",
       "| 1 | -1 | 1 | 0.5020555 | e | e | e | e |  0.9663945 | 1.26885860 |  1.2407443 |  1.2407443 |\n",
       "| 2 | 1  | 1 | 0.1476469 | b | b | c | c | -0.4104650 | 0.03658984 | -0.2124178 | -0.2124178 |\n",
       "| 3 | -1 | 1 | 0.3166462 | e | e | e | e |  0.8460116 | 0.90529990 |  0.7116314 |  0.7116314 |\n",
       "| 4 | -1 | 1 | 1.1688741 | e | e | e | e |  1.1237407 | 1.48020617 |  1.1195829 |  1.1195829 |\n",
       "| 5 | 1  | 1 | 0.6486575 | e | e | e | e |  1.1467244 | 1.34300090 |  1.1467244 |  1.1467244 |\n",
       "| 6 | 1  | 1 | 0.4047327 | d | d | e | e |  0.4907039 | 1.06221561 |  0.4347167 |  0.4347167 |\n",
       "\n"
      ],
      "text/plain": [
       "  ID Class variable value     SAX_q12 SAX_q12_fit SAX_q6 SAX_q6_fit\n",
       "1 1  -1    1        0.5020555 e       e           e      e         \n",
       "2 2  1     1        0.1476469 b       b           c      c         \n",
       "3 3  -1    1        0.3166462 e       e           e      e         \n",
       "4 4  -1    1        1.1688741 e       e           e      e         \n",
       "5 5  1     1        0.6486575 e       e           e      e         \n",
       "6 6  1     1        0.4047327 d       d           e      e         \n",
       "  SAX_q12_fit_value SAX_q6_fit_value Tree_fit_d3 Tree_fit_d4\n",
       "1  0.9663945        1.26885860        1.2407443   1.2407443 \n",
       "2 -0.4104650        0.03658984       -0.2124178  -0.2124178 \n",
       "3  0.8460116        0.90529990        0.7116314   0.7116314 \n",
       "4  1.1237407        1.48020617        1.1195829   1.1195829 \n",
       "5  1.1467244        1.34300090        1.1467244   1.1467244 \n",
       "6  0.4907039        1.06221561        0.4347167   0.4347167 "
      ]
     },
     "metadata": {},
     "output_type": "display_data"
    }
   ],
   "source": [
    "for(i in seq(1,100)){\n",
    "    selected_series <- ecg_long[ID == i]\n",
    "    tree_fit=rpart(value~variable,selected_series,control=rpart.control(maxdepth=3, cp = 0, minsplit = 20, minbucket = 10))\n",
    "    #fancyRpartPlot(tree_fit)\n",
    "    ecg_long[ID == i, Tree_fit_d3 := predict(tree_fit, selected_series)]\n",
    "}\n",
    "\n",
    "for(j in seq(1,100)){\n",
    "    selected_series <- ecg_long[ID == j]\n",
    "    tree_fit=rpart(value~variable,selected_series,control=rpart.control(maxdepth=4, cp = 0, minsplit = 20, minbucket = 10))\n",
    "    #fancyRpartPlot(tree_fit)\n",
    "    ecg_long[ID == j, Tree_fit_d4 := predict(tree_fit, selected_series)]\n",
    "}\n",
    "\n",
    "head(ecg_long)"
   ]
  },
  {
   "cell_type": "markdown",
   "id": "d4cacd08",
   "metadata": {},
   "source": [
    "## Distance Measures\n",
    "\n",
    "Three different distances measures are used. First one is the Euclidean Distance. Remaining ones are Dynamic Time Warping (DTW), Longest Common Subsequence (LCSS) and Edit Distance with Real Penalties (ERP).\n",
    "\n",
    "### Euclidean Distance"
   ]
  },
  {
   "cell_type": "code",
   "execution_count": 8,
   "id": "b87dab96",
   "metadata": {},
   "outputs": [],
   "source": [
    "#ecg_matrix <- as.matrix(ecg[,c(-1,-2)]) #ncol = 144, nrow = 100, byrow = TRUE )\n",
    "ecg_euclidean_raw <- as.matrix(dist(ecg_matrix))\n",
    "\n",
    "ecg_SAX_q12_matrix <- dcast(ecg_long, ID + Class ~ variable, value.var = \"SAX_q12_fit_value\")\n",
    "ecg_SAX_q6_matrix <- dcast(ecg_long, ID + Class ~ variable, value.var = \"SAX_q6_fit_value\")\n",
    "ecg_RegTree_d3_matrix <- dcast(ecg_long, ID + Class ~ variable, value.var = \"Tree_fit_d3\")\n",
    "ecg_RegTree_d4_matrix <- dcast(ecg_long, ID + Class ~ variable, value.var = \"Tree_fit_d4\")\n",
    "\n",
    "ecg_euclidean_sax_q12 <- as.matrix(dist(as.matrix(ecg_SAX_q12_matrix[,c(-1,-2)])))\n",
    "ecg_euclidean_sax_q6 <- as.matrix(dist(as.matrix(ecg_SAX_q6_matrix[,c(-1,-2)])))\n",
    "ecg_euclidean_RegTree_d3 <- as.matrix(dist(as.matrix(ecg_RegTree_d3_matrix[,c(-1,-2)])))\n",
    "ecg_euclidean_RegTree_d4 <- as.matrix(dist(as.matrix(ecg_RegTree_d4_matrix[,c(-1,-2)])))"
   ]
  },
  {
   "cell_type": "markdown",
   "id": "4798a3be",
   "metadata": {},
   "source": [
    "### Dynamic Time Warping"
   ]
  },
  {
   "cell_type": "code",
   "execution_count": 9,
   "id": "63802f2e",
   "metadata": {
    "scrolled": true
   },
   "outputs": [],
   "source": [
    "ecg_dtw_sax_q12 <- as.matrix(TSDatabaseDistances(X = ecg_SAX_q12_matrix[,c(-1,-2)], distance = 'dtw'))\n",
    "ecg_dtw_sax_q6 <- as.matrix(TSDatabaseDistances(X = ecg_SAX_q6_matrix[,c(-1,-2)], distance = 'dtw'))\n",
    "ecg_dtw_RegTree_d3 <- as.matrix(TSDatabaseDistances(X = ecg_RegTree_d3_matrix[,c(-1,-2)], distance = 'dtw'))\n",
    "ecg_dtw_RegTree_d4 <- as.matrix(TSDatabaseDistances(X = ecg_RegTree_d4_matrix[,c(-1,-2)], distance = 'dtw'))\n",
    "ecg_dtw_raw <- as.matrix(TSDatabaseDistances(X = ecg_matrix, distance = 'dtw'))"
   ]
  },
  {
   "cell_type": "markdown",
   "id": "d389cc18",
   "metadata": {},
   "source": [
    "### LCSS"
   ]
  },
  {
   "cell_type": "code",
   "execution_count": 10,
   "id": "f82b0410",
   "metadata": {},
   "outputs": [],
   "source": [
    "ecg_lcss_raw <- as.matrix(TSDatabaseDistances(X = ecg_matrix, distance = 'lcss', epsilon = 0.1))\n",
    "ecg_lcss_sax_q12 <- as.matrix(TSDatabaseDistances(X = ecg_SAX_q12_matrix[,c(-1,-2)], distance = 'lcss', epsilon = 0.1))\n",
    "ecg_lcss_sax_q6 <- as.matrix(TSDatabaseDistances(X = ecg_SAX_q6_matrix[,c(-1,-2)], distance = 'lcss', epsilon = 0.1))\n",
    "ecg_lcss_RegTree_d3 <- as.matrix(TSDatabaseDistances(X = ecg_RegTree_d3_matrix[,c(-1,-2)], distance = 'lcss', epsilon = 0.1))\n",
    "ecg_lcss_RegTree_d4 <- as.matrix(TSDatabaseDistances(X = ecg_RegTree_d4_matrix[,c(-1,-2)], distance = 'lcss', epsilon = 0.1))\n",
    "#str(ecg_lcss_sax_q12)"
   ]
  },
  {
   "cell_type": "markdown",
   "id": "dd4de499",
   "metadata": {},
   "source": [
    "### ERP"
   ]
  },
  {
   "cell_type": "code",
   "execution_count": 11,
   "id": "9a86d226",
   "metadata": {},
   "outputs": [],
   "source": [
    "ecg_erp_raw <- as.matrix(TSDatabaseDistances(X = ecg_matrix, distance = 'erp', g = 0))\n",
    "ecg_erp_sax_q12 <- as.matrix(TSDatabaseDistances(X = ecg_SAX_q12_matrix[,c(-1,-2)], distance = 'erp', g = 0))\n",
    "ecg_erp_sax_q6 <- as.matrix(TSDatabaseDistances(X = ecg_SAX_q6_matrix[,c(-1,-2)], distance = 'erp', g = 0))\n",
    "ecg_erp_RegTree_d3 <- as.matrix(TSDatabaseDistances(X = ecg_RegTree_d3_matrix[,c(-1,-2)], distance = 'erp', g = 0))\n",
    "ecg_erp_RegTree_d4 <- as.matrix(TSDatabaseDistances(X = ecg_RegTree_d4_matrix[,c(-1,-2)], distance = 'erp', g = 0))\n",
    "#str(ecg_erp_sax_q12)"
   ]
  },
  {
   "cell_type": "markdown",
   "id": "e866b00d",
   "metadata": {},
   "source": [
    "## Generating Runs\n",
    "\n",
    "After building the distance matrices, each model's performance is measured using the 10-fold stratified cross validation with 5 repeats.\n",
    "\n",
    "### Cross-Validation Runs"
   ]
  },
  {
   "cell_type": "code",
   "execution_count": 12,
   "id": "7e513af7",
   "metadata": {
    "scrolled": true
   },
   "outputs": [
    {
     "name": "stdout",
     "output_type": "stream",
     "text": [
      "List of 5\n",
      " $ Run  1:List of 10\n",
      "  ..$ Fold  1 : int [1:10] 84 20 44 98 39 64 21 51 95 37\n",
      "  ..$ Fold  2 : int [1:10] 97 91 87 42 30 59 67 69 34 99\n",
      "  ..$ Fold  3 : int [1:10] 85 58 45 29 88 9 92 56 100 82\n",
      "  ..$ Fold  4 : int [1:10] 54 86 48 16 40 13 61 46 25 27\n",
      "  ..$ Fold  5 : int [1:10] 1 66 19 93 52 96 38 79 74 80\n",
      "  ..$ Fold  6 : int [1:10] 15 62 8 33 68 31 77 26 83 5\n",
      "  ..$ Fold  7 : int [1:10] 73 57 89 70 60 76 53 10 90 81\n",
      "  ..$ Fold  8 : int [1:10] 24 4 3 71 23 18 14 43 32 75\n",
      "  ..$ Fold  9 : int [1:10] 28 7 94 11 35 6 78 22 55 2\n",
      "  ..$ Fold  10: int [1:10] 50 36 47 65 12 63 17 72 49 41\n",
      " $ Run  2:List of 10\n",
      "  ..$ Fold  1 : int [1:10] 97 19 89 94 42 12 52 6 33 55\n",
      "  ..$ Fold  2 : int [1:10] 66 57 4 21 23 37 53 76 56 35\n",
      "  ..$ Fold  3 : int [1:10] 50 58 45 75 63 49 13 18 68 81\n",
      "  ..$ Fold  4 : int [1:10] 1 91 20 22 31 100 95 64 41 27\n",
      "  ..$ Fold  5 : int [1:10] 54 62 98 26 46 40 88 29 99 38\n",
      "  ..$ Fold  6 : int [1:10] 3 86 84 72 11 9 71 30 60 51\n",
      "  ..$ Fold  7 : int [1:10] 7 8 85 17 77 78 74 2 59 83\n",
      "  ..$ Fold  8 : int [1:10] 24 36 47 67 96 14 79 80 5 34\n",
      "  ..$ Fold  9 : int [1:10] 44 73 15 70 43 69 93 32 10 25\n",
      "  ..$ Fold  10: int [1:10] 87 48 28 61 39 16 65 92 90 82\n",
      " $ Run  3:List of 10\n",
      "  ..$ Fold  1 : int [1:10] 66 24 19 44 65 70 17 67 93 100\n",
      "  ..$ Fold  2 : int [1:10] 86 7 20 29 39 22 38 9 96 63\n",
      "  ..$ Fold  3 : int [1:10] 54 97 45 51 78 30 18 56 80 95\n",
      "  ..$ Fold  4 : int [1:10] 4 57 15 60 82 55 5 33 77 13\n",
      "  ..$ Fold  5 : int [1:10] 47 3 94 16 23 34 10 52 69 11\n",
      "  ..$ Fold  6 : int [1:10] 62 73 84 43 76 12 41 46 21 59\n",
      "  ..$ Fold  7 : int [1:10] 8 87 91 81 25 64 40 26 35 49\n",
      "  ..$ Fold  8 : int [1:10] 89 28 1 53 79 74 75 14 68 92\n",
      "  ..$ Fold  9 : int [1:10] 36 48 98 72 31 83 37 71 90 6\n",
      "  ..$ Fold  10: int [1:10] 58 85 50 42 99 27 88 2 61 32\n",
      " $ Run  4:List of 10\n",
      "  ..$ Fold  1 : int [1:10] 58 91 66 19 35 31 18 82 69 26\n",
      "  ..$ Fold  2 : int [1:10] 24 89 62 100 33 13 38 30 70 59\n",
      "  ..$ Fold  3 : int [1:10] 84 50 8 29 5 46 25 23 61 81\n",
      "  ..$ Fold  4 : int [1:10] 28 85 94 9 51 22 49 74 6 14\n",
      "  ..$ Fold  5 : int [1:10] 45 86 15 95 99 76 72 80 55 39\n",
      "  ..$ Fold  6 : int [1:10] 4 98 97 52 37 16 41 90 42 88\n",
      "  ..$ Fold  7 : int [1:10] 36 54 47 63 67 96 12 43 92 68\n",
      "  ..$ Fold  8 : int [1:10] 3 57 73 53 21 83 40 77 79 56\n",
      "  ..$ Fold  9 : int [1:10] 48 7 44 78 10 32 71 27 64 17\n",
      "  ..$ Fold  10: int [1:10] 1 20 87 75 34 2 93 11 65 60\n",
      " $ Run  5:List of 10\n",
      "  ..$ Fold  1 : int [1:10] 15 4 91 7 96 11 16 81 27 46\n",
      "  ..$ Fold  2 : int [1:10] 73 62 36 88 10 90 51 43 70 78\n",
      "  ..$ Fold  3 : int [1:10] 87 85 45 100 79 32 93 69 9 60\n",
      "  ..$ Fold  4 : int [1:10] 97 57 47 74 37 6 31 30 21 82\n",
      "  ..$ Fold  5 : int [1:10] 66 20 50 18 59 17 5 23 95 53\n",
      "  ..$ Fold  6 : int [1:10] 19 98 94 63 12 2 64 22 13 38\n",
      "  ..$ Fold  7 : int [1:10] 54 89 28 29 61 25 39 41 80 83\n",
      "  ..$ Fold  8 : int [1:10] 44 86 3 40 26 52 42 92 71 72\n",
      "  ..$ Fold  9 : int [1:10] 1 8 48 76 65 67 49 56 99 34\n",
      "  ..$ Fold  10: int [1:10] 84 24 58 77 14 55 75 68 35 33\n"
     ]
    }
   ],
   "source": [
    "set.seed(12435)\n",
    "cv_indices = generateCVRuns(ecg_class, ntimes = 5, nfold = 10, \n",
    "                            leaveOneOut = FALSE, stratified = TRUE)\n",
    "str(cv_indices)"
   ]
  },
  {
   "cell_type": "markdown",
   "id": "85a86fbf",
   "metadata": {},
   "source": [
    "### k-NN Classifier"
   ]
  },
  {
   "cell_type": "code",
   "execution_count": 13,
   "id": "fac95c0d",
   "metadata": {},
   "outputs": [],
   "source": [
    "nn_classify_cv=function(dist_matrix,train_class,test_indices,k=1){\n",
    "    \n",
    "    test_distances_to_train=dist_matrix[test_indices,]\n",
    "    test_distances_to_train=test_distances_to_train[,-test_indices]\n",
    "    train_class=train_class[-test_indices]\n",
    "    ordered_indices=apply(test_distances_to_train,1,order)\n",
    "    \n",
    "    if(k==1){\n",
    "        nearest_class=as.numeric(train_class[as.numeric(ordered_indices[1,])])\n",
    "        nearest_class=data.table(id=test_indices,nearest_class)\n",
    "    } else {\n",
    "        nearest_class=apply(ordered_indices[1:k,],2,function(x) {train_class[x]})\n",
    "        nearest_class=data.table(id=test_indices,t(nearest_class))\n",
    "    }\n",
    "    \n",
    "    long_nn_class=melt(nearest_class,'id')\n",
    "\n",
    "    class_counts=long_nn_class[,.N,list(id,value)]\n",
    "    class_counts[,predicted_prob:=N/k]\n",
    "    wide_class_prob_predictions=dcast(class_counts,id~value,value.var='predicted_prob')\n",
    "    wide_class_prob_predictions[is.na(wide_class_prob_predictions)]=0\n",
    "    class_predictions=class_counts[,list(predicted=value[which.max(N)]),by=list(id)]\n",
    "    \n",
    "    \n",
    "    return(list(prediction=class_predictions,prob_estimates=wide_class_prob_predictions))\n",
    "    \n",
    "}"
   ]
  },
  {
   "cell_type": "markdown",
   "id": "3659f5b7",
   "metadata": {},
   "source": [
    "### Testing the Models"
   ]
  },
  {
   "cell_type": "code",
   "execution_count": 14,
   "id": "34e359fc",
   "metadata": {},
   "outputs": [],
   "source": [
    "#approach_file=list.files(dist_folder)\n",
    "dist = list(ecg_euclidean_raw,\n",
    "            ecg_euclidean_sax_q12,\n",
    "            ecg_euclidean_sax_q6,\n",
    "            ecg_euclidean_RegTree_d3,\n",
    "            ecg_euclidean_RegTree_d4,\n",
    "            ecg_dtw_raw,\n",
    "            ecg_dtw_sax_q12,\n",
    "            ecg_dtw_sax_q6,\n",
    "            ecg_dtw_RegTree_d3,\n",
    "            ecg_dtw_RegTree_d4,\n",
    "            ecg_lcss_raw,\n",
    "            ecg_lcss_sax_q6,\n",
    "            ecg_lcss_sax_q12,\n",
    "            ecg_lcss_RegTree_d3,\n",
    "            ecg_lcss_RegTree_d4,\n",
    "            ecg_erp_raw,\n",
    "            ecg_erp_sax_q6,\n",
    "            ecg_erp_sax_q12,\n",
    "            ecg_erp_RegTree_d3,\n",
    "            ecg_erp_RegTree_d4)\n",
    "\n",
    "n_dist = 15\n",
    "nof_rep = 5\n",
    "n_fold = 10\n",
    "k_levels=c(1,3,5)\n",
    "result = vector('list',n_dist*nof_rep*n_fold*length(k_levels))\n",
    "iter = 1\n",
    "names = c(\"ecg_euclidean_raw\",\"ecg_euclidean_sax_q12\",\"ecg_euclidean_sax_q6\",\n",
    "         \"ecg_euclidean_RegTree_d3\",\"ecg_euclidean_RegTree_d4\",\n",
    "         \"ecg_dtw_raw\",\"ecg_dtw_sax_q12\",\"ecg_dtw_sax_q6\",\"ecg_dtw_RegTree_d3\",\n",
    "         \"ecg_dtw_RegTree_d4\",\"ecg_lcss_raw\",\"ecg_lcss_sax_q6\",\"ecg_lcss_sax_q12\",\n",
    "         \"ecg_lcss_RegTree_d3\",\"ecg_lcss_RegTree_d4\",\"ecg_erp_raw\",\"ecg_erp_sax_q6\",\n",
    "         \"ecg_erp_sax_q12\",\"ecg_erp_RegTree_d3\",\"ecg_erp_RegTree_d4\")"
   ]
  },
  {
   "cell_type": "code",
   "execution_count": 18,
   "id": "1467b7d8",
   "metadata": {},
   "outputs": [],
   "source": [
    "CrossValidationTrain <- function(dist,cv_index, train_class){\n",
    "    n_dist = 20\n",
    "    nof_rep = 5\n",
    "    n_fold = 10\n",
    "    k_levels=c(1,3,5)\n",
    "\n",
    "    for(m in 1:n_dist){ #\n",
    "        current_dist = dist[[m]]\n",
    "        for(i in 1:nof_rep){\n",
    "            this_fold=cv_index[[i]]\n",
    "            for(j in 1:n_fold){\n",
    "                test_indices=this_fold[[j]]\n",
    "                for(k in 1:length(k_levels)){\n",
    "                    current_k=k_levels[k]\n",
    "                    current_fold=nn_classify_cv(current_dist,train_class,test_indices,k=current_k)\n",
    "                    accuracy=sum(train_class[test_indices]==current_fold$prediction$predicted)/length(test_indices)\n",
    "                    tmp=data.table(approach=names[[m]],repid=i,foldid=j,\n",
    "                                   k=current_k,acc=accuracy)\n",
    "                    \n",
    "                    result[[iter]]=tmp\n",
    "                    iter=iter+1\n",
    "                }\n",
    "            }\n",
    "        }   \n",
    "    }\n",
    "    return(result)\n",
    "}"
   ]
  },
  {
   "cell_type": "markdown",
   "id": "a71e8433",
   "metadata": {},
   "source": [
    "Mean and standart deviation of each model is reported below. The best performing model is Euclidean distance on the raw time series with a 3-NN classifier. Its mean accuracy is 89.2%."
   ]
  },
  {
   "cell_type": "code",
   "execution_count": 19,
   "id": "00f09e9a",
   "metadata": {},
   "outputs": [
    {
     "data": {
      "text/html": [
       "<table class=\"dataframe\">\n",
       "<caption>A data.table: 60 × 4</caption>\n",
       "<thead>\n",
       "\t<tr><th scope=col>approach</th><th scope=col>k</th><th scope=col>Mean</th><th scope=col>SD</th></tr>\n",
       "\t<tr><th scope=col>&lt;chr&gt;</th><th scope=col>&lt;dbl&gt;</th><th scope=col>&lt;dbl&gt;</th><th scope=col>&lt;dbl&gt;</th></tr>\n",
       "</thead>\n",
       "<tbody>\n",
       "\t<tr><td>ecg_euclidean_raw       </td><td>3</td><td>0.892</td><td>0.08533248</td></tr>\n",
       "\t<tr><td>ecg_euclidean_RegTree_d4</td><td>3</td><td>0.870</td><td>0.09741558</td></tr>\n",
       "\t<tr><td>ecg_euclidean_raw       </td><td>5</td><td>0.868</td><td>0.10961901</td></tr>\n",
       "\t<tr><td>ecg_euclidean_RegTree_d3</td><td>3</td><td>0.834</td><td>0.11885508</td></tr>\n",
       "\t<tr><td>ecg_euclidean_sax_q6    </td><td>3</td><td>0.828</td><td>0.11073041</td></tr>\n",
       "\t<tr><td>ecg_erp_RegTree_d3      </td><td>3</td><td>0.826</td><td>0.11572310</td></tr>\n",
       "\t<tr><td>ecg_euclidean_sax_q6    </td><td>5</td><td>0.824</td><td>0.11876920</td></tr>\n",
       "\t<tr><td>ecg_dtw_RegTree_d4      </td><td>3</td><td>0.820</td><td>0.12289036</td></tr>\n",
       "\t<tr><td>ecg_dtw_sax_q6          </td><td>5</td><td>0.816</td><td>0.09337220</td></tr>\n",
       "\t<tr><td>ecg_euclidean_RegTree_d4</td><td>5</td><td>0.814</td><td>0.13402711</td></tr>\n",
       "\t<tr><td>ecg_erp_RegTree_d3      </td><td>5</td><td>0.814</td><td>0.11430357</td></tr>\n",
       "\t<tr><td>ecg_erp_RegTree_d4      </td><td>5</td><td>0.812</td><td>0.10811936</td></tr>\n",
       "\t<tr><td>ecg_erp_sax_q6          </td><td>3</td><td>0.810</td><td>0.10738069</td></tr>\n",
       "\t<tr><td>ecg_euclidean_sax_q12   </td><td>5</td><td>0.802</td><td>0.14068346</td></tr>\n",
       "\t<tr><td>ecg_euclidean_RegTree_d3</td><td>5</td><td>0.802</td><td>0.13323296</td></tr>\n",
       "\t<tr><td>ecg_dtw_sax_q6          </td><td>3</td><td>0.802</td><td>0.08204031</td></tr>\n",
       "\t<tr><td>ecg_erp_RegTree_d4      </td><td>3</td><td>0.800</td><td>0.11605769</td></tr>\n",
       "\t<tr><td>ecg_erp_raw             </td><td>3</td><td>0.800</td><td>0.14568627</td></tr>\n",
       "\t<tr><td>ecg_euclidean_sax_q12   </td><td>3</td><td>0.798</td><td>0.13775163</td></tr>\n",
       "\t<tr><td>ecg_dtw_raw             </td><td>3</td><td>0.790</td><td>0.13131983</td></tr>\n",
       "\t<tr><td>ecg_erp_raw             </td><td>5</td><td>0.790</td><td>0.13887301</td></tr>\n",
       "\t<tr><td>ecg_dtw_RegTree_d4      </td><td>5</td><td>0.784</td><td>0.12013598</td></tr>\n",
       "\t<tr><td>ecg_dtw_RegTree_d3      </td><td>5</td><td>0.780</td><td>0.11952286</td></tr>\n",
       "\t<tr><td>ecg_dtw_RegTree_d3      </td><td>3</td><td>0.776</td><td>0.12215748</td></tr>\n",
       "\t<tr><td>ecg_erp_sax_q6          </td><td>5</td><td>0.776</td><td>0.10012237</td></tr>\n",
       "\t<tr><td>ecg_dtw_sax_q12         </td><td>5</td><td>0.772</td><td>0.12783918</td></tr>\n",
       "\t<tr><td>ecg_dtw_sax_q12         </td><td>3</td><td>0.768</td><td>0.12195683</td></tr>\n",
       "\t<tr><td>ecg_erp_sax_q12         </td><td>3</td><td>0.754</td><td>0.13433130</td></tr>\n",
       "\t<tr><td>ecg_dtw_raw             </td><td>5</td><td>0.754</td><td>0.15281041</td></tr>\n",
       "\t<tr><td>ecg_erp_sax_q12         </td><td>5</td><td>0.732</td><td>0.12687773</td></tr>\n",
       "\t<tr><td>ecg_lcss_raw            </td><td>1</td><td>0.634</td><td>0.07722218</td></tr>\n",
       "\t<tr><td>ecg_lcss_sax_q12        </td><td>5</td><td>0.488</td><td>0.14518110</td></tr>\n",
       "\t<tr><td>ecg_lcss_sax_q6         </td><td>3</td><td>0.470</td><td>0.14742691</td></tr>\n",
       "\t<tr><td>ecg_lcss_RegTree_d3     </td><td>5</td><td>0.456</td><td>0.13874069</td></tr>\n",
       "\t<tr><td>ecg_lcss_RegTree_d3     </td><td>1</td><td>0.450</td><td>0.12163847</td></tr>\n",
       "\t<tr><td>ecg_lcss_RegTree_d4     </td><td>1</td><td>0.450</td><td>0.11111678</td></tr>\n",
       "\t<tr><td>ecg_lcss_RegTree_d4     </td><td>3</td><td>0.448</td><td>0.14741307</td></tr>\n",
       "\t<tr><td>ecg_lcss_sax_q6         </td><td>1</td><td>0.416</td><td>0.13303368</td></tr>\n",
       "\t<tr><td>ecg_lcss_RegTree_d4     </td><td>5</td><td>0.412</td><td>0.14234193</td></tr>\n",
       "\t<tr><td>ecg_lcss_sax_q12        </td><td>3</td><td>0.412</td><td>0.14376852</td></tr>\n",
       "\t<tr><td>ecg_lcss_RegTree_d3     </td><td>3</td><td>0.406</td><td>0.13910795</td></tr>\n",
       "\t<tr><td>ecg_lcss_sax_q12        </td><td>1</td><td>0.404</td><td>0.16157389</td></tr>\n",
       "\t<tr><td>ecg_lcss_sax_q6         </td><td>5</td><td>0.402</td><td>0.12695813</td></tr>\n",
       "\t<tr><td>ecg_lcss_raw            </td><td>3</td><td>0.312</td><td>0.07461466</td></tr>\n",
       "\t<tr><td>ecg_lcss_raw            </td><td>5</td><td>0.312</td><td>0.09822922</td></tr>\n",
       "\t<tr><td>ecg_dtw_raw             </td><td>1</td><td>0.120</td><td>0.09897433</td></tr>\n",
       "\t<tr><td>ecg_erp_sax_q6          </td><td>1</td><td>0.110</td><td>0.09741558</td></tr>\n",
       "\t<tr><td>ecg_dtw_RegTree_d4      </td><td>1</td><td>0.102</td><td>0.09791708</td></tr>\n",
       "\t<tr><td>ecg_euclidean_sax_q12   </td><td>1</td><td>0.098</td><td>0.10398195</td></tr>\n",
       "\t<tr><td>ecg_erp_sax_q12         </td><td>1</td><td>0.096</td><td>0.09467452</td></tr>\n",
       "\t<tr><td>ecg_dtw_sax_q6          </td><td>1</td><td>0.088</td><td>0.08953394</td></tr>\n",
       "\t<tr><td>ecg_dtw_sax_q12         </td><td>1</td><td>0.086</td><td>0.09260405</td></tr>\n",
       "\t<tr><td>ecg_dtw_RegTree_d3      </td><td>1</td><td>0.084</td><td>0.08889342</td></tr>\n",
       "\t<tr><td>ecg_euclidean_sax_q6    </td><td>1</td><td>0.082</td><td>0.08002551</td></tr>\n",
       "\t<tr><td>ecg_erp_raw             </td><td>1</td><td>0.078</td><td>0.10554040</td></tr>\n",
       "\t<tr><td>ecg_euclidean_raw       </td><td>1</td><td>0.068</td><td>0.07938539</td></tr>\n",
       "\t<tr><td>ecg_erp_RegTree_d4      </td><td>1</td><td>0.066</td><td>0.08233828</td></tr>\n",
       "\t<tr><td>ecg_erp_RegTree_d3      </td><td>1</td><td>0.054</td><td>0.07615773</td></tr>\n",
       "\t<tr><td>ecg_euclidean_RegTree_d3</td><td>1</td><td>0.052</td><td>0.07623808</td></tr>\n",
       "\t<tr><td>ecg_euclidean_RegTree_d4</td><td>1</td><td>0.042</td><td>0.06727950</td></tr>\n",
       "</tbody>\n",
       "</table>\n"
      ],
      "text/latex": [
       "A data.table: 60 × 4\n",
       "\\begin{tabular}{llll}\n",
       " approach & k & Mean & SD\\\\\n",
       " <chr> & <dbl> & <dbl> & <dbl>\\\\\n",
       "\\hline\n",
       "\t ecg\\_euclidean\\_raw        & 3 & 0.892 & 0.08533248\\\\\n",
       "\t ecg\\_euclidean\\_RegTree\\_d4 & 3 & 0.870 & 0.09741558\\\\\n",
       "\t ecg\\_euclidean\\_raw        & 5 & 0.868 & 0.10961901\\\\\n",
       "\t ecg\\_euclidean\\_RegTree\\_d3 & 3 & 0.834 & 0.11885508\\\\\n",
       "\t ecg\\_euclidean\\_sax\\_q6     & 3 & 0.828 & 0.11073041\\\\\n",
       "\t ecg\\_erp\\_RegTree\\_d3       & 3 & 0.826 & 0.11572310\\\\\n",
       "\t ecg\\_euclidean\\_sax\\_q6     & 5 & 0.824 & 0.11876920\\\\\n",
       "\t ecg\\_dtw\\_RegTree\\_d4       & 3 & 0.820 & 0.12289036\\\\\n",
       "\t ecg\\_dtw\\_sax\\_q6           & 5 & 0.816 & 0.09337220\\\\\n",
       "\t ecg\\_euclidean\\_RegTree\\_d4 & 5 & 0.814 & 0.13402711\\\\\n",
       "\t ecg\\_erp\\_RegTree\\_d3       & 5 & 0.814 & 0.11430357\\\\\n",
       "\t ecg\\_erp\\_RegTree\\_d4       & 5 & 0.812 & 0.10811936\\\\\n",
       "\t ecg\\_erp\\_sax\\_q6           & 3 & 0.810 & 0.10738069\\\\\n",
       "\t ecg\\_euclidean\\_sax\\_q12    & 5 & 0.802 & 0.14068346\\\\\n",
       "\t ecg\\_euclidean\\_RegTree\\_d3 & 5 & 0.802 & 0.13323296\\\\\n",
       "\t ecg\\_dtw\\_sax\\_q6           & 3 & 0.802 & 0.08204031\\\\\n",
       "\t ecg\\_erp\\_RegTree\\_d4       & 3 & 0.800 & 0.11605769\\\\\n",
       "\t ecg\\_erp\\_raw              & 3 & 0.800 & 0.14568627\\\\\n",
       "\t ecg\\_euclidean\\_sax\\_q12    & 3 & 0.798 & 0.13775163\\\\\n",
       "\t ecg\\_dtw\\_raw              & 3 & 0.790 & 0.13131983\\\\\n",
       "\t ecg\\_erp\\_raw              & 5 & 0.790 & 0.13887301\\\\\n",
       "\t ecg\\_dtw\\_RegTree\\_d4       & 5 & 0.784 & 0.12013598\\\\\n",
       "\t ecg\\_dtw\\_RegTree\\_d3       & 5 & 0.780 & 0.11952286\\\\\n",
       "\t ecg\\_dtw\\_RegTree\\_d3       & 3 & 0.776 & 0.12215748\\\\\n",
       "\t ecg\\_erp\\_sax\\_q6           & 5 & 0.776 & 0.10012237\\\\\n",
       "\t ecg\\_dtw\\_sax\\_q12          & 5 & 0.772 & 0.12783918\\\\\n",
       "\t ecg\\_dtw\\_sax\\_q12          & 3 & 0.768 & 0.12195683\\\\\n",
       "\t ecg\\_erp\\_sax\\_q12          & 3 & 0.754 & 0.13433130\\\\\n",
       "\t ecg\\_dtw\\_raw              & 5 & 0.754 & 0.15281041\\\\\n",
       "\t ecg\\_erp\\_sax\\_q12          & 5 & 0.732 & 0.12687773\\\\\n",
       "\t ecg\\_lcss\\_raw             & 1 & 0.634 & 0.07722218\\\\\n",
       "\t ecg\\_lcss\\_sax\\_q12         & 5 & 0.488 & 0.14518110\\\\\n",
       "\t ecg\\_lcss\\_sax\\_q6          & 3 & 0.470 & 0.14742691\\\\\n",
       "\t ecg\\_lcss\\_RegTree\\_d3      & 5 & 0.456 & 0.13874069\\\\\n",
       "\t ecg\\_lcss\\_RegTree\\_d3      & 1 & 0.450 & 0.12163847\\\\\n",
       "\t ecg\\_lcss\\_RegTree\\_d4      & 1 & 0.450 & 0.11111678\\\\\n",
       "\t ecg\\_lcss\\_RegTree\\_d4      & 3 & 0.448 & 0.14741307\\\\\n",
       "\t ecg\\_lcss\\_sax\\_q6          & 1 & 0.416 & 0.13303368\\\\\n",
       "\t ecg\\_lcss\\_RegTree\\_d4      & 5 & 0.412 & 0.14234193\\\\\n",
       "\t ecg\\_lcss\\_sax\\_q12         & 3 & 0.412 & 0.14376852\\\\\n",
       "\t ecg\\_lcss\\_RegTree\\_d3      & 3 & 0.406 & 0.13910795\\\\\n",
       "\t ecg\\_lcss\\_sax\\_q12         & 1 & 0.404 & 0.16157389\\\\\n",
       "\t ecg\\_lcss\\_sax\\_q6          & 5 & 0.402 & 0.12695813\\\\\n",
       "\t ecg\\_lcss\\_raw             & 3 & 0.312 & 0.07461466\\\\\n",
       "\t ecg\\_lcss\\_raw             & 5 & 0.312 & 0.09822922\\\\\n",
       "\t ecg\\_dtw\\_raw              & 1 & 0.120 & 0.09897433\\\\\n",
       "\t ecg\\_erp\\_sax\\_q6           & 1 & 0.110 & 0.09741558\\\\\n",
       "\t ecg\\_dtw\\_RegTree\\_d4       & 1 & 0.102 & 0.09791708\\\\\n",
       "\t ecg\\_euclidean\\_sax\\_q12    & 1 & 0.098 & 0.10398195\\\\\n",
       "\t ecg\\_erp\\_sax\\_q12          & 1 & 0.096 & 0.09467452\\\\\n",
       "\t ecg\\_dtw\\_sax\\_q6           & 1 & 0.088 & 0.08953394\\\\\n",
       "\t ecg\\_dtw\\_sax\\_q12          & 1 & 0.086 & 0.09260405\\\\\n",
       "\t ecg\\_dtw\\_RegTree\\_d3       & 1 & 0.084 & 0.08889342\\\\\n",
       "\t ecg\\_euclidean\\_sax\\_q6     & 1 & 0.082 & 0.08002551\\\\\n",
       "\t ecg\\_erp\\_raw              & 1 & 0.078 & 0.10554040\\\\\n",
       "\t ecg\\_euclidean\\_raw        & 1 & 0.068 & 0.07938539\\\\\n",
       "\t ecg\\_erp\\_RegTree\\_d4       & 1 & 0.066 & 0.08233828\\\\\n",
       "\t ecg\\_erp\\_RegTree\\_d3       & 1 & 0.054 & 0.07615773\\\\\n",
       "\t ecg\\_euclidean\\_RegTree\\_d3 & 1 & 0.052 & 0.07623808\\\\\n",
       "\t ecg\\_euclidean\\_RegTree\\_d4 & 1 & 0.042 & 0.06727950\\\\\n",
       "\\end{tabular}\n"
      ],
      "text/markdown": [
       "\n",
       "A data.table: 60 × 4\n",
       "\n",
       "| approach &lt;chr&gt; | k &lt;dbl&gt; | Mean &lt;dbl&gt; | SD &lt;dbl&gt; |\n",
       "|---|---|---|---|\n",
       "| ecg_euclidean_raw        | 3 | 0.892 | 0.08533248 |\n",
       "| ecg_euclidean_RegTree_d4 | 3 | 0.870 | 0.09741558 |\n",
       "| ecg_euclidean_raw        | 5 | 0.868 | 0.10961901 |\n",
       "| ecg_euclidean_RegTree_d3 | 3 | 0.834 | 0.11885508 |\n",
       "| ecg_euclidean_sax_q6     | 3 | 0.828 | 0.11073041 |\n",
       "| ecg_erp_RegTree_d3       | 3 | 0.826 | 0.11572310 |\n",
       "| ecg_euclidean_sax_q6     | 5 | 0.824 | 0.11876920 |\n",
       "| ecg_dtw_RegTree_d4       | 3 | 0.820 | 0.12289036 |\n",
       "| ecg_dtw_sax_q6           | 5 | 0.816 | 0.09337220 |\n",
       "| ecg_euclidean_RegTree_d4 | 5 | 0.814 | 0.13402711 |\n",
       "| ecg_erp_RegTree_d3       | 5 | 0.814 | 0.11430357 |\n",
       "| ecg_erp_RegTree_d4       | 5 | 0.812 | 0.10811936 |\n",
       "| ecg_erp_sax_q6           | 3 | 0.810 | 0.10738069 |\n",
       "| ecg_euclidean_sax_q12    | 5 | 0.802 | 0.14068346 |\n",
       "| ecg_euclidean_RegTree_d3 | 5 | 0.802 | 0.13323296 |\n",
       "| ecg_dtw_sax_q6           | 3 | 0.802 | 0.08204031 |\n",
       "| ecg_erp_RegTree_d4       | 3 | 0.800 | 0.11605769 |\n",
       "| ecg_erp_raw              | 3 | 0.800 | 0.14568627 |\n",
       "| ecg_euclidean_sax_q12    | 3 | 0.798 | 0.13775163 |\n",
       "| ecg_dtw_raw              | 3 | 0.790 | 0.13131983 |\n",
       "| ecg_erp_raw              | 5 | 0.790 | 0.13887301 |\n",
       "| ecg_dtw_RegTree_d4       | 5 | 0.784 | 0.12013598 |\n",
       "| ecg_dtw_RegTree_d3       | 5 | 0.780 | 0.11952286 |\n",
       "| ecg_dtw_RegTree_d3       | 3 | 0.776 | 0.12215748 |\n",
       "| ecg_erp_sax_q6           | 5 | 0.776 | 0.10012237 |\n",
       "| ecg_dtw_sax_q12          | 5 | 0.772 | 0.12783918 |\n",
       "| ecg_dtw_sax_q12          | 3 | 0.768 | 0.12195683 |\n",
       "| ecg_erp_sax_q12          | 3 | 0.754 | 0.13433130 |\n",
       "| ecg_dtw_raw              | 5 | 0.754 | 0.15281041 |\n",
       "| ecg_erp_sax_q12          | 5 | 0.732 | 0.12687773 |\n",
       "| ecg_lcss_raw             | 1 | 0.634 | 0.07722218 |\n",
       "| ecg_lcss_sax_q12         | 5 | 0.488 | 0.14518110 |\n",
       "| ecg_lcss_sax_q6          | 3 | 0.470 | 0.14742691 |\n",
       "| ecg_lcss_RegTree_d3      | 5 | 0.456 | 0.13874069 |\n",
       "| ecg_lcss_RegTree_d3      | 1 | 0.450 | 0.12163847 |\n",
       "| ecg_lcss_RegTree_d4      | 1 | 0.450 | 0.11111678 |\n",
       "| ecg_lcss_RegTree_d4      | 3 | 0.448 | 0.14741307 |\n",
       "| ecg_lcss_sax_q6          | 1 | 0.416 | 0.13303368 |\n",
       "| ecg_lcss_RegTree_d4      | 5 | 0.412 | 0.14234193 |\n",
       "| ecg_lcss_sax_q12         | 3 | 0.412 | 0.14376852 |\n",
       "| ecg_lcss_RegTree_d3      | 3 | 0.406 | 0.13910795 |\n",
       "| ecg_lcss_sax_q12         | 1 | 0.404 | 0.16157389 |\n",
       "| ecg_lcss_sax_q6          | 5 | 0.402 | 0.12695813 |\n",
       "| ecg_lcss_raw             | 3 | 0.312 | 0.07461466 |\n",
       "| ecg_lcss_raw             | 5 | 0.312 | 0.09822922 |\n",
       "| ecg_dtw_raw              | 1 | 0.120 | 0.09897433 |\n",
       "| ecg_erp_sax_q6           | 1 | 0.110 | 0.09741558 |\n",
       "| ecg_dtw_RegTree_d4       | 1 | 0.102 | 0.09791708 |\n",
       "| ecg_euclidean_sax_q12    | 1 | 0.098 | 0.10398195 |\n",
       "| ecg_erp_sax_q12          | 1 | 0.096 | 0.09467452 |\n",
       "| ecg_dtw_sax_q6           | 1 | 0.088 | 0.08953394 |\n",
       "| ecg_dtw_sax_q12          | 1 | 0.086 | 0.09260405 |\n",
       "| ecg_dtw_RegTree_d3       | 1 | 0.084 | 0.08889342 |\n",
       "| ecg_euclidean_sax_q6     | 1 | 0.082 | 0.08002551 |\n",
       "| ecg_erp_raw              | 1 | 0.078 | 0.10554040 |\n",
       "| ecg_euclidean_raw        | 1 | 0.068 | 0.07938539 |\n",
       "| ecg_erp_RegTree_d4       | 1 | 0.066 | 0.08233828 |\n",
       "| ecg_erp_RegTree_d3       | 1 | 0.054 | 0.07615773 |\n",
       "| ecg_euclidean_RegTree_d3 | 1 | 0.052 | 0.07623808 |\n",
       "| ecg_euclidean_RegTree_d4 | 1 | 0.042 | 0.06727950 |\n",
       "\n"
      ],
      "text/plain": [
       "   approach                 k Mean  SD        \n",
       "1  ecg_euclidean_raw        3 0.892 0.08533248\n",
       "2  ecg_euclidean_RegTree_d4 3 0.870 0.09741558\n",
       "3  ecg_euclidean_raw        5 0.868 0.10961901\n",
       "4  ecg_euclidean_RegTree_d3 3 0.834 0.11885508\n",
       "5  ecg_euclidean_sax_q6     3 0.828 0.11073041\n",
       "6  ecg_erp_RegTree_d3       3 0.826 0.11572310\n",
       "7  ecg_euclidean_sax_q6     5 0.824 0.11876920\n",
       "8  ecg_dtw_RegTree_d4       3 0.820 0.12289036\n",
       "9  ecg_dtw_sax_q6           5 0.816 0.09337220\n",
       "10 ecg_euclidean_RegTree_d4 5 0.814 0.13402711\n",
       "11 ecg_erp_RegTree_d3       5 0.814 0.11430357\n",
       "12 ecg_erp_RegTree_d4       5 0.812 0.10811936\n",
       "13 ecg_erp_sax_q6           3 0.810 0.10738069\n",
       "14 ecg_euclidean_sax_q12    5 0.802 0.14068346\n",
       "15 ecg_euclidean_RegTree_d3 5 0.802 0.13323296\n",
       "16 ecg_dtw_sax_q6           3 0.802 0.08204031\n",
       "17 ecg_erp_RegTree_d4       3 0.800 0.11605769\n",
       "18 ecg_erp_raw              3 0.800 0.14568627\n",
       "19 ecg_euclidean_sax_q12    3 0.798 0.13775163\n",
       "20 ecg_dtw_raw              3 0.790 0.13131983\n",
       "21 ecg_erp_raw              5 0.790 0.13887301\n",
       "22 ecg_dtw_RegTree_d4       5 0.784 0.12013598\n",
       "23 ecg_dtw_RegTree_d3       5 0.780 0.11952286\n",
       "24 ecg_dtw_RegTree_d3       3 0.776 0.12215748\n",
       "25 ecg_erp_sax_q6           5 0.776 0.10012237\n",
       "26 ecg_dtw_sax_q12          5 0.772 0.12783918\n",
       "27 ecg_dtw_sax_q12          3 0.768 0.12195683\n",
       "28 ecg_erp_sax_q12          3 0.754 0.13433130\n",
       "29 ecg_dtw_raw              5 0.754 0.15281041\n",
       "30 ecg_erp_sax_q12          5 0.732 0.12687773\n",
       "31 ecg_lcss_raw             1 0.634 0.07722218\n",
       "32 ecg_lcss_sax_q12         5 0.488 0.14518110\n",
       "33 ecg_lcss_sax_q6          3 0.470 0.14742691\n",
       "34 ecg_lcss_RegTree_d3      5 0.456 0.13874069\n",
       "35 ecg_lcss_RegTree_d3      1 0.450 0.12163847\n",
       "36 ecg_lcss_RegTree_d4      1 0.450 0.11111678\n",
       "37 ecg_lcss_RegTree_d4      3 0.448 0.14741307\n",
       "38 ecg_lcss_sax_q6          1 0.416 0.13303368\n",
       "39 ecg_lcss_RegTree_d4      5 0.412 0.14234193\n",
       "40 ecg_lcss_sax_q12         3 0.412 0.14376852\n",
       "41 ecg_lcss_RegTree_d3      3 0.406 0.13910795\n",
       "42 ecg_lcss_sax_q12         1 0.404 0.16157389\n",
       "43 ecg_lcss_sax_q6          5 0.402 0.12695813\n",
       "44 ecg_lcss_raw             3 0.312 0.07461466\n",
       "45 ecg_lcss_raw             5 0.312 0.09822922\n",
       "46 ecg_dtw_raw              1 0.120 0.09897433\n",
       "47 ecg_erp_sax_q6           1 0.110 0.09741558\n",
       "48 ecg_dtw_RegTree_d4       1 0.102 0.09791708\n",
       "49 ecg_euclidean_sax_q12    1 0.098 0.10398195\n",
       "50 ecg_erp_sax_q12          1 0.096 0.09467452\n",
       "51 ecg_dtw_sax_q6           1 0.088 0.08953394\n",
       "52 ecg_dtw_sax_q12          1 0.086 0.09260405\n",
       "53 ecg_dtw_RegTree_d3       1 0.084 0.08889342\n",
       "54 ecg_euclidean_sax_q6     1 0.082 0.08002551\n",
       "55 ecg_erp_raw              1 0.078 0.10554040\n",
       "56 ecg_euclidean_raw        1 0.068 0.07938539\n",
       "57 ecg_erp_RegTree_d4       1 0.066 0.08233828\n",
       "58 ecg_erp_RegTree_d3       1 0.054 0.07615773\n",
       "59 ecg_euclidean_RegTree_d3 1 0.052 0.07623808\n",
       "60 ecg_euclidean_RegTree_d4 1 0.042 0.06727950"
      ]
     },
     "metadata": {},
     "output_type": "display_data"
    }
   ],
   "source": [
    "result_ecg = CrossValidationTrain(dist,cv_indices, ecg_class)\n",
    "result_ecg = rbindlist(result_ecg)\n",
    "\n",
    "results_summary <- result_ecg[,.(Mean = mean(acc),SD = sd(acc)),.(approach,k)]\n",
    "results_summary[order(-Mean)]"
   ]
  },
  {
   "cell_type": "markdown",
   "id": "468f9b5d",
   "metadata": {},
   "source": [
    "## Testing"
   ]
  },
  {
   "cell_type": "code",
   "execution_count": 21,
   "id": "5d8e962f",
   "metadata": {},
   "outputs": [],
   "source": [
    "test_data_path=sprintf('%s/%s/%s_TEST.txt',getwd(),dataset,dataset)\n",
    "\n",
    "ecg_train = fread(train_data_path)\n",
    "ecg_test = fread(test_data_path)\n",
    "\n",
    "ecg_test <- setnames(ecg_test, \"V1\", \"Class\")\n",
    "ecg_train <- setnames(ecg_train, \"V1\", \"Class\")\n",
    "\n",
    "ecg_test <- data.table(ecg_test)\n",
    "ecg_train <- data.table(ecg_train)\n",
    "\n",
    "ecg_test[, \"ID\" := (1:.N)+100]\n",
    "ecg_test[, \"Class\" := as.factor(Class)]\n",
    "ecg_train[, \"ID\" := (1:.N)]\n",
    "ecg_train[, \"Class\" := as.factor(Class)]\n",
    "\n",
    "ecg_comb <- rbindlist(list(ecg_train,ecg_test),use.names = TRUE)\n",
    "\n",
    "setcolorder(ecg_comb, c(\"ID\", \"Class\"))\n",
    "colnames(ecg_comb) <- c(\"ID\", \"Class\",seq(1:96))\n",
    "ecg_comb_matrix <- as.matrix(ecg_comb[,c(-1,-2)])\n",
    "ecg_comb_long <- melt(ecg_comb,id.vars = c(\"ID\",\"Class\"))\n",
    "ecg_comb_long[,variable := as.numeric(variable)]\n",
    "ecg_comb_class <- ecg_comb$Class\n",
    "\n",
    "test_index_final = seq(101,200)\n",
    "\n",
    "ecg_comb_euclidean_raw <- as.matrix(dist(as.matrix(ecg_comb_matrix)))\n",
    "\n",
    "overall_result <- nn_classify_cv(ecg_comb_euclidean_raw,ecg_comb_class,test_index_final,k=3)"
   ]
  },
  {
   "cell_type": "markdown",
   "id": "62de4498",
   "metadata": {},
   "source": [
    "Finally, the best performing model is used to classify the test data and its test accuracy is 90.00%\n",
    "\n",
    "Summary of the best performing model is as follows:"
   ]
  },
  {
   "cell_type": "code",
   "execution_count": 23,
   "id": "2cf2f70f",
   "metadata": {},
   "outputs": [
    {
     "data": {
      "text/html": [
       "0.9"
      ],
      "text/latex": [
       "0.9"
      ],
      "text/markdown": [
       "0.9"
      ],
      "text/plain": [
       "[1] 0.9"
      ]
     },
     "metadata": {},
     "output_type": "display_data"
    }
   ],
   "source": [
    "Test_Accuracy <- sum(ecg_comb_class[test_index_final]==overall_result$prediction$predicted)/length(test_index_final)\n",
    "Test_Accuracy"
   ]
  },
  {
   "cell_type": "code",
   "execution_count": 24,
   "id": "3072433f",
   "metadata": {},
   "outputs": [
    {
     "data": {
      "text/html": [
       "<table class=\"dataframe\">\n",
       "<caption>A data.frame: 1 × 6</caption>\n",
       "<thead>\n",
       "\t<tr><th scope=col>Dataset</th><th scope=col>Cross_Validation_Mean_Accuracy</th><th scope=col>Test_Accuracy</th><th scope=col>Distance</th><th scope=col>Representation</th><th scope=col>K</th></tr>\n",
       "\t<tr><th scope=col>&lt;chr&gt;</th><th scope=col>&lt;dbl&gt;</th><th scope=col>&lt;dbl&gt;</th><th scope=col>&lt;chr&gt;</th><th scope=col>&lt;chr&gt;</th><th scope=col>&lt;chr&gt;</th></tr>\n",
       "</thead>\n",
       "<tbody>\n",
       "\t<tr><td>ECG200</td><td>0.892</td><td>0.9</td><td>Euclidean</td><td>Raw</td><td>3</td></tr>\n",
       "</tbody>\n",
       "</table>\n"
      ],
      "text/latex": [
       "A data.frame: 1 × 6\n",
       "\\begin{tabular}{llllll}\n",
       " Dataset & Cross\\_Validation\\_Mean\\_Accuracy & Test\\_Accuracy & Distance & Representation & K\\\\\n",
       " <chr> & <dbl> & <dbl> & <chr> & <chr> & <chr>\\\\\n",
       "\\hline\n",
       "\t ECG200 & 0.892 & 0.9 & Euclidean & Raw & 3\\\\\n",
       "\\end{tabular}\n"
      ],
      "text/markdown": [
       "\n",
       "A data.frame: 1 × 6\n",
       "\n",
       "| Dataset &lt;chr&gt; | Cross_Validation_Mean_Accuracy &lt;dbl&gt; | Test_Accuracy &lt;dbl&gt; | Distance &lt;chr&gt; | Representation &lt;chr&gt; | K &lt;chr&gt; |\n",
       "|---|---|---|---|---|---|\n",
       "| ECG200 | 0.892 | 0.9 | Euclidean | Raw | 3 |\n",
       "\n"
      ],
      "text/plain": [
       "  Dataset Cross_Validation_Mean_Accuracy Test_Accuracy Distance  Representation\n",
       "1 ECG200  0.892                          0.9           Euclidean Raw           \n",
       "  K\n",
       "1 3"
      ]
     },
     "metadata": {},
     "output_type": "display_data"
    }
   ],
   "source": [
    "Dataset <- \"ECG200\"\n",
    "Cross_Validation_Mean_Accuracy <- max(results_summary$Mean)\n",
    "Distance = 'Euclidean'\n",
    "Representation = 'Raw'\n",
    "K = '3'\n",
    "df <- data.frame(Dataset,Cross_Validation_Mean_Accuracy,Test_Accuracy,Distance,Representation,K)\n",
    "df"
   ]
  }
 ],
 "metadata": {
  "kernelspec": {
   "display_name": "R",
   "language": "R",
   "name": "ir"
  },
  "language_info": {
   "codemirror_mode": "r",
   "file_extension": ".r",
   "mimetype": "text/x-r-source",
   "name": "R",
   "pygments_lexer": "r",
   "version": "4.1.2"
  }
 },
 "nbformat": 4,
 "nbformat_minor": 5
}
